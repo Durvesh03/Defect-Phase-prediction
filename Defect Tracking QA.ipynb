{
 "cells": [
  {
   "cell_type": "code",
   "execution_count": 131,
   "metadata": {},
   "outputs": [],
   "source": [
    "import numpy as np\n",
    "import pandas as pd\n",
    "pd.set_option('display.max_columns', None)\n",
    "pd.set_option('display.max_rows',100)\n",
    "import warnings\n",
    "warnings.simplefilter('ignore')\n",
    "import plotly.express as px\n",
    "import plotly.graph_objs as go\n",
    "from wordcloud import WordCloud\n",
    "import matplotlib.pyplot as plt\n",
    "import seaborn as sns"
   ]
  },
  {
   "cell_type": "code",
   "execution_count": 127,
   "metadata": {},
   "outputs": [],
   "source": [
    "from sklearn.preprocessing import LabelEncoder,StandardScaler\n",
    "from sklearn.model_selection import train_test_split,cross_val_score,ShuffleSplit\n",
    "from imblearn.over_sampling import SMOTE\n",
    "from sklearn.tree import DecisionTreeClassifier\n",
    "from sklearn.ensemble import RandomForestClassifier, RandomForestRegressor\n",
    "from xgboost import XGBClassifier\n",
    "from sklearn.cluster import KMeans\n",
    "from sklearn.decomposition import PCA\n",
    "from sklearn.metrics import accuracy_score,f1_score,classification_report,roc_auc_score\n",
    "from nltk.stem import WordNetLemmatizer\n",
    "import re\n",
    "from nltk.corpus import stopwords\n",
    "from sklearn.feature_extraction.text import CountVectorizer,TfidfVectorizer\n",
    "from tqdm import tqdm"
   ]
  },
  {
   "cell_type": "code",
   "execution_count": 73,
   "metadata": {},
   "outputs": [],
   "source": [
    "DefectDF = pd.read_excel('Defects_Data.xlsx')"
   ]
  },
  {
   "cell_type": "code",
   "execution_count": 74,
   "metadata": {},
   "outputs": [],
   "source": [
    "DefectDF.set_index('Defect ID',inplace = True)"
   ]
  },
  {
   "cell_type": "code",
   "execution_count": 75,
   "metadata": {},
   "outputs": [
    {
     "data": {
      "text/html": [
       "<div>\n",
       "<style scoped>\n",
       "    .dataframe tbody tr th:only-of-type {\n",
       "        vertical-align: middle;\n",
       "    }\n",
       "\n",
       "    .dataframe tbody tr th {\n",
       "        vertical-align: top;\n",
       "    }\n",
       "\n",
       "    .dataframe thead th {\n",
       "        text-align: right;\n",
       "    }\n",
       "</style>\n",
       "<table border=\"1\" class=\"dataframe\">\n",
       "  <thead>\n",
       "    <tr style=\"text-align: right;\">\n",
       "      <th></th>\n",
       "      <th>Defect Summary</th>\n",
       "      <th>Detected By</th>\n",
       "      <th>Detection Date</th>\n",
       "      <th>Subject</th>\n",
       "      <th>Status</th>\n",
       "      <th>Severity</th>\n",
       "      <th>Priority</th>\n",
       "      <th>Assigned to</th>\n",
       "      <th>Actual Fix Time</th>\n",
       "      <th>Closing Date</th>\n",
       "      <th>Dev Comments</th>\n",
       "      <th>Detected in Phase</th>\n",
       "      <th>Root Cause</th>\n",
       "      <th>Detected in Cycle</th>\n",
       "      <th>Application under Test</th>\n",
       "      <th>Description</th>\n",
       "    </tr>\n",
       "    <tr>\n",
       "      <th>Defect ID</th>\n",
       "      <th></th>\n",
       "      <th></th>\n",
       "      <th></th>\n",
       "      <th></th>\n",
       "      <th></th>\n",
       "      <th></th>\n",
       "      <th></th>\n",
       "      <th></th>\n",
       "      <th></th>\n",
       "      <th></th>\n",
       "      <th></th>\n",
       "      <th></th>\n",
       "      <th></th>\n",
       "      <th></th>\n",
       "      <th></th>\n",
       "      <th></th>\n",
       "    </tr>\n",
       "  </thead>\n",
       "  <tbody>\n",
       "    <tr>\n",
       "      <th>1</th>\n",
       "      <td>ABCD 1231: Status coming on Web UI is different</td>\n",
       "      <td>MarthaN</td>\n",
       "      <td>2020-08-01</td>\n",
       "      <td>ABCD 1231 : Web UI Validation</td>\n",
       "      <td>Closed</td>\n",
       "      <td>3 - Non-Critical</td>\n",
       "      <td>2 - Medium</td>\n",
       "      <td>JonasK</td>\n",
       "      <td>3</td>\n",
       "      <td>2020-08-04</td>\n",
       "      <td>Time is an endless loop. So we need time to fi...</td>\n",
       "      <td>SIT</td>\n",
       "      <td>Technical constraints</td>\n",
       "      <td>SIT1</td>\n",
       "      <td>WEB1</td>\n",
       "      <td>Status shown is declined instead of approved</td>\n",
       "    </tr>\n",
       "    <tr>\n",
       "      <th>2</th>\n",
       "      <td>ABCD 1231: Field is missing on Web UI</td>\n",
       "      <td>HannahK</td>\n",
       "      <td>2017-10-12</td>\n",
       "      <td>ABCD 1231 : Web UI Validation</td>\n",
       "      <td>Awaiting Retest</td>\n",
       "      <td>2 - Critical</td>\n",
       "      <td>1 - High</td>\n",
       "      <td>NoahMC</td>\n",
       "      <td>4</td>\n",
       "      <td>2017-10-16</td>\n",
       "      <td>Decision machine is down</td>\n",
       "      <td>PAT</td>\n",
       "      <td>Code</td>\n",
       "      <td>SIT2</td>\n",
       "      <td>WEB2</td>\n",
       "      <td>Field A is missing on Web UI</td>\n",
       "    </tr>\n",
       "    <tr>\n",
       "      <th>3</th>\n",
       "      <td>ABCD 1231: Field is added on Web UI</td>\n",
       "      <td>UlrichN</td>\n",
       "      <td>2017-04-19</td>\n",
       "      <td>ABCD 1231 : Web UI Validation</td>\n",
       "      <td>Deferred</td>\n",
       "      <td>1 - Showstopper</td>\n",
       "      <td>1 - High</td>\n",
       "      <td>AdamMC</td>\n",
       "      <td>6</td>\n",
       "      <td>2017-04-25</td>\n",
       "      <td>CB Pull is down</td>\n",
       "      <td>PROD</td>\n",
       "      <td>Data</td>\n",
       "      <td>UAT1</td>\n",
       "      <td>WEB3</td>\n",
       "      <td>Field A is added on UI</td>\n",
       "    </tr>\n",
       "    <tr>\n",
       "      <th>4</th>\n",
       "      <td>ABCD 1231: Field value is different on Web UI</td>\n",
       "      <td>AgnesN</td>\n",
       "      <td>2016-11-01</td>\n",
       "      <td>ABCD 1231 : Web UI Validation</td>\n",
       "      <td>Fixed</td>\n",
       "      <td>4 - Live with</td>\n",
       "      <td>3 - Low</td>\n",
       "      <td>HelgeD</td>\n",
       "      <td>13</td>\n",
       "      <td>2016-11-14</td>\n",
       "      <td>MQ is down</td>\n",
       "      <td>UAT</td>\n",
       "      <td>Design</td>\n",
       "      <td>UAT2</td>\n",
       "      <td>WEB4</td>\n",
       "      <td>Field A is showing different value</td>\n",
       "    </tr>\n",
       "    <tr>\n",
       "      <th>5</th>\n",
       "      <td>ABCD 1231: Field value is different on Web UI</td>\n",
       "      <td>ClaudiaT</td>\n",
       "      <td>2016-03-07</td>\n",
       "      <td>ABCD 1231 : Web UI Validation</td>\n",
       "      <td>Monitor</td>\n",
       "      <td>2 - Critical</td>\n",
       "      <td>1 - High</td>\n",
       "      <td>AleksanderT</td>\n",
       "      <td>7</td>\n",
       "      <td>2016-03-14</td>\n",
       "      <td>We are looking for the root cause</td>\n",
       "      <td>DIT</td>\n",
       "      <td>Development Documentation</td>\n",
       "      <td>Sprint1</td>\n",
       "      <td>Windows1</td>\n",
       "      <td>Field A is showing different value</td>\n",
       "    </tr>\n",
       "  </tbody>\n",
       "</table>\n",
       "</div>"
      ],
      "text/plain": [
       "                                            Defect Summary Detected By  \\\n",
       "Defect ID                                                                \n",
       "1          ABCD 1231: Status coming on Web UI is different     MarthaN   \n",
       "2                    ABCD 1231: Field is missing on Web UI     HannahK   \n",
       "3                      ABCD 1231: Field is added on Web UI     UlrichN   \n",
       "4            ABCD 1231: Field value is different on Web UI      AgnesN   \n",
       "5            ABCD 1231: Field value is different on Web UI    ClaudiaT   \n",
       "\n",
       "          Detection Date                        Subject           Status  \\\n",
       "Defect ID                                                                  \n",
       "1             2020-08-01  ABCD 1231 : Web UI Validation           Closed   \n",
       "2             2017-10-12  ABCD 1231 : Web UI Validation  Awaiting Retest   \n",
       "3             2017-04-19  ABCD 1231 : Web UI Validation         Deferred   \n",
       "4             2016-11-01  ABCD 1231 : Web UI Validation            Fixed   \n",
       "5             2016-03-07  ABCD 1231 : Web UI Validation          Monitor   \n",
       "\n",
       "                   Severity    Priority  Assigned to  Actual Fix Time  \\\n",
       "Defect ID                                                               \n",
       "1          3 - Non-Critical  2 - Medium       JonasK                3   \n",
       "2              2 - Critical    1 - High       NoahMC                4   \n",
       "3           1 - Showstopper    1 - High       AdamMC                6   \n",
       "4             4 - Live with     3 - Low       HelgeD               13   \n",
       "5              2 - Critical    1 - High  AleksanderT                7   \n",
       "\n",
       "          Closing Date                                       Dev Comments  \\\n",
       "Defect ID                                                                   \n",
       "1           2020-08-04  Time is an endless loop. So we need time to fi...   \n",
       "2           2017-10-16                           Decision machine is down   \n",
       "3           2017-04-25                                    CB Pull is down   \n",
       "4           2016-11-14                                         MQ is down   \n",
       "5           2016-03-14                  We are looking for the root cause   \n",
       "\n",
       "          Detected in Phase                 Root Cause Detected in Cycle  \\\n",
       "Defect ID                                                                  \n",
       "1                       SIT      Technical constraints              SIT1   \n",
       "2                       PAT                       Code              SIT2   \n",
       "3                      PROD                       Data              UAT1   \n",
       "4                       UAT                     Design              UAT2   \n",
       "5                       DIT  Development Documentation           Sprint1   \n",
       "\n",
       "          Application under Test                                   Description  \n",
       "Defect ID                                                                       \n",
       "1                           WEB1  Status shown is declined instead of approved  \n",
       "2                           WEB2                  Field A is missing on Web UI  \n",
       "3                           WEB3                        Field A is added on UI  \n",
       "4                           WEB4            Field A is showing different value  \n",
       "5                       Windows1            Field A is showing different value  "
      ]
     },
     "execution_count": 75,
     "metadata": {},
     "output_type": "execute_result"
    }
   ],
   "source": [
    "DefectDF.head()"
   ]
  },
  {
   "cell_type": "code",
   "execution_count": 94,
   "metadata": {},
   "outputs": [
    {
     "data": {
      "text/plain": [
       "Defect Summary            0\n",
       "Detected By               0\n",
       "Detection Date            0\n",
       "Subject                   0\n",
       "Status                    0\n",
       "Severity                  0\n",
       "Priority                  0\n",
       "Assigned to               0\n",
       "Actual Fix Time           0\n",
       "Closing Date              0\n",
       "Dev Comments              0\n",
       "Detected in Phase         0\n",
       "Root Cause                0\n",
       "Detected in Cycle         0\n",
       "Application under Test    0\n",
       "Description               0\n",
       "dtype: int64"
      ]
     },
     "execution_count": 94,
     "metadata": {},
     "output_type": "execute_result"
    }
   ],
   "source": [
    "DefectDF.isnull().sum()"
   ]
  },
  {
   "cell_type": "markdown",
   "metadata": {},
   "source": [
    "# EDA"
   ]
  },
  {
   "cell_type": "code",
   "execution_count": 95,
   "metadata": {},
   "outputs": [
    {
     "data": {
      "text/plain": [
       "Text(0.5, 1.0, '.............Top Testers................')"
      ]
     },
     "execution_count": 95,
     "metadata": {},
     "output_type": "execute_result"
    },
    {
     "data": {
      "image/png": "[encoded data removed]",
      "text/plain": [
       "<Figure size 432x288 with 1 Axes>"
      ]
     },
     "metadata": {
      "needs_background": "light"
     },
     "output_type": "display_data"
    }
   ],
   "source": [
    "#plt.figure(figsize=(20,10))\n",
    "DefectDF['Detected By'].value_counts().sort_values(ascending=False).head(7).plot(kind='bar')\n",
    "plt.title('.............Top Testers................')"
   ]
  },
  {
   "cell_type": "code",
   "execution_count": 96,
   "metadata": {},
   "outputs": [
    {
     "data": {
      "text/plain": [
       "Text(0.5, 1.0, '.............Top Developers who get assigned to the defect................')"
      ]
     },
     "execution_count": 96,
     "metadata": {},
     "output_type": "execute_result"
    },
    {
     "data": {
      "image/png": "[encoded data removed]",
      "text/plain": [
       "<Figure size 432x288 with 1 Axes>"
      ]
     },
     "metadata": {
      "needs_background": "light"
     },
     "output_type": "display_data"
    }
   ],
   "source": [
    "DefectDF['Assigned to'].value_counts().sort_values(ascending=False).head(7).plot(kind='bar')\n",
    "plt.title('.............Top Developers who get assigned to the defect................')"
   ]
  },
  {
   "cell_type": "code",
   "execution_count": 97,
   "metadata": {},
   "outputs": [
    {
     "data": {
      "text/plain": [
       "Text(0.5, 1.0, '.............Applications having defects in PROD................')"
      ]
     },
     "execution_count": 97,
     "metadata": {},
     "output_type": "execute_result"
    },
    {
     "data": {
      "image/png": "[encoded data removed]",
      "text/plain": [
       "<Figure size 432x288 with 1 Axes>"
      ]
     },
     "metadata": {
      "needs_background": "light"
     },
     "output_type": "display_data"
    }
   ],
   "source": [
    "DefectDF[DefectDF['Detected in Phase']=='PROD']['Application under Test'].value_counts().sort_values(ascending=False).plot(kind='bar')\n",
    "plt.title('.............Applications having defects in PROD................')"
   ]
  },
  {
   "cell_type": "code",
   "execution_count": 76,
   "metadata": {},
   "outputs": [],
   "source": [
    "DefectDF['year'] = pd.DatetimeIndex(DefectDF[\"Detection Date\"]).year"
   ]
  },
  {
   "cell_type": "code",
   "execution_count": 77,
   "metadata": {},
   "outputs": [
    {
     "data": {
      "application/vnd.plotly.v1+json": {
       "config": {
        "plotlyServerURL": "https://plot.ly"
       },
       "data": [
        {
         "hovertemplate": "Application under Test=Windows4<br>year=%{x}<br>count=%{y}<extra></extra>",
         "legendgroup": "Windows4",
         "line": {
          "color": "#636efa",
          "dash": "solid"
         },
         "mode": "lines",
         "name": "Windows4",
         "showlegend": true,
         "type": "scatter",
         "x": [
          2016,
          2016,
          2016,
          2016,
          2016,
          2017,
          2018,
          2018,
          2018,
          2019,
          2019,
          2020,
          2020,
          2020,
          2020,
          2020
         ],
         "xaxis": "x",
         "y": [
          5,
          5,
          5,
          5,
          5,
          1,
          3,
          3,
          3,
          2,
          2,
          5,
          5,
          5,
          5,
          5
         ],
         "yaxis": "y"
        },
        {
         "hovertemplate": "Application under Test=WEB3<br>year=%{x}<br>count=%{y}<extra></extra>",
         "legendgroup": "WEB3",
         "line": {
          "color": "#EF553B",
          "dash": "solid"
         },
         "mode": "lines",
         "name": "WEB3",
         "showlegend": true,
         "type": "scatter",
         "x": [
          2016,
          2016,
          2016,
          2017,
          2017,
          2018,
          2019,
          2019
         ],
         "xaxis": "x",
         "y": [
          3,
          3,
          3,
          2,
          2,
          1,
          2,
          2
         ],
         "yaxis": "y"
        },
        {
         "hovertemplate": "Application under Test=Windows1<br>year=%{x}<br>count=%{y}<extra></extra>",
         "legendgroup": "Windows1",
         "line": {
          "color": "#00cc96",
          "dash": "solid"
         },
         "mode": "lines",
         "name": "Windows1",
         "showlegend": true,
         "type": "scatter",
         "x": [
          2016,
          2016,
          2016,
          2016,
          2017,
          2017,
          2017,
          2018,
          2018,
          2019,
          2019,
          2019,
          2020,
          2020,
          2020
         ],
         "xaxis": "x",
         "y": [
          4,
          4,
          4,
          4,
          3,
          3,
          3,
          2,
          2,
          3,
          3,
          3,
          3,
          3,
          3
         ],
         "yaxis": "y"
        },
        {
         "hovertemplate": "Application under Test=WEB1<br>year=%{x}<br>count=%{y}<extra></extra>",
         "legendgroup": "WEB1",
         "line": {
          "color": "#ab63fa",
          "dash": "solid"
         },
         "mode": "lines",
         "name": "WEB1",
         "showlegend": true,
         "type": "scatter",
         "x": [
          2016,
          2016,
          2016,
          2017,
          2017,
          2017,
          2017,
          2017,
          2017,
          2018,
          2018,
          2018,
          2019,
          2019,
          2019,
          2019,
          2019,
          2020,
          2020
         ],
         "xaxis": "x",
         "y": [
          3,
          3,
          3,
          6,
          6,
          6,
          6,
          6,
          6,
          3,
          3,
          3,
          5,
          5,
          5,
          5,
          5,
          2,
          2
         ],
         "yaxis": "y"
        },
        {
         "hovertemplate": "Application under Test=Windows5<br>year=%{x}<br>count=%{y}<extra></extra>",
         "legendgroup": "Windows5",
         "line": {
          "color": "#FFA15A",
          "dash": "solid"
         },
         "mode": "lines",
         "name": "Windows5",
         "showlegend": true,
         "type": "scatter",
         "x": [
          2016,
          2016,
          2017,
          2017,
          2017,
          2019,
          2020,
          2020
         ],
         "xaxis": "x",
         "y": [
          2,
          2,
          3,
          3,
          3,
          1,
          2,
          2
         ],
         "yaxis": "y"
        },
        {
         "hovertemplate": "Application under Test=WEB2<br>year=%{x}<br>count=%{y}<extra></extra>",
         "legendgroup": "WEB2",
         "line": {
          "color": "#19d3f3",
          "dash": "solid"
         },
         "mode": "lines",
         "name": "WEB2",
         "showlegend": true,
         "type": "scatter",
         "x": [
          2016,
          2016,
          2016,
          2016,
          2017,
          2017,
          2017,
          2017,
          2018,
          2018,
          2018,
          2019,
          2019,
          2019,
          2019,
          2019,
          2019,
          2020,
          2020,
          2020,
          2020,
          2020,
          2020,
          2020,
          2020,
          2020,
          2020
         ],
         "xaxis": "x",
         "y": [
          4,
          4,
          4,
          4,
          4,
          4,
          4,
          4,
          3,
          3,
          3,
          6,
          6,
          6,
          6,
          6,
          6,
          10,
          10,
          10,
          10,
          10,
          10,
          10,
          10,
          10,
          10
         ],
         "yaxis": "y"
        },
        {
         "hovertemplate": "Application under Test=WEB4<br>year=%{x}<br>count=%{y}<extra></extra>",
         "legendgroup": "WEB4",
         "line": {
          "color": "#FF6692",
          "dash": "solid"
         },
         "mode": "lines",
         "name": "WEB4",
         "showlegend": true,
         "type": "scatter",
         "x": [
          2016
         ],
         "xaxis": "x",
         "y": [
          1
         ],
         "yaxis": "y"
        },
        {
         "hovertemplate": "Application under Test=Windows2<br>year=%{x}<br>count=%{y}<extra></extra>",
         "legendgroup": "Windows2",
         "line": {
          "color": "#B6E880",
          "dash": "solid"
         },
         "mode": "lines",
         "name": "Windows2",
         "showlegend": true,
         "type": "scatter",
         "x": [
          2016,
          2017,
          2017,
          2017,
          2019
         ],
         "xaxis": "x",
         "y": [
          1,
          3,
          3,
          3,
          1
         ],
         "yaxis": "y"
        },
        {
         "hovertemplate": "Application under Test=Windows3<br>year=%{x}<br>count=%{y}<extra></extra>",
         "legendgroup": "Windows3",
         "line": {
          "color": "#FF97FF",
          "dash": "solid"
         },
         "mode": "lines",
         "name": "Windows3",
         "showlegend": true,
         "type": "scatter",
         "x": [
          2019
         ],
         "xaxis": "x",
         "y": [
          1
         ],
         "yaxis": "y"
        }
       ],
       "layout": {
        "height": 400,
        "legend": {
         "title": {
          "text": "Application under Test"
         },
         "tracegroupgap": 0
        },
        "template": {
         "data": {
          "bar": [
           {
            "error_x": {
             "color": "#2a3f5f"
            },
            "error_y": {
             "color": "#2a3f5f"
            },
            "marker": {
             "line": {
              "color": "#E5ECF6",
              "width": 0.5
             }
            },
            "type": "bar"
           }
          ],
          "barpolar": [
           {
            "marker": {
             "line": {
              "color": "#E5ECF6",
              "width": 0.5
             }
            },
            "type": "barpolar"
           }
          ],
          "carpet": [
           {
            "aaxis": {
             "endlinecolor": "#2a3f5f",
             "gridcolor": "white",
             "linecolor": "white",
             "minorgridcolor": "white",
             "startlinecolor": "#2a3f5f"
            },
            "baxis": {
             "endlinecolor": "#2a3f5f",
             "gridcolor": "white",
             "linecolor": "white",
             "minorgridcolor": "white",
             "startlinecolor": "#2a3f5f"
            },
            "type": "carpet"
           }
          ],
          "choropleth": [
           {
            "colorbar": {
             "outlinewidth": 0,
             "ticks": ""
            },
            "type": "choropleth"
           }
          ],
          "contour": [
           {
            "colorbar": {
             "outlinewidth": 0,
             "ticks": ""
            },
            "colorscale": [
             [
              0,
              "#0d0887"
             ],
             [
              0.1111111111111111,
              "#46039f"
             ],
             [
              0.2222222222222222,
              "#7201a8"
             ],
             [
              0.3333333333333333,
              "#9c179e"
             ],
             [
              0.4444444444444444,
              "#bd3786"
             ],
             [
              0.5555555555555556,
              "#d8576b"
             ],
             [
              0.6666666666666666,
              "#ed7953"
             ],
             [
              0.7777777777777778,
              "#fb9f3a"
             ],
             [
              0.8888888888888888,
              "#fdca26"
             ],
             [
              1,
              "#f0f921"
             ]
            ],
            "type": "contour"
           }
          ],
          "contourcarpet": [
           {
            "colorbar": {
             "outlinewidth": 0,
             "ticks": ""
            },
            "type": "contourcarpet"
           }
          ],
          "heatmap": [
           {
            "colorbar": {
             "outlinewidth": 0,
             "ticks": ""
            },
            "colorscale": [
             [
              0,
              "#0d0887"
             ],
             [
              0.1111111111111111,
              "#46039f"
             ],
             [
              0.2222222222222222,
              "#7201a8"
             ],
             [
              0.3333333333333333,
              "#9c179e"
             ],
             [
              0.4444444444444444,
              "#bd3786"
             ],
             [
              0.5555555555555556,
              "#d8576b"
             ],
             [
              0.6666666666666666,
              "#ed7953"
             ],
             [
              0.7777777777777778,
              "#fb9f3a"
             ],
             [
              0.8888888888888888,
              "#fdca26"
             ],
             [
              1,
              "#f0f921"
             ]
            ],
            "type": "heatmap"
           }
          ],
          "heatmapgl": [
           {
            "colorbar": {
             "outlinewidth": 0,
             "ticks": ""
            },
            "colorscale": [
             [
              0,
              "#0d0887"
             ],
             [
              0.1111111111111111,
              "#46039f"
             ],
             [
              0.2222222222222222,
              "#7201a8"
             ],
             [
              0.3333333333333333,
              "#9c179e"
             ],
             [
              0.4444444444444444,
              "#bd3786"
             ],
             [
              0.5555555555555556,
              "#d8576b"
             ],
             [
              0.6666666666666666,
              "#ed7953"
             ],
             [
              0.7777777777777778,
              "#fb9f3a"
             ],
             [
              0.8888888888888888,
              "#fdca26"
             ],
             [
              1,
              "#f0f921"
             ]
            ],
            "type": "heatmapgl"
           }
          ],
          "histogram": [
           {
            "marker": {
             "colorbar": {
              "outlinewidth": 0,
              "ticks": ""
             }
            },
            "type": "histogram"
           }
          ],
          "histogram2d": [
           {
            "colorbar": {
             "outlinewidth": 0,
             "ticks": ""
            },
            "colorscale": [
             [
              0,
              "#0d0887"
             ],
             [
              0.1111111111111111,
              "#46039f"
             ],
             [
              0.2222222222222222,
              "#7201a8"
             ],
             [
              0.3333333333333333,
              "#9c179e"
             ],
             [
              0.4444444444444444,
              "#bd3786"
             ],
             [
              0.5555555555555556,
              "#d8576b"
             ],
             [
              0.6666666666666666,
              "#ed7953"
             ],
             [
              0.7777777777777778,
              "#fb9f3a"
             ],
             [
              0.8888888888888888,
              "#fdca26"
             ],
             [
              1,
              "#f0f921"
             ]
            ],
            "type": "histogram2d"
           }
          ],
          "histogram2dcontour": [
           {
            "colorbar": {
             "outlinewidth": 0,
             "ticks": ""
            },
            "colorscale": [
             [
              0,
              "#0d0887"
             ],
             [
              0.1111111111111111,
              "#46039f"
             ],
             [
              0.2222222222222222,
              "#7201a8"
             ],
             [
              0.3333333333333333,
              "#9c179e"
             ],
             [
              0.4444444444444444,
              "#bd3786"
             ],
             [
              0.5555555555555556,
              "#d8576b"
             ],
             [
              0.6666666666666666,
              "#ed7953"
             ],
             [
              0.7777777777777778,
              "#fb9f3a"
             ],
             [
              0.8888888888888888,
              "#fdca26"
             ],
             [
              1,
              "#f0f921"
             ]
            ],
            "type": "histogram2dcontour"
           }
          ],
          "mesh3d": [
           {
            "colorbar": {
             "outlinewidth": 0,
             "ticks": ""
            },
            "type": "mesh3d"
           }
          ],
          "parcoords": [
           {
            "line": {
             "colorbar": {
              "outlinewidth": 0,
              "ticks": ""
             }
            },
            "type": "parcoords"
           }
          ],
          "pie": [
           {
            "automargin": true,
            "type": "pie"
           }
          ],
          "scatter": [
           {
            "marker": {
             "colorbar": {
              "outlinewidth": 0,
              "ticks": ""
             }
            },
            "type": "scatter"
           }
          ],
          "scatter3d": [
           {
            "line": {
             "colorbar": {
              "outlinewidth": 0,
              "ticks": ""
             }
            },
            "marker": {
             "colorbar": {
              "outlinewidth": 0,
              "ticks": ""
             }
            },
            "type": "scatter3d"
           }
          ],
          "scattercarpet": [
           {
            "marker": {
             "colorbar": {
              "outlinewidth": 0,
              "ticks": ""
             }
            },
            "type": "scattercarpet"
           }
          ],
          "scattergeo": [
           {
            "marker": {
             "colorbar": {
              "outlinewidth": 0,
              "ticks": ""
             }
            },
            "type": "scattergeo"
           }
          ],
          "scattergl": [
           {
            "marker": {
             "colorbar": {
              "outlinewidth": 0,
              "ticks": ""
             }
            },
            "type": "scattergl"
           }
          ],
          "scattermapbox": [
           {
            "marker": {
             "colorbar": {
              "outlinewidth": 0,
              "ticks": ""
             }
            },
            "type": "scattermapbox"
           }
          ],
          "scatterpolar": [
           {
            "marker": {
             "colorbar": {
              "outlinewidth": 0,
              "ticks": ""
             }
            },
            "type": "scatterpolar"
           }
          ],
          "scatterpolargl": [
           {
            "marker": {
             "colorbar": {
              "outlinewidth": 0,
              "ticks": ""
             }
            },
            "type": "scatterpolargl"
           }
          ],
          "scatterternary": [
           {
            "marker": {
             "colorbar": {
              "outlinewidth": 0,
              "ticks": ""
             }
            },
            "type": "scatterternary"
           }
          ],
          "surface": [
           {
            "colorbar": {
             "outlinewidth": 0,
             "ticks": ""
            },
            "colorscale": [
             [
              0,
              "#0d0887"
             ],
             [
              0.1111111111111111,
              "#46039f"
             ],
             [
              0.2222222222222222,
              "#7201a8"
             ],
             [
              0.3333333333333333,
              "#9c179e"
             ],
             [
              0.4444444444444444,
              "#bd3786"
             ],
             [
              0.5555555555555556,
              "#d8576b"
             ],
             [
              0.6666666666666666,
              "#ed7953"
             ],
             [
              0.7777777777777778,
              "#fb9f3a"
             ],
             [
              0.8888888888888888,
              "#fdca26"
             ],
             [
              1,
              "#f0f921"
             ]
            ],
            "type": "surface"
           }
          ],
          "table": [
           {
            "cells": {
             "fill": {
              "color": "#EBF0F8"
             },
             "line": {
              "color": "white"
             }
            },
            "header": {
             "fill": {
              "color": "#C8D4E3"
             },
             "line": {
              "color": "white"
             }
            },
            "type": "table"
           }
          ]
         },
         "layout": {
          "annotationdefaults": {
           "arrowcolor": "#2a3f5f",
           "arrowhead": 0,
           "arrowwidth": 1
          },
          "coloraxis": {
           "colorbar": {
            "outlinewidth": 0,
            "ticks": ""
           }
          },
          "colorscale": {
           "diverging": [
            [
             0,
             "#8e0152"
            ],
            [
             0.1,
             "#c51b7d"
            ],
            [
             0.2,
             "#de77ae"
            ],
            [
             0.3,
             "#f1b6da"
            ],
            [
             0.4,
             "#fde0ef"
            ],
            [
             0.5,
             "#f7f7f7"
            ],
            [
             0.6,
             "#e6f5d0"
            ],
            [
             0.7,
             "#b8e186"
            ],
            [
             0.8,
             "#7fbc41"
            ],
            [
             0.9,
             "#4d9221"
            ],
            [
             1,
             "#276419"
            ]
           ],
           "sequential": [
            [
             0,
             "#0d0887"
            ],
            [
             0.1111111111111111,
             "#46039f"
            ],
            [
             0.2222222222222222,
             "#7201a8"
            ],
            [
             0.3333333333333333,
             "#9c179e"
            ],
            [
             0.4444444444444444,
             "#bd3786"
            ],
            [
             0.5555555555555556,
             "#d8576b"
            ],
            [
             0.6666666666666666,
             "#ed7953"
            ],
            [
             0.7777777777777778,
             "#fb9f3a"
            ],
            [
             0.8888888888888888,
             "#fdca26"
            ],
            [
             1,
             "#f0f921"
            ]
           ],
           "sequentialminus": [
            [
             0,
             "#0d0887"
            ],
            [
             0.1111111111111111,
             "#46039f"
            ],
            [
             0.2222222222222222,
             "#7201a8"
            ],
            [
             0.3333333333333333,
             "#9c179e"
            ],
            [
             0.4444444444444444,
             "#bd3786"
            ],
            [
             0.5555555555555556,
             "#d8576b"
            ],
            [
             0.6666666666666666,
             "#ed7953"
            ],
            [
             0.7777777777777778,
             "#fb9f3a"
            ],
            [
             0.8888888888888888,
             "#fdca26"
            ],
            [
             1,
             "#f0f921"
            ]
           ]
          },
          "colorway": [
           "#636efa",
           "#EF553B",
           "#00cc96",
           "#ab63fa",
           "#FFA15A",
           "#19d3f3",
           "#FF6692",
           "#B6E880",
           "#FF97FF",
           "#FECB52"
          ],
          "font": {
           "color": "#2a3f5f"
          },
          "geo": {
           "bgcolor": "white",
           "lakecolor": "white",
           "landcolor": "#E5ECF6",
           "showlakes": true,
           "showland": true,
           "subunitcolor": "white"
          },
          "hoverlabel": {
           "align": "left"
          },
          "hovermode": "closest",
          "mapbox": {
           "style": "light"
          },
          "paper_bgcolor": "white",
          "plot_bgcolor": "#E5ECF6",
          "polar": {
           "angularaxis": {
            "gridcolor": "white",
            "linecolor": "white",
            "ticks": ""
           },
           "bgcolor": "#E5ECF6",
           "radialaxis": {
            "gridcolor": "white",
            "linecolor": "white",
            "ticks": ""
           }
          },
          "scene": {
           "xaxis": {
            "backgroundcolor": "#E5ECF6",
            "gridcolor": "white",
            "gridwidth": 2,
            "linecolor": "white",
            "showbackground": true,
            "ticks": "",
            "zerolinecolor": "white"
           },
           "yaxis": {
            "backgroundcolor": "#E5ECF6",
            "gridcolor": "white",
            "gridwidth": 2,
            "linecolor": "white",
            "showbackground": true,
            "ticks": "",
            "zerolinecolor": "white"
           },
           "zaxis": {
            "backgroundcolor": "#E5ECF6",
            "gridcolor": "white",
            "gridwidth": 2,
            "linecolor": "white",
            "showbackground": true,
            "ticks": "",
            "zerolinecolor": "white"
           }
          },
          "shapedefaults": {
           "line": {
            "color": "#2a3f5f"
           }
          },
          "ternary": {
           "aaxis": {
            "gridcolor": "white",
            "linecolor": "white",
            "ticks": ""
           },
           "baxis": {
            "gridcolor": "white",
            "linecolor": "white",
            "ticks": ""
           },
           "bgcolor": "#E5ECF6",
           "caxis": {
            "gridcolor": "white",
            "linecolor": "white",
            "ticks": ""
           }
          },
          "title": {
           "x": 0.05
          },
          "xaxis": {
           "automargin": true,
           "gridcolor": "white",
           "linecolor": "white",
           "ticks": "",
           "title": {
            "standoff": 15
           },
           "zerolinecolor": "white",
           "zerolinewidth": 2
          },
          "yaxis": {
           "automargin": true,
           "gridcolor": "white",
           "linecolor": "white",
           "ticks": "",
           "title": {
            "standoff": 15
           },
           "zerolinecolor": "white",
           "zerolinewidth": 2
          }
         }
        },
        "title": {
         "text": "Defect Count Application wise"
        },
        "width": 700,
        "xaxis": {
         "anchor": "y",
         "domain": [
          0,
          1
         ],
         "title": {
          "text": "year"
         }
        },
        "yaxis": {
         "anchor": "x",
         "domain": [
          0,
          1
         ],
         "title": {
          "text": "count"
         }
        }
       }
      },
      "text/html": [
       "<div>\n",
       "        \n",
       "        \n",
       "            <div id=\"44fb1453-7ff7-4d83-ac94-bcc3451946a2\" class=\"plotly-graph-div\" style=\"height:400px; width:700px;\"></div>\n",
       "            <script type=\"text/javascript\">\n",
       "                require([\"plotly\"], function(Plotly) {\n",
       "                    window.PLOTLYENV=window.PLOTLYENV || {};\n",
       "                    \n",
       "                if (document.getElementById(\"44fb1453-7ff7-4d83-ac94-bcc3451946a2\")) {\n",
       "                    Plotly.newPlot(\n",
       "                        '44fb1453-7ff7-4d83-ac94-bcc3451946a2',\n",
       "                        [{\"hovertemplate\": \"Application under Test=Windows4<br>year=%{x}<br>count=%{y}<extra></extra>\", \"legendgroup\": \"Windows4\", \"line\": {\"color\": \"#636efa\", \"dash\": \"solid\"}, \"mode\": \"lines\", \"name\": \"Windows4\", \"showlegend\": true, \"type\": \"scatter\", \"x\": [2016, 2016, 2016, 2016, 2016, 2017, 2018, 2018, 2018, 2019, 2019, 2020, 2020, 2020, 2020, 2020], \"xaxis\": \"x\", \"y\": [5, 5, 5, 5, 5, 1, 3, 3, 3, 2, 2, 5, 5, 5, 5, 5], \"yaxis\": \"y\"}, {\"hovertemplate\": \"Application under Test=WEB3<br>year=%{x}<br>count=%{y}<extra></extra>\", \"legendgroup\": \"WEB3\", \"line\": {\"color\": \"#EF553B\", \"dash\": \"solid\"}, \"mode\": \"lines\", \"name\": \"WEB3\", \"showlegend\": true, \"type\": \"scatter\", \"x\": [2016, 2016, 2016, 2017, 2017, 2018, 2019, 2019], \"xaxis\": \"x\", \"y\": [3, 3, 3, 2, 2, 1, 2, 2], \"yaxis\": \"y\"}, {\"hovertemplate\": \"Application under Test=Windows1<br>year=%{x}<br>count=%{y}<extra></extra>\", \"legendgroup\": \"Windows1\", \"line\": {\"color\": \"#00cc96\", \"dash\": \"solid\"}, \"mode\": \"lines\", \"name\": \"Windows1\", \"showlegend\": true, \"type\": \"scatter\", \"x\": [2016, 2016, 2016, 2016, 2017, 2017, 2017, 2018, 2018, 2019, 2019, 2019, 2020, 2020, 2020], \"xaxis\": \"x\", \"y\": [4, 4, 4, 4, 3, 3, 3, 2, 2, 3, 3, 3, 3, 3, 3], \"yaxis\": \"y\"}, {\"hovertemplate\": \"Application under Test=WEB1<br>year=%{x}<br>count=%{y}<extra></extra>\", \"legendgroup\": \"WEB1\", \"line\": {\"color\": \"#ab63fa\", \"dash\": \"solid\"}, \"mode\": \"lines\", \"name\": \"WEB1\", \"showlegend\": true, \"type\": \"scatter\", \"x\": [2016, 2016, 2016, 2017, 2017, 2017, 2017, 2017, 2017, 2018, 2018, 2018, 2019, 2019, 2019, 2019, 2019, 2020, 2020], \"xaxis\": \"x\", \"y\": [3, 3, 3, 6, 6, 6, 6, 6, 6, 3, 3, 3, 5, 5, 5, 5, 5, 2, 2], \"yaxis\": \"y\"}, {\"hovertemplate\": \"Application under Test=Windows5<br>year=%{x}<br>count=%{y}<extra></extra>\", \"legendgroup\": \"Windows5\", \"line\": {\"color\": \"#FFA15A\", \"dash\": \"solid\"}, \"mode\": \"lines\", \"name\": \"Windows5\", \"showlegend\": true, \"type\": \"scatter\", \"x\": [2016, 2016, 2017, 2017, 2017, 2019, 2020, 2020], \"xaxis\": \"x\", \"y\": [2, 2, 3, 3, 3, 1, 2, 2], \"yaxis\": \"y\"}, {\"hovertemplate\": \"Application under Test=WEB2<br>year=%{x}<br>count=%{y}<extra></extra>\", \"legendgroup\": \"WEB2\", \"line\": {\"color\": \"#19d3f3\", \"dash\": \"solid\"}, \"mode\": \"lines\", \"name\": \"WEB2\", \"showlegend\": true, \"type\": \"scatter\", \"x\": [2016, 2016, 2016, 2016, 2017, 2017, 2017, 2017, 2018, 2018, 2018, 2019, 2019, 2019, 2019, 2019, 2019, 2020, 2020, 2020, 2020, 2020, 2020, 2020, 2020, 2020, 2020], \"xaxis\": \"x\", \"y\": [4, 4, 4, 4, 4, 4, 4, 4, 3, 3, 3, 6, 6, 6, 6, 6, 6, 10, 10, 10, 10, 10, 10, 10, 10, 10, 10], \"yaxis\": \"y\"}, {\"hovertemplate\": \"Application under Test=WEB4<br>year=%{x}<br>count=%{y}<extra></extra>\", \"legendgroup\": \"WEB4\", \"line\": {\"color\": \"#FF6692\", \"dash\": \"solid\"}, \"mode\": \"lines\", \"name\": \"WEB4\", \"showlegend\": true, \"type\": \"scatter\", \"x\": [2016], \"xaxis\": \"x\", \"y\": [1], \"yaxis\": \"y\"}, {\"hovertemplate\": \"Application under Test=Windows2<br>year=%{x}<br>count=%{y}<extra></extra>\", \"legendgroup\": \"Windows2\", \"line\": {\"color\": \"#B6E880\", \"dash\": \"solid\"}, \"mode\": \"lines\", \"name\": \"Windows2\", \"showlegend\": true, \"type\": \"scatter\", \"x\": [2016, 2017, 2017, 2017, 2019], \"xaxis\": \"x\", \"y\": [1, 3, 3, 3, 1], \"yaxis\": \"y\"}, {\"hovertemplate\": \"Application under Test=Windows3<br>year=%{x}<br>count=%{y}<extra></extra>\", \"legendgroup\": \"Windows3\", \"line\": {\"color\": \"#FF97FF\", \"dash\": \"solid\"}, \"mode\": \"lines\", \"name\": \"Windows3\", \"showlegend\": true, \"type\": \"scatter\", \"x\": [2019], \"xaxis\": \"x\", \"y\": [1], \"yaxis\": \"y\"}],\n",
       "                        {\"height\": 400, \"legend\": {\"title\": {\"text\": \"Application under Test\"}, \"tracegroupgap\": 0}, \"template\": {\"data\": {\"bar\": [{\"error_x\": {\"color\": \"#2a3f5f\"}, \"error_y\": {\"color\": \"#2a3f5f\"}, \"marker\": {\"line\": {\"color\": \"#E5ECF6\", \"width\": 0.5}}, \"type\": \"bar\"}], \"barpolar\": [{\"marker\": {\"line\": {\"color\": \"#E5ECF6\", \"width\": 0.5}}, \"type\": \"barpolar\"}], \"carpet\": [{\"aaxis\": {\"endlinecolor\": \"#2a3f5f\", \"gridcolor\": \"white\", \"linecolor\": \"white\", \"minorgridcolor\": \"white\", \"startlinecolor\": \"#2a3f5f\"}, \"baxis\": {\"endlinecolor\": \"#2a3f5f\", \"gridcolor\": \"white\", \"linecolor\": \"white\", \"minorgridcolor\": \"white\", \"startlinecolor\": \"#2a3f5f\"}, \"type\": \"carpet\"}], \"choropleth\": [{\"colorbar\": {\"outlinewidth\": 0, \"ticks\": \"\"}, \"type\": \"choropleth\"}], \"contour\": [{\"colorbar\": {\"outlinewidth\": 0, \"ticks\": \"\"}, \"colorscale\": [[0.0, \"#0d0887\"], [0.1111111111111111, \"#46039f\"], [0.2222222222222222, \"#7201a8\"], [0.3333333333333333, \"#9c179e\"], [0.4444444444444444, \"#bd3786\"], [0.5555555555555556, \"#d8576b\"], [0.6666666666666666, \"#ed7953\"], [0.7777777777777778, \"#fb9f3a\"], [0.8888888888888888, \"#fdca26\"], [1.0, \"#f0f921\"]], \"type\": \"contour\"}], \"contourcarpet\": [{\"colorbar\": {\"outlinewidth\": 0, \"ticks\": \"\"}, \"type\": \"contourcarpet\"}], \"heatmap\": [{\"colorbar\": {\"outlinewidth\": 0, \"ticks\": \"\"}, \"colorscale\": [[0.0, \"#0d0887\"], [0.1111111111111111, \"#46039f\"], [0.2222222222222222, \"#7201a8\"], [0.3333333333333333, \"#9c179e\"], [0.4444444444444444, \"#bd3786\"], [0.5555555555555556, \"#d8576b\"], [0.6666666666666666, \"#ed7953\"], [0.7777777777777778, \"#fb9f3a\"], [0.8888888888888888, \"#fdca26\"], [1.0, \"#f0f921\"]], \"type\": \"heatmap\"}], \"heatmapgl\": [{\"colorbar\": {\"outlinewidth\": 0, \"ticks\": \"\"}, \"colorscale\": [[0.0, \"#0d0887\"], [0.1111111111111111, \"#46039f\"], [0.2222222222222222, \"#7201a8\"], [0.3333333333333333, \"#9c179e\"], [0.4444444444444444, \"#bd3786\"], [0.5555555555555556, \"#d8576b\"], [0.6666666666666666, \"#ed7953\"], [0.7777777777777778, \"#fb9f3a\"], [0.8888888888888888, \"#fdca26\"], [1.0, \"#f0f921\"]], \"type\": \"heatmapgl\"}], \"histogram\": [{\"marker\": {\"colorbar\": {\"outlinewidth\": 0, \"ticks\": \"\"}}, \"type\": \"histogram\"}], \"histogram2d\": [{\"colorbar\": {\"outlinewidth\": 0, \"ticks\": \"\"}, \"colorscale\": [[0.0, \"#0d0887\"], [0.1111111111111111, \"#46039f\"], [0.2222222222222222, \"#7201a8\"], [0.3333333333333333, \"#9c179e\"], [0.4444444444444444, \"#bd3786\"], [0.5555555555555556, \"#d8576b\"], [0.6666666666666666, \"#ed7953\"], [0.7777777777777778, \"#fb9f3a\"], [0.8888888888888888, \"#fdca26\"], [1.0, \"#f0f921\"]], \"type\": \"histogram2d\"}], \"histogram2dcontour\": [{\"colorbar\": {\"outlinewidth\": 0, \"ticks\": \"\"}, \"colorscale\": [[0.0, \"#0d0887\"], [0.1111111111111111, \"#46039f\"], [0.2222222222222222, \"#7201a8\"], [0.3333333333333333, \"#9c179e\"], [0.4444444444444444, \"#bd3786\"], [0.5555555555555556, \"#d8576b\"], [0.6666666666666666, \"#ed7953\"], [0.7777777777777778, \"#fb9f3a\"], [0.8888888888888888, \"#fdca26\"], [1.0, \"#f0f921\"]], \"type\": \"histogram2dcontour\"}], \"mesh3d\": [{\"colorbar\": {\"outlinewidth\": 0, \"ticks\": \"\"}, \"type\": \"mesh3d\"}], \"parcoords\": [{\"line\": {\"colorbar\": {\"outlinewidth\": 0, \"ticks\": \"\"}}, \"type\": \"parcoords\"}], \"pie\": [{\"automargin\": true, \"type\": \"pie\"}], \"scatter\": [{\"marker\": {\"colorbar\": {\"outlinewidth\": 0, \"ticks\": \"\"}}, \"type\": \"scatter\"}], \"scatter3d\": [{\"line\": {\"colorbar\": {\"outlinewidth\": 0, \"ticks\": \"\"}}, \"marker\": {\"colorbar\": {\"outlinewidth\": 0, \"ticks\": \"\"}}, \"type\": \"scatter3d\"}], \"scattercarpet\": [{\"marker\": {\"colorbar\": {\"outlinewidth\": 0, \"ticks\": \"\"}}, \"type\": \"scattercarpet\"}], \"scattergeo\": [{\"marker\": {\"colorbar\": {\"outlinewidth\": 0, \"ticks\": \"\"}}, \"type\": \"scattergeo\"}], \"scattergl\": [{\"marker\": {\"colorbar\": {\"outlinewidth\": 0, \"ticks\": \"\"}}, \"type\": \"scattergl\"}], \"scattermapbox\": [{\"marker\": {\"colorbar\": {\"outlinewidth\": 0, \"ticks\": \"\"}}, \"type\": \"scattermapbox\"}], \"scatterpolar\": [{\"marker\": {\"colorbar\": {\"outlinewidth\": 0, \"ticks\": \"\"}}, \"type\": \"scatterpolar\"}], \"scatterpolargl\": [{\"marker\": {\"colorbar\": {\"outlinewidth\": 0, \"ticks\": \"\"}}, \"type\": \"scatterpolargl\"}], \"scatterternary\": [{\"marker\": {\"colorbar\": {\"outlinewidth\": 0, \"ticks\": \"\"}}, \"type\": \"scatterternary\"}], \"surface\": [{\"colorbar\": {\"outlinewidth\": 0, \"ticks\": \"\"}, \"colorscale\": [[0.0, \"#0d0887\"], [0.1111111111111111, \"#46039f\"], [0.2222222222222222, \"#7201a8\"], [0.3333333333333333, \"#9c179e\"], [0.4444444444444444, \"#bd3786\"], [0.5555555555555556, \"#d8576b\"], [0.6666666666666666, \"#ed7953\"], [0.7777777777777778, \"#fb9f3a\"], [0.8888888888888888, \"#fdca26\"], [1.0, \"#f0f921\"]], \"type\": \"surface\"}], \"table\": [{\"cells\": {\"fill\": {\"color\": \"#EBF0F8\"}, \"line\": {\"color\": \"white\"}}, \"header\": {\"fill\": {\"color\": \"#C8D4E3\"}, \"line\": {\"color\": \"white\"}}, \"type\": \"table\"}]}, \"layout\": {\"annotationdefaults\": {\"arrowcolor\": \"#2a3f5f\", \"arrowhead\": 0, \"arrowwidth\": 1}, \"coloraxis\": {\"colorbar\": {\"outlinewidth\": 0, \"ticks\": \"\"}}, \"colorscale\": {\"diverging\": [[0, \"#8e0152\"], [0.1, \"#c51b7d\"], [0.2, \"#de77ae\"], [0.3, \"#f1b6da\"], [0.4, \"#fde0ef\"], [0.5, \"#f7f7f7\"], [0.6, \"#e6f5d0\"], [0.7, \"#b8e186\"], [0.8, \"#7fbc41\"], [0.9, \"#4d9221\"], [1, \"#276419\"]], \"sequential\": [[0.0, \"#0d0887\"], [0.1111111111111111, \"#46039f\"], [0.2222222222222222, \"#7201a8\"], [0.3333333333333333, \"#9c179e\"], [0.4444444444444444, \"#bd3786\"], [0.5555555555555556, \"#d8576b\"], [0.6666666666666666, \"#ed7953\"], [0.7777777777777778, \"#fb9f3a\"], [0.8888888888888888, \"#fdca26\"], [1.0, \"#f0f921\"]], \"sequentialminus\": [[0.0, \"#0d0887\"], [0.1111111111111111, \"#46039f\"], [0.2222222222222222, \"#7201a8\"], [0.3333333333333333, \"#9c179e\"], [0.4444444444444444, \"#bd3786\"], [0.5555555555555556, \"#d8576b\"], [0.6666666666666666, \"#ed7953\"], [0.7777777777777778, \"#fb9f3a\"], [0.8888888888888888, \"#fdca26\"], [1.0, \"#f0f921\"]]}, \"colorway\": [\"#636efa\", \"#EF553B\", \"#00cc96\", \"#ab63fa\", \"#FFA15A\", \"#19d3f3\", \"#FF6692\", \"#B6E880\", \"#FF97FF\", \"#FECB52\"], \"font\": {\"color\": \"#2a3f5f\"}, \"geo\": {\"bgcolor\": \"white\", \"lakecolor\": \"white\", \"landcolor\": \"#E5ECF6\", \"showlakes\": true, \"showland\": true, \"subunitcolor\": \"white\"}, \"hoverlabel\": {\"align\": \"left\"}, \"hovermode\": \"closest\", \"mapbox\": {\"style\": \"light\"}, \"paper_bgcolor\": \"white\", \"plot_bgcolor\": \"#E5ECF6\", \"polar\": {\"angularaxis\": {\"gridcolor\": \"white\", \"linecolor\": \"white\", \"ticks\": \"\"}, \"bgcolor\": \"#E5ECF6\", \"radialaxis\": {\"gridcolor\": \"white\", \"linecolor\": \"white\", \"ticks\": \"\"}}, \"scene\": {\"xaxis\": {\"backgroundcolor\": \"#E5ECF6\", \"gridcolor\": \"white\", \"gridwidth\": 2, \"linecolor\": \"white\", \"showbackground\": true, \"ticks\": \"\", \"zerolinecolor\": \"white\"}, \"yaxis\": {\"backgroundcolor\": \"#E5ECF6\", \"gridcolor\": \"white\", \"gridwidth\": 2, \"linecolor\": \"white\", \"showbackground\": true, \"ticks\": \"\", \"zerolinecolor\": \"white\"}, \"zaxis\": {\"backgroundcolor\": \"#E5ECF6\", \"gridcolor\": \"white\", \"gridwidth\": 2, \"linecolor\": \"white\", \"showbackground\": true, \"ticks\": \"\", \"zerolinecolor\": \"white\"}}, \"shapedefaults\": {\"line\": {\"color\": \"#2a3f5f\"}}, \"ternary\": {\"aaxis\": {\"gridcolor\": \"white\", \"linecolor\": \"white\", \"ticks\": \"\"}, \"baxis\": {\"gridcolor\": \"white\", \"linecolor\": \"white\", \"ticks\": \"\"}, \"bgcolor\": \"#E5ECF6\", \"caxis\": {\"gridcolor\": \"white\", \"linecolor\": \"white\", \"ticks\": \"\"}}, \"title\": {\"x\": 0.05}, \"xaxis\": {\"automargin\": true, \"gridcolor\": \"white\", \"linecolor\": \"white\", \"ticks\": \"\", \"title\": {\"standoff\": 15}, \"zerolinecolor\": \"white\", \"zerolinewidth\": 2}, \"yaxis\": {\"automargin\": true, \"gridcolor\": \"white\", \"linecolor\": \"white\", \"ticks\": \"\", \"title\": {\"standoff\": 15}, \"zerolinecolor\": \"white\", \"zerolinewidth\": 2}}}, \"title\": {\"text\": \"Defect Count Application wise\"}, \"width\": 700, \"xaxis\": {\"anchor\": \"y\", \"domain\": [0.0, 1.0], \"title\": {\"text\": \"year\"}}, \"yaxis\": {\"anchor\": \"x\", \"domain\": [0.0, 1.0], \"title\": {\"text\": \"count\"}}},\n",
       "                        {\"responsive\": true}\n",
       "                    ).then(function(){\n",
       "                            \n",
       "var gd = document.getElementById('44fb1453-7ff7-4d83-ac94-bcc3451946a2');\n",
       "var x = new MutationObserver(function (mutations, observer) {{\n",
       "        var display = window.getComputedStyle(gd).display;\n",
       "        if (!display || display === 'none') {{\n",
       "            console.log([gd, 'removed!']);\n",
       "            Plotly.purge(gd);\n",
       "            observer.disconnect();\n",
       "        }}\n",
       "}});\n",
       "\n",
       "// Listen for the removal of the full notebook cells\n",
       "var notebookContainer = gd.closest('#notebook-container');\n",
       "if (notebookContainer) {{\n",
       "    x.observe(notebookContainer, {childList: true});\n",
       "}}\n",
       "\n",
       "// Listen for the clearing of the current output cell\n",
       "var outputEl = gd.closest('.output');\n",
       "if (outputEl) {{\n",
       "    x.observe(outputEl, {childList: true});\n",
       "}}\n",
       "\n",
       "                        })\n",
       "                };\n",
       "                });\n",
       "            </script>\n",
       "        </div>"
      ]
     },
     "metadata": {},
     "output_type": "display_data"
    }
   ],
   "source": [
    "\n",
    "DefectDF = DefectDF.sort_values(by=\"Detection Date\")\n",
    "df1 = DefectDF.copy()\n",
    "df1['count'] = df1.groupby(['Application under Test','year'])['Application under Test'].transform('count')\n",
    "fig = px.line(df1, x='year', y='count', color='Application under Test',width=700, height=400, title = \"Defect Count Application wise\")\n",
    "fig.show()"
   ]
  },
  {
   "cell_type": "code",
   "execution_count": 99,
   "metadata": {},
   "outputs": [
    {
     "data": {
      "application/vnd.plotly.v1+json": {
       "config": {
        "plotlyServerURL": "https://plot.ly"
       },
       "data": [
        {
         "text": [
          5,
          1,
          3,
          2,
          5
         ],
         "textposition": "auto",
         "type": "bar",
         "x": [
          2016,
          2017,
          2018,
          2019,
          2020
         ],
         "y": [
          5,
          1,
          3,
          2,
          5
         ]
        }
       ],
       "layout": {
        "template": {
         "data": {
          "bar": [
           {
            "error_x": {
             "color": "#2a3f5f"
            },
            "error_y": {
             "color": "#2a3f5f"
            },
            "marker": {
             "line": {
              "color": "#E5ECF6",
              "width": 0.5
             }
            },
            "type": "bar"
           }
          ],
          "barpolar": [
           {
            "marker": {
             "line": {
              "color": "#E5ECF6",
              "width": 0.5
             }
            },
            "type": "barpolar"
           }
          ],
          "carpet": [
           {
            "aaxis": {
             "endlinecolor": "#2a3f5f",
             "gridcolor": "white",
             "linecolor": "white",
             "minorgridcolor": "white",
             "startlinecolor": "#2a3f5f"
            },
            "baxis": {
             "endlinecolor": "#2a3f5f",
             "gridcolor": "white",
             "linecolor": "white",
             "minorgridcolor": "white",
             "startlinecolor": "#2a3f5f"
            },
            "type": "carpet"
           }
          ],
          "choropleth": [
           {
            "colorbar": {
             "outlinewidth": 0,
             "ticks": ""
            },
            "type": "choropleth"
           }
          ],
          "contour": [
           {
            "colorbar": {
             "outlinewidth": 0,
             "ticks": ""
            },
            "colorscale": [
             [
              0,
              "#0d0887"
             ],
             [
              0.1111111111111111,
              "#46039f"
             ],
             [
              0.2222222222222222,
              "#7201a8"
             ],
             [
              0.3333333333333333,
              "#9c179e"
             ],
             [
              0.4444444444444444,
              "#bd3786"
             ],
             [
              0.5555555555555556,
              "#d8576b"
             ],
             [
              0.6666666666666666,
              "#ed7953"
             ],
             [
              0.7777777777777778,
              "#fb9f3a"
             ],
             [
              0.8888888888888888,
              "#fdca26"
             ],
             [
              1,
              "#f0f921"
             ]
            ],
            "type": "contour"
           }
          ],
          "contourcarpet": [
           {
            "colorbar": {
             "outlinewidth": 0,
             "ticks": ""
            },
            "type": "contourcarpet"
           }
          ],
          "heatmap": [
           {
            "colorbar": {
             "outlinewidth": 0,
             "ticks": ""
            },
            "colorscale": [
             [
              0,
              "#0d0887"
             ],
             [
              0.1111111111111111,
              "#46039f"
             ],
             [
              0.2222222222222222,
              "#7201a8"
             ],
             [
              0.3333333333333333,
              "#9c179e"
             ],
             [
              0.4444444444444444,
              "#bd3786"
             ],
             [
              0.5555555555555556,
              "#d8576b"
             ],
             [
              0.6666666666666666,
              "#ed7953"
             ],
             [
              0.7777777777777778,
              "#fb9f3a"
             ],
             [
              0.8888888888888888,
              "#fdca26"
             ],
             [
              1,
              "#f0f921"
             ]
            ],
            "type": "heatmap"
           }
          ],
          "heatmapgl": [
           {
            "colorbar": {
             "outlinewidth": 0,
             "ticks": ""
            },
            "colorscale": [
             [
              0,
              "#0d0887"
             ],
             [
              0.1111111111111111,
              "#46039f"
             ],
             [
              0.2222222222222222,
              "#7201a8"
             ],
             [
              0.3333333333333333,
              "#9c179e"
             ],
             [
              0.4444444444444444,
              "#bd3786"
             ],
             [
              0.5555555555555556,
              "#d8576b"
             ],
             [
              0.6666666666666666,
              "#ed7953"
             ],
             [
              0.7777777777777778,
              "#fb9f3a"
             ],
             [
              0.8888888888888888,
              "#fdca26"
             ],
             [
              1,
              "#f0f921"
             ]
            ],
            "type": "heatmapgl"
           }
          ],
          "histogram": [
           {
            "marker": {
             "colorbar": {
              "outlinewidth": 0,
              "ticks": ""
             }
            },
            "type": "histogram"
           }
          ],
          "histogram2d": [
           {
            "colorbar": {
             "outlinewidth": 0,
             "ticks": ""
            },
            "colorscale": [
             [
              0,
              "#0d0887"
             ],
             [
              0.1111111111111111,
              "#46039f"
             ],
             [
              0.2222222222222222,
              "#7201a8"
             ],
             [
              0.3333333333333333,
              "#9c179e"
             ],
             [
              0.4444444444444444,
              "#bd3786"
             ],
             [
              0.5555555555555556,
              "#d8576b"
             ],
             [
              0.6666666666666666,
              "#ed7953"
             ],
             [
              0.7777777777777778,
              "#fb9f3a"
             ],
             [
              0.8888888888888888,
              "#fdca26"
             ],
             [
              1,
              "#f0f921"
             ]
            ],
            "type": "histogram2d"
           }
          ],
          "histogram2dcontour": [
           {
            "colorbar": {
             "outlinewidth": 0,
             "ticks": ""
            },
            "colorscale": [
             [
              0,
              "#0d0887"
             ],
             [
              0.1111111111111111,
              "#46039f"
             ],
             [
              0.2222222222222222,
              "#7201a8"
             ],
             [
              0.3333333333333333,
              "#9c179e"
             ],
             [
              0.4444444444444444,
              "#bd3786"
             ],
             [
              0.5555555555555556,
              "#d8576b"
             ],
             [
              0.6666666666666666,
              "#ed7953"
             ],
             [
              0.7777777777777778,
              "#fb9f3a"
             ],
             [
              0.8888888888888888,
              "#fdca26"
             ],
             [
              1,
              "#f0f921"
             ]
            ],
            "type": "histogram2dcontour"
           }
          ],
          "mesh3d": [
           {
            "colorbar": {
             "outlinewidth": 0,
             "ticks": ""
            },
            "type": "mesh3d"
           }
          ],
          "parcoords": [
           {
            "line": {
             "colorbar": {
              "outlinewidth": 0,
              "ticks": ""
             }
            },
            "type": "parcoords"
           }
          ],
          "pie": [
           {
            "automargin": true,
            "type": "pie"
           }
          ],
          "scatter": [
           {
            "marker": {
             "colorbar": {
              "outlinewidth": 0,
              "ticks": ""
             }
            },
            "type": "scatter"
           }
          ],
          "scatter3d": [
           {
            "line": {
             "colorbar": {
              "outlinewidth": 0,
              "ticks": ""
             }
            },
            "marker": {
             "colorbar": {
              "outlinewidth": 0,
              "ticks": ""
             }
            },
            "type": "scatter3d"
           }
          ],
          "scattercarpet": [
           {
            "marker": {
             "colorbar": {
              "outlinewidth": 0,
              "ticks": ""
             }
            },
            "type": "scattercarpet"
           }
          ],
          "scattergeo": [
           {
            "marker": {
             "colorbar": {
              "outlinewidth": 0,
              "ticks": ""
             }
            },
            "type": "scattergeo"
           }
          ],
          "scattergl": [
           {
            "marker": {
             "colorbar": {
              "outlinewidth": 0,
              "ticks": ""
             }
            },
            "type": "scattergl"
           }
          ],
          "scattermapbox": [
           {
            "marker": {
             "colorbar": {
              "outlinewidth": 0,
              "ticks": ""
             }
            },
            "type": "scattermapbox"
           }
          ],
          "scatterpolar": [
           {
            "marker": {
             "colorbar": {
              "outlinewidth": 0,
              "ticks": ""
             }
            },
            "type": "scatterpolar"
           }
          ],
          "scatterpolargl": [
           {
            "marker": {
             "colorbar": {
              "outlinewidth": 0,
              "ticks": ""
             }
            },
            "type": "scatterpolargl"
           }
          ],
          "scatterternary": [
           {
            "marker": {
             "colorbar": {
              "outlinewidth": 0,
              "ticks": ""
             }
            },
            "type": "scatterternary"
           }
          ],
          "surface": [
           {
            "colorbar": {
             "outlinewidth": 0,
             "ticks": ""
            },
            "colorscale": [
             [
              0,
              "#0d0887"
             ],
             [
              0.1111111111111111,
              "#46039f"
             ],
             [
              0.2222222222222222,
              "#7201a8"
             ],
             [
              0.3333333333333333,
              "#9c179e"
             ],
             [
              0.4444444444444444,
              "#bd3786"
             ],
             [
              0.5555555555555556,
              "#d8576b"
             ],
             [
              0.6666666666666666,
              "#ed7953"
             ],
             [
              0.7777777777777778,
              "#fb9f3a"
             ],
             [
              0.8888888888888888,
              "#fdca26"
             ],
             [
              1,
              "#f0f921"
             ]
            ],
            "type": "surface"
           }
          ],
          "table": [
           {
            "cells": {
             "fill": {
              "color": "#EBF0F8"
             },
             "line": {
              "color": "white"
             }
            },
            "header": {
             "fill": {
              "color": "#C8D4E3"
             },
             "line": {
              "color": "white"
             }
            },
            "type": "table"
           }
          ]
         },
         "layout": {
          "annotationdefaults": {
           "arrowcolor": "#2a3f5f",
           "arrowhead": 0,
           "arrowwidth": 1
          },
          "coloraxis": {
           "colorbar": {
            "outlinewidth": 0,
            "ticks": ""
           }
          },
          "colorscale": {
           "diverging": [
            [
             0,
             "#8e0152"
            ],
            [
             0.1,
             "#c51b7d"
            ],
            [
             0.2,
             "#de77ae"
            ],
            [
             0.3,
             "#f1b6da"
            ],
            [
             0.4,
             "#fde0ef"
            ],
            [
             0.5,
             "#f7f7f7"
            ],
            [
             0.6,
             "#e6f5d0"
            ],
            [
             0.7,
             "#b8e186"
            ],
            [
             0.8,
             "#7fbc41"
            ],
            [
             0.9,
             "#4d9221"
            ],
            [
             1,
             "#276419"
            ]
           ],
           "sequential": [
            [
             0,
             "#0d0887"
            ],
            [
             0.1111111111111111,
             "#46039f"
            ],
            [
             0.2222222222222222,
             "#7201a8"
            ],
            [
             0.3333333333333333,
             "#9c179e"
            ],
            [
             0.4444444444444444,
             "#bd3786"
            ],
            [
             0.5555555555555556,
             "#d8576b"
            ],
            [
             0.6666666666666666,
             "#ed7953"
            ],
            [
             0.7777777777777778,
             "#fb9f3a"
            ],
            [
             0.8888888888888888,
             "#fdca26"
            ],
            [
             1,
             "#f0f921"
            ]
           ],
           "sequentialminus": [
            [
             0,
             "#0d0887"
            ],
            [
             0.1111111111111111,
             "#46039f"
            ],
            [
             0.2222222222222222,
             "#7201a8"
            ],
            [
             0.3333333333333333,
             "#9c179e"
            ],
            [
             0.4444444444444444,
             "#bd3786"
            ],
            [
             0.5555555555555556,
             "#d8576b"
            ],
            [
             0.6666666666666666,
             "#ed7953"
            ],
            [
             0.7777777777777778,
             "#fb9f3a"
            ],
            [
             0.8888888888888888,
             "#fdca26"
            ],
            [
             1,
             "#f0f921"
            ]
           ]
          },
          "colorway": [
           "#636efa",
           "#EF553B",
           "#00cc96",
           "#ab63fa",
           "#FFA15A",
           "#19d3f3",
           "#FF6692",
           "#B6E880",
           "#FF97FF",
           "#FECB52"
          ],
          "font": {
           "color": "#2a3f5f"
          },
          "geo": {
           "bgcolor": "white",
           "lakecolor": "white",
           "landcolor": "#E5ECF6",
           "showlakes": true,
           "showland": true,
           "subunitcolor": "white"
          },
          "hoverlabel": {
           "align": "left"
          },
          "hovermode": "closest",
          "mapbox": {
           "style": "light"
          },
          "paper_bgcolor": "white",
          "plot_bgcolor": "#E5ECF6",
          "polar": {
           "angularaxis": {
            "gridcolor": "white",
            "linecolor": "white",
            "ticks": ""
           },
           "bgcolor": "#E5ECF6",
           "radialaxis": {
            "gridcolor": "white",
            "linecolor": "white",
            "ticks": ""
           }
          },
          "scene": {
           "xaxis": {
            "backgroundcolor": "#E5ECF6",
            "gridcolor": "white",
            "gridwidth": 2,
            "linecolor": "white",
            "showbackground": true,
            "ticks": "",
            "zerolinecolor": "white"
           },
           "yaxis": {
            "backgroundcolor": "#E5ECF6",
            "gridcolor": "white",
            "gridwidth": 2,
            "linecolor": "white",
            "showbackground": true,
            "ticks": "",
            "zerolinecolor": "white"
           },
           "zaxis": {
            "backgroundcolor": "#E5ECF6",
            "gridcolor": "white",
            "gridwidth": 2,
            "linecolor": "white",
            "showbackground": true,
            "ticks": "",
            "zerolinecolor": "white"
           }
          },
          "shapedefaults": {
           "line": {
            "color": "#2a3f5f"
           }
          },
          "ternary": {
           "aaxis": {
            "gridcolor": "white",
            "linecolor": "white",
            "ticks": ""
           },
           "baxis": {
            "gridcolor": "white",
            "linecolor": "white",
            "ticks": ""
           },
           "bgcolor": "#E5ECF6",
           "caxis": {
            "gridcolor": "white",
            "linecolor": "white",
            "ticks": ""
           }
          },
          "title": {
           "x": 0.05
          },
          "xaxis": {
           "automargin": true,
           "gridcolor": "white",
           "linecolor": "white",
           "ticks": "",
           "title": {
            "standoff": 15
           },
           "zerolinecolor": "white",
           "zerolinewidth": 2
          },
          "yaxis": {
           "automargin": true,
           "gridcolor": "white",
           "linecolor": "white",
           "ticks": "",
           "title": {
            "standoff": 15
           },
           "zerolinecolor": "white",
           "zerolinewidth": 2
          }
         }
        }
       }
      },
      "text/html": [
       "<div>\n",
       "        \n",
       "        \n",
       "            <div id=\"62006c8c-7791-4a77-9157-fef1736ea5fc\" class=\"plotly-graph-div\" style=\"height:525px; width:100%;\"></div>\n",
       "            <script type=\"text/javascript\">\n",
       "                require([\"plotly\"], function(Plotly) {\n",
       "                    window.PLOTLYENV=window.PLOTLYENV || {};\n",
       "                    \n",
       "                if (document.getElementById(\"62006c8c-7791-4a77-9157-fef1736ea5fc\")) {\n",
       "                    Plotly.newPlot(\n",
       "                        '62006c8c-7791-4a77-9157-fef1736ea5fc',\n",
       "                        [{\"text\": [5.0, 1.0, 3.0, 2.0, 5.0], \"textposition\": \"auto\", \"type\": \"bar\", \"x\": [2016, 2017, 2018, 2019, 2020], \"y\": [5, 1, 3, 2, 5]}],\n",
       "                        {\"template\": {\"data\": {\"bar\": [{\"error_x\": {\"color\": \"#2a3f5f\"}, \"error_y\": {\"color\": \"#2a3f5f\"}, \"marker\": {\"line\": {\"color\": \"#E5ECF6\", \"width\": 0.5}}, \"type\": \"bar\"}], \"barpolar\": [{\"marker\": {\"line\": {\"color\": \"#E5ECF6\", \"width\": 0.5}}, \"type\": \"barpolar\"}], \"carpet\": [{\"aaxis\": {\"endlinecolor\": \"#2a3f5f\", \"gridcolor\": \"white\", \"linecolor\": \"white\", \"minorgridcolor\": \"white\", \"startlinecolor\": \"#2a3f5f\"}, \"baxis\": {\"endlinecolor\": \"#2a3f5f\", \"gridcolor\": \"white\", \"linecolor\": \"white\", \"minorgridcolor\": \"white\", \"startlinecolor\": \"#2a3f5f\"}, \"type\": \"carpet\"}], \"choropleth\": [{\"colorbar\": {\"outlinewidth\": 0, \"ticks\": \"\"}, \"type\": \"choropleth\"}], \"contour\": [{\"colorbar\": {\"outlinewidth\": 0, \"ticks\": \"\"}, \"colorscale\": [[0.0, \"#0d0887\"], [0.1111111111111111, \"#46039f\"], [0.2222222222222222, \"#7201a8\"], [0.3333333333333333, \"#9c179e\"], [0.4444444444444444, \"#bd3786\"], [0.5555555555555556, \"#d8576b\"], [0.6666666666666666, \"#ed7953\"], [0.7777777777777778, \"#fb9f3a\"], [0.8888888888888888, \"#fdca26\"], [1.0, \"#f0f921\"]], \"type\": \"contour\"}], \"contourcarpet\": [{\"colorbar\": {\"outlinewidth\": 0, \"ticks\": \"\"}, \"type\": \"contourcarpet\"}], \"heatmap\": [{\"colorbar\": {\"outlinewidth\": 0, \"ticks\": \"\"}, \"colorscale\": [[0.0, \"#0d0887\"], [0.1111111111111111, \"#46039f\"], [0.2222222222222222, \"#7201a8\"], [0.3333333333333333, \"#9c179e\"], [0.4444444444444444, \"#bd3786\"], [0.5555555555555556, \"#d8576b\"], [0.6666666666666666, \"#ed7953\"], [0.7777777777777778, \"#fb9f3a\"], [0.8888888888888888, \"#fdca26\"], [1.0, \"#f0f921\"]], \"type\": \"heatmap\"}], \"heatmapgl\": [{\"colorbar\": {\"outlinewidth\": 0, \"ticks\": \"\"}, \"colorscale\": [[0.0, \"#0d0887\"], [0.1111111111111111, \"#46039f\"], [0.2222222222222222, \"#7201a8\"], [0.3333333333333333, \"#9c179e\"], [0.4444444444444444, \"#bd3786\"], [0.5555555555555556, \"#d8576b\"], [0.6666666666666666, \"#ed7953\"], [0.7777777777777778, \"#fb9f3a\"], [0.8888888888888888, \"#fdca26\"], [1.0, \"#f0f921\"]], \"type\": \"heatmapgl\"}], \"histogram\": [{\"marker\": {\"colorbar\": {\"outlinewidth\": 0, \"ticks\": \"\"}}, \"type\": \"histogram\"}], \"histogram2d\": [{\"colorbar\": {\"outlinewidth\": 0, \"ticks\": \"\"}, \"colorscale\": [[0.0, \"#0d0887\"], [0.1111111111111111, \"#46039f\"], [0.2222222222222222, \"#7201a8\"], [0.3333333333333333, \"#9c179e\"], [0.4444444444444444, \"#bd3786\"], [0.5555555555555556, \"#d8576b\"], [0.6666666666666666, \"#ed7953\"], [0.7777777777777778, \"#fb9f3a\"], [0.8888888888888888, \"#fdca26\"], [1.0, \"#f0f921\"]], \"type\": \"histogram2d\"}], \"histogram2dcontour\": [{\"colorbar\": {\"outlinewidth\": 0, \"ticks\": \"\"}, \"colorscale\": [[0.0, \"#0d0887\"], [0.1111111111111111, \"#46039f\"], [0.2222222222222222, \"#7201a8\"], [0.3333333333333333, \"#9c179e\"], [0.4444444444444444, \"#bd3786\"], [0.5555555555555556, \"#d8576b\"], [0.6666666666666666, \"#ed7953\"], [0.7777777777777778, \"#fb9f3a\"], [0.8888888888888888, \"#fdca26\"], [1.0, \"#f0f921\"]], \"type\": \"histogram2dcontour\"}], \"mesh3d\": [{\"colorbar\": {\"outlinewidth\": 0, \"ticks\": \"\"}, \"type\": \"mesh3d\"}], \"parcoords\": [{\"line\": {\"colorbar\": {\"outlinewidth\": 0, \"ticks\": \"\"}}, \"type\": \"parcoords\"}], \"pie\": [{\"automargin\": true, \"type\": \"pie\"}], \"scatter\": [{\"marker\": {\"colorbar\": {\"outlinewidth\": 0, \"ticks\": \"\"}}, \"type\": \"scatter\"}], \"scatter3d\": [{\"line\": {\"colorbar\": {\"outlinewidth\": 0, \"ticks\": \"\"}}, \"marker\": {\"colorbar\": {\"outlinewidth\": 0, \"ticks\": \"\"}}, \"type\": \"scatter3d\"}], \"scattercarpet\": [{\"marker\": {\"colorbar\": {\"outlinewidth\": 0, \"ticks\": \"\"}}, \"type\": \"scattercarpet\"}], \"scattergeo\": [{\"marker\": {\"colorbar\": {\"outlinewidth\": 0, \"ticks\": \"\"}}, \"type\": \"scattergeo\"}], \"scattergl\": [{\"marker\": {\"colorbar\": {\"outlinewidth\": 0, \"ticks\": \"\"}}, \"type\": \"scattergl\"}], \"scattermapbox\": [{\"marker\": {\"colorbar\": {\"outlinewidth\": 0, \"ticks\": \"\"}}, \"type\": \"scattermapbox\"}], \"scatterpolar\": [{\"marker\": {\"colorbar\": {\"outlinewidth\": 0, \"ticks\": \"\"}}, \"type\": \"scatterpolar\"}], \"scatterpolargl\": [{\"marker\": {\"colorbar\": {\"outlinewidth\": 0, \"ticks\": \"\"}}, \"type\": \"scatterpolargl\"}], \"scatterternary\": [{\"marker\": {\"colorbar\": {\"outlinewidth\": 0, \"ticks\": \"\"}}, \"type\": \"scatterternary\"}], \"surface\": [{\"colorbar\": {\"outlinewidth\": 0, \"ticks\": \"\"}, \"colorscale\": [[0.0, \"#0d0887\"], [0.1111111111111111, \"#46039f\"], [0.2222222222222222, \"#7201a8\"], [0.3333333333333333, \"#9c179e\"], [0.4444444444444444, \"#bd3786\"], [0.5555555555555556, \"#d8576b\"], [0.6666666666666666, \"#ed7953\"], [0.7777777777777778, \"#fb9f3a\"], [0.8888888888888888, \"#fdca26\"], [1.0, \"#f0f921\"]], \"type\": \"surface\"}], \"table\": [{\"cells\": {\"fill\": {\"color\": \"#EBF0F8\"}, \"line\": {\"color\": \"white\"}}, \"header\": {\"fill\": {\"color\": \"#C8D4E3\"}, \"line\": {\"color\": \"white\"}}, \"type\": \"table\"}]}, \"layout\": {\"annotationdefaults\": {\"arrowcolor\": \"#2a3f5f\", \"arrowhead\": 0, \"arrowwidth\": 1}, \"coloraxis\": {\"colorbar\": {\"outlinewidth\": 0, \"ticks\": \"\"}}, \"colorscale\": {\"diverging\": [[0, \"#8e0152\"], [0.1, \"#c51b7d\"], [0.2, \"#de77ae\"], [0.3, \"#f1b6da\"], [0.4, \"#fde0ef\"], [0.5, \"#f7f7f7\"], [0.6, \"#e6f5d0\"], [0.7, \"#b8e186\"], [0.8, \"#7fbc41\"], [0.9, \"#4d9221\"], [1, \"#276419\"]], \"sequential\": [[0.0, \"#0d0887\"], [0.1111111111111111, \"#46039f\"], [0.2222222222222222, \"#7201a8\"], [0.3333333333333333, \"#9c179e\"], [0.4444444444444444, \"#bd3786\"], [0.5555555555555556, \"#d8576b\"], [0.6666666666666666, \"#ed7953\"], [0.7777777777777778, \"#fb9f3a\"], [0.8888888888888888, \"#fdca26\"], [1.0, \"#f0f921\"]], \"sequentialminus\": [[0.0, \"#0d0887\"], [0.1111111111111111, \"#46039f\"], [0.2222222222222222, \"#7201a8\"], [0.3333333333333333, \"#9c179e\"], [0.4444444444444444, \"#bd3786\"], [0.5555555555555556, \"#d8576b\"], [0.6666666666666666, \"#ed7953\"], [0.7777777777777778, \"#fb9f3a\"], [0.8888888888888888, \"#fdca26\"], [1.0, \"#f0f921\"]]}, \"colorway\": [\"#636efa\", \"#EF553B\", \"#00cc96\", \"#ab63fa\", \"#FFA15A\", \"#19d3f3\", \"#FF6692\", \"#B6E880\", \"#FF97FF\", \"#FECB52\"], \"font\": {\"color\": \"#2a3f5f\"}, \"geo\": {\"bgcolor\": \"white\", \"lakecolor\": \"white\", \"landcolor\": \"#E5ECF6\", \"showlakes\": true, \"showland\": true, \"subunitcolor\": \"white\"}, \"hoverlabel\": {\"align\": \"left\"}, \"hovermode\": \"closest\", \"mapbox\": {\"style\": \"light\"}, \"paper_bgcolor\": \"white\", \"plot_bgcolor\": \"#E5ECF6\", \"polar\": {\"angularaxis\": {\"gridcolor\": \"white\", \"linecolor\": \"white\", \"ticks\": \"\"}, \"bgcolor\": \"#E5ECF6\", \"radialaxis\": {\"gridcolor\": \"white\", \"linecolor\": \"white\", \"ticks\": \"\"}}, \"scene\": {\"xaxis\": {\"backgroundcolor\": \"#E5ECF6\", \"gridcolor\": \"white\", \"gridwidth\": 2, \"linecolor\": \"white\", \"showbackground\": true, \"ticks\": \"\", \"zerolinecolor\": \"white\"}, \"yaxis\": {\"backgroundcolor\": \"#E5ECF6\", \"gridcolor\": \"white\", \"gridwidth\": 2, \"linecolor\": \"white\", \"showbackground\": true, \"ticks\": \"\", \"zerolinecolor\": \"white\"}, \"zaxis\": {\"backgroundcolor\": \"#E5ECF6\", \"gridcolor\": \"white\", \"gridwidth\": 2, \"linecolor\": \"white\", \"showbackground\": true, \"ticks\": \"\", \"zerolinecolor\": \"white\"}}, \"shapedefaults\": {\"line\": {\"color\": \"#2a3f5f\"}}, \"ternary\": {\"aaxis\": {\"gridcolor\": \"white\", \"linecolor\": \"white\", \"ticks\": \"\"}, \"baxis\": {\"gridcolor\": \"white\", \"linecolor\": \"white\", \"ticks\": \"\"}, \"bgcolor\": \"#E5ECF6\", \"caxis\": {\"gridcolor\": \"white\", \"linecolor\": \"white\", \"ticks\": \"\"}}, \"title\": {\"x\": 0.05}, \"xaxis\": {\"automargin\": true, \"gridcolor\": \"white\", \"linecolor\": \"white\", \"ticks\": \"\", \"title\": {\"standoff\": 15}, \"zerolinecolor\": \"white\", \"zerolinewidth\": 2}, \"yaxis\": {\"automargin\": true, \"gridcolor\": \"white\", \"linecolor\": \"white\", \"ticks\": \"\", \"title\": {\"standoff\": 15}, \"zerolinecolor\": \"white\", \"zerolinewidth\": 2}}}},\n",
       "                        {\"responsive\": true}\n",
       "                    ).then(function(){\n",
       "                            \n",
       "var gd = document.getElementById('62006c8c-7791-4a77-9157-fef1736ea5fc');\n",
       "var x = new MutationObserver(function (mutations, observer) {{\n",
       "        var display = window.getComputedStyle(gd).display;\n",
       "        if (!display || display === 'none') {{\n",
       "            console.log([gd, 'removed!']);\n",
       "            Plotly.purge(gd);\n",
       "            observer.disconnect();\n",
       "        }}\n",
       "}});\n",
       "\n",
       "// Listen for the removal of the full notebook cells\n",
       "var notebookContainer = gd.closest('#notebook-container');\n",
       "if (notebookContainer) {{\n",
       "    x.observe(notebookContainer, {childList: true});\n",
       "}}\n",
       "\n",
       "// Listen for the clearing of the current output cell\n",
       "var outputEl = gd.closest('.output');\n",
       "if (outputEl) {{\n",
       "    x.observe(outputEl, {childList: true});\n",
       "}}\n",
       "\n",
       "                        })\n",
       "                };\n",
       "                });\n",
       "            </script>\n",
       "        </div>"
      ]
     },
     "metadata": {},
     "output_type": "display_data"
    }
   ],
   "source": [
    "df2 = df1[df1['Application under Test']=='Windows4']\n",
    "df2.drop_duplicates(subset='year', keep=\"first\",inplace = True)\n",
    "fig = go.Figure(data=[go.Bar(x=df2.year, y=df2['count'], text = df2['count'],textposition='auto')])\n",
    "fig.show()"
   ]
  },
  {
   "cell_type": "code",
   "execution_count": 78,
   "metadata": {},
   "outputs": [],
   "source": [
    "lemma = WordNetLemmatizer()\n",
    "stopwords_list = stopwords.words('english')\n",
    "def cleanText(text):    \n",
    "    text = text.lower()\n",
    "    text = re.sub(\"[^a-zA-Z]\", \" \", text)\n",
    "    words = text.split()\n",
    "    #clean_words = [word for word in words if (word not in stopwords_list ) and len(word) > 2] \n",
    "    clean_words = [word for word in words if (word not in stopwords_list )] \n",
    "    normalized = [lemma.lemmatize(NewWord) for NewWord in clean_words]\n",
    "    return \" \".join(clean_words)"
   ]
  },
  {
   "cell_type": "code",
   "execution_count": 79,
   "metadata": {},
   "outputs": [],
   "source": [
    "DefectNew = DefectDF.copy()"
   ]
  },
  {
   "cell_type": "code",
   "execution_count": 101,
   "metadata": {},
   "outputs": [],
   "source": [
    "df3 = DefectDF[DefectDF['Application under Test']=='Windows4']\n",
    "df3['Dev Comments'] = df3['Dev Comments'].apply(lambda x: cleanText(x))"
   ]
  },
  {
   "cell_type": "code",
   "execution_count": 102,
   "metadata": {},
   "outputs": [
    {
     "data": {
      "text/plain": [
       "(-0.5, 799.5, 499.5, -0.5)"
      ]
     },
     "execution_count": 102,
     "metadata": {},
     "output_type": "execute_result"
    },
    {
     "data": {
      "image/png": "[encoded data removed]",
      "text/plain": [
       "<Figure size 1440x720 with 1 Axes>"
      ]
     },
     "metadata": {
      "needs_background": "light"
     },
     "output_type": "display_data"
    }
   ],
   "source": [
    "all_words=' '.join(df3['Dev Comments'])\n",
    "\n",
    "# generate wordcloud object\n",
    "wordcloud=WordCloud(width=800, height=500, random_state=21, max_font_size=110).generate(all_words)\n",
    "\n",
    "# plot wordcloud\n",
    "plt.figure(figsize=(20,10))\n",
    "plt.title('Dev comments for Windows4 Application')\n",
    "plt.imshow(wordcloud, interpolation='bilinear')\n",
    "plt.axis('off')"
   ]
  },
  {
   "cell_type": "code",
   "execution_count": 103,
   "metadata": {},
   "outputs": [
    {
     "data": {
      "text/plain": [
       "Defect ID\n",
       "54                    mq\n",
       "74    looking root cause\n",
       "91               cb pull\n",
       "53    looking root cause\n",
       "93      decision machine\n",
       "73    looking root cause\n",
       "75               cb pull\n",
       "70      decision machine\n",
       "90               cb pull\n",
       "8                cb pull\n",
       "94      decision machine\n",
       "72    looking root cause\n",
       "92    looking root cause\n",
       "95      decision machine\n",
       "55                    mq\n",
       "71      decision machine\n",
       "Name: Dev Comments, dtype: object"
      ]
     },
     "execution_count": 103,
     "metadata": {},
     "output_type": "execute_result"
    }
   ],
   "source": [
    "df3['Dev Comments']"
   ]
  },
  {
   "cell_type": "code",
   "execution_count": 104,
   "metadata": {},
   "outputs": [
    {
     "data": {
      "text/plain": [
       "(-0.5, 799.5, 499.5, -0.5)"
      ]
     },
     "execution_count": 104,
     "metadata": {},
     "output_type": "execute_result"
    },
    {
     "data": {
      "image/png": "[encoded data removed]",
      "text/plain": [
       "<Figure size 1440x720 with 1 Axes>"
      ]
     },
     "metadata": {
      "needs_background": "light"
     },
     "output_type": "display_data"
    }
   ],
   "source": [
    "df3 = df1.copy()\n",
    "df3['Dev Comments'] = df3['Dev Comments'].apply(lambda x: cleanText(x))\n",
    "all_words=' '.join(df3['Dev Comments'])\n",
    "\n",
    "# generate wordcloud object\n",
    "wordcloud=WordCloud(width=800, height=500, random_state=21, max_font_size=110).generate(all_words)\n",
    "\n",
    "# plot wordcloud\n",
    "plt.figure(figsize=(20,10))\n",
    "plt.title('Overall Dev comments')\n",
    "plt.imshow(wordcloud, interpolation='bilinear')\n",
    "plt.axis('off')"
   ]
  },
  {
   "cell_type": "code",
   "execution_count": 7,
   "metadata": {},
   "outputs": [
    {
     "name": "stdout",
     "output_type": "stream",
     "text": [
      "0.05 quantile :- 2.0\n",
      "0.25 quantile :- 4.0\n",
      "0.50 quantile :- 7.0\n",
      "0.75 quantile :- 12.0\n",
      "0.95 quantile :- 14.699999999999996\n",
      "minimum AFT :- 1\n",
      "maximum AFT :- 15\n",
      "mean AFT :- 8.0\n"
     ]
    }
   ],
   "source": [
    "print(\"0.05 quantile :-\",DefectDF[DefectDF['Priority']=='1 - High']['Actual Fix Time'].quantile(0.05))\n",
    "print(\"0.25 quantile :-\",DefectDF[DefectDF['Priority']=='1 - High']['Actual Fix Time'].quantile(0.25))\n",
    "print(\"0.50 quantile :-\",DefectDF[DefectDF['Priority']=='1 - High']['Actual Fix Time'].quantile(0.50))\n",
    "print(\"0.75 quantile :-\",DefectDF[DefectDF['Priority']=='1 - High']['Actual Fix Time'].quantile(0.75))\n",
    "print(\"0.95 quantile :-\",DefectDF[DefectDF['Priority']=='1 - High']['Actual Fix Time'].quantile(0.95))\n",
    "print(\"minimum AFT :-\",DefectDF[DefectDF['Priority']=='1 - High']['Actual Fix Time'].min())\n",
    "print(\"maximum AFT :-\",DefectDF[DefectDF['Priority']=='1 - High']['Actual Fix Time'].max())\n",
    "print(\"mean AFT :-\",DefectDF[DefectDF['Priority']=='1 - High']['Actual Fix Time'].mean())"
   ]
  },
  {
   "cell_type": "code",
   "execution_count": 8,
   "metadata": {},
   "outputs": [],
   "source": [
    "bins=[-1,7.0,12.0,15]\n",
    "labels=['Low','Medium','High']\n",
    "DefectDF['AFT Category High']=pd.cut(DefectDF[DefectDF['Priority']=='1 - High']['Actual Fix Time'], bins=bins, labels=labels)"
   ]
  },
  {
   "cell_type": "code",
   "execution_count": 9,
   "metadata": {},
   "outputs": [
    {
     "data": {
      "text/html": [
       "<div>\n",
       "<style scoped>\n",
       "    .dataframe tbody tr th:only-of-type {\n",
       "        vertical-align: middle;\n",
       "    }\n",
       "\n",
       "    .dataframe tbody tr th {\n",
       "        vertical-align: top;\n",
       "    }\n",
       "\n",
       "    .dataframe thead th {\n",
       "        text-align: right;\n",
       "    }\n",
       "</style>\n",
       "<table border=\"1\" class=\"dataframe\">\n",
       "  <thead>\n",
       "    <tr style=\"text-align: right;\">\n",
       "      <th></th>\n",
       "      <th>Defect Summary</th>\n",
       "      <th>Detected By</th>\n",
       "      <th>Detection Date</th>\n",
       "      <th>Subject</th>\n",
       "      <th>Status</th>\n",
       "      <th>Severity</th>\n",
       "      <th>Priority</th>\n",
       "      <th>Assigned to</th>\n",
       "      <th>Actual Fix Time</th>\n",
       "      <th>Closing Date</th>\n",
       "      <th>Dev Comments</th>\n",
       "      <th>Detected in Phase</th>\n",
       "      <th>Root Cause</th>\n",
       "      <th>Detected in Cycle</th>\n",
       "      <th>Application under Test</th>\n",
       "      <th>Description</th>\n",
       "      <th>year</th>\n",
       "      <th>AFT Category High</th>\n",
       "    </tr>\n",
       "    <tr>\n",
       "      <th>Defect ID</th>\n",
       "      <th></th>\n",
       "      <th></th>\n",
       "      <th></th>\n",
       "      <th></th>\n",
       "      <th></th>\n",
       "      <th></th>\n",
       "      <th></th>\n",
       "      <th></th>\n",
       "      <th></th>\n",
       "      <th></th>\n",
       "      <th></th>\n",
       "      <th></th>\n",
       "      <th></th>\n",
       "      <th></th>\n",
       "      <th></th>\n",
       "      <th></th>\n",
       "      <th></th>\n",
       "      <th></th>\n",
       "    </tr>\n",
       "  </thead>\n",
       "  <tbody>\n",
       "    <tr>\n",
       "      <th>54</th>\n",
       "      <td>ABCD 2258 : Windows Application is showing low...</td>\n",
       "      <td>JonasK</td>\n",
       "      <td>2016-01-02</td>\n",
       "      <td>ABCD 1147 : Windows PAT Validation</td>\n",
       "      <td>Production</td>\n",
       "      <td>2 - Critical</td>\n",
       "      <td>1 - High</td>\n",
       "      <td>NoahMC</td>\n",
       "      <td>11</td>\n",
       "      <td>2016-01-13</td>\n",
       "      <td>MQ is down</td>\n",
       "      <td>SIT</td>\n",
       "      <td>Code</td>\n",
       "      <td>SIT1</td>\n",
       "      <td>Windows4</td>\n",
       "      <td>The performance of the system is lagging by 30...</td>\n",
       "      <td>2016</td>\n",
       "      <td>Medium</td>\n",
       "    </tr>\n",
       "    <tr>\n",
       "      <th>74</th>\n",
       "      <td>ABCD 2258 : Windows Application is showing low...</td>\n",
       "      <td>ClaudiaT</td>\n",
       "      <td>2016-02-05</td>\n",
       "      <td>ABCD 1147 : Windows PAT Validation</td>\n",
       "      <td>New</td>\n",
       "      <td>1 - Showstopper</td>\n",
       "      <td>1 - High</td>\n",
       "      <td>NoahMC</td>\n",
       "      <td>7</td>\n",
       "      <td>2016-02-12</td>\n",
       "      <td>We are looking for the root cause</td>\n",
       "      <td>UAT</td>\n",
       "      <td>Development Documentation</td>\n",
       "      <td>SIT1</td>\n",
       "      <td>Windows4</td>\n",
       "      <td>The performance of the system is lagging by 30...</td>\n",
       "      <td>2016</td>\n",
       "      <td>Low</td>\n",
       "    </tr>\n",
       "    <tr>\n",
       "      <th>10</th>\n",
       "      <td>ABCD 5696 : Status coming is different on Wind...</td>\n",
       "      <td>InesK</td>\n",
       "      <td>2016-02-18</td>\n",
       "      <td>ABCD 5696 : Windows UI Validation</td>\n",
       "      <td>Fixed</td>\n",
       "      <td>3 - Non-Critical</td>\n",
       "      <td>2 - Medium</td>\n",
       "      <td>NoahMC</td>\n",
       "      <td>6</td>\n",
       "      <td>2016-02-24</td>\n",
       "      <td>Decision machine is down</td>\n",
       "      <td>SIT</td>\n",
       "      <td>Test case</td>\n",
       "      <td>CR1</td>\n",
       "      <td>WEB3</td>\n",
       "      <td>Status shown is Passed instead of failed</td>\n",
       "      <td>2016</td>\n",
       "      <td>NaN</td>\n",
       "    </tr>\n",
       "    <tr>\n",
       "      <th>5</th>\n",
       "      <td>ABCD 1231: Field value is different on Web UI</td>\n",
       "      <td>ClaudiaT</td>\n",
       "      <td>2016-03-07</td>\n",
       "      <td>ABCD 1231 : Web UI Validation</td>\n",
       "      <td>Monitor</td>\n",
       "      <td>2 - Critical</td>\n",
       "      <td>1 - High</td>\n",
       "      <td>AleksanderT</td>\n",
       "      <td>7</td>\n",
       "      <td>2016-03-14</td>\n",
       "      <td>We are looking for the root cause</td>\n",
       "      <td>DIT</td>\n",
       "      <td>Development Documentation</td>\n",
       "      <td>Sprint1</td>\n",
       "      <td>Windows1</td>\n",
       "      <td>Field A is showing different value</td>\n",
       "      <td>2016</td>\n",
       "      <td>Low</td>\n",
       "    </tr>\n",
       "    <tr>\n",
       "      <th>14</th>\n",
       "      <td>ABCD 1231: Status coming on Web UI is different</td>\n",
       "      <td>ElisabethD</td>\n",
       "      <td>2016-03-14</td>\n",
       "      <td>ABCD 1231 : Web UI Validation</td>\n",
       "      <td>Closed</td>\n",
       "      <td>2 - Critical</td>\n",
       "      <td>1 - High</td>\n",
       "      <td>NoahMC</td>\n",
       "      <td>5</td>\n",
       "      <td>2016-03-19</td>\n",
       "      <td>Decision machine is down</td>\n",
       "      <td>SPRINT</td>\n",
       "      <td>Development Documentation</td>\n",
       "      <td>CR5</td>\n",
       "      <td>WEB1</td>\n",
       "      <td>Status shown is Passed instead of failed</td>\n",
       "      <td>2016</td>\n",
       "      <td>Low</td>\n",
       "    </tr>\n",
       "  </tbody>\n",
       "</table>\n",
       "</div>"
      ],
      "text/plain": [
       "                                              Defect Summary Detected By  \\\n",
       "Defect ID                                                                  \n",
       "54         ABCD 2258 : Windows Application is showing low...      JonasK   \n",
       "74         ABCD 2258 : Windows Application is showing low...    ClaudiaT   \n",
       "10         ABCD 5696 : Status coming is different on Wind...       InesK   \n",
       "5              ABCD 1231: Field value is different on Web UI    ClaudiaT   \n",
       "14           ABCD 1231: Status coming on Web UI is different  ElisabethD   \n",
       "\n",
       "          Detection Date                             Subject      Status  \\\n",
       "Defect ID                                                                  \n",
       "54            2016-01-02  ABCD 1147 : Windows PAT Validation  Production   \n",
       "74            2016-02-05  ABCD 1147 : Windows PAT Validation         New   \n",
       "10            2016-02-18   ABCD 5696 : Windows UI Validation       Fixed   \n",
       "5             2016-03-07       ABCD 1231 : Web UI Validation     Monitor   \n",
       "14            2016-03-14       ABCD 1231 : Web UI Validation      Closed   \n",
       "\n",
       "                   Severity    Priority  Assigned to  Actual Fix Time  \\\n",
       "Defect ID                                                               \n",
       "54             2 - Critical    1 - High       NoahMC               11   \n",
       "74          1 - Showstopper    1 - High       NoahMC                7   \n",
       "10         3 - Non-Critical  2 - Medium       NoahMC                6   \n",
       "5              2 - Critical    1 - High  AleksanderT                7   \n",
       "14             2 - Critical    1 - High       NoahMC                5   \n",
       "\n",
       "          Closing Date                       Dev Comments Detected in Phase  \\\n",
       "Defect ID                                                                     \n",
       "54          2016-01-13                         MQ is down               SIT   \n",
       "74          2016-02-12  We are looking for the root cause               UAT   \n",
       "10          2016-02-24           Decision machine is down               SIT   \n",
       "5           2016-03-14  We are looking for the root cause               DIT   \n",
       "14          2016-03-19           Decision machine is down            SPRINT   \n",
       "\n",
       "                          Root Cause Detected in Cycle Application under Test  \\\n",
       "Defect ID                                                                       \n",
       "54                              Code              SIT1               Windows4   \n",
       "74         Development Documentation              SIT1               Windows4   \n",
       "10                         Test case               CR1                   WEB3   \n",
       "5          Development Documentation           Sprint1               Windows1   \n",
       "14         Development Documentation               CR5                   WEB1   \n",
       "\n",
       "                                                 Description  year  \\\n",
       "Defect ID                                                            \n",
       "54         The performance of the system is lagging by 30...  2016   \n",
       "74         The performance of the system is lagging by 30...  2016   \n",
       "10                  Status shown is Passed instead of failed  2016   \n",
       "5                         Field A is showing different value  2016   \n",
       "14                  Status shown is Passed instead of failed  2016   \n",
       "\n",
       "          AFT Category High  \n",
       "Defect ID                    \n",
       "54                   Medium  \n",
       "74                      Low  \n",
       "10                      NaN  \n",
       "5                       Low  \n",
       "14                      Low  "
      ]
     },
     "execution_count": 9,
     "metadata": {},
     "output_type": "execute_result"
    }
   ],
   "source": [
    "DefectDF.head()"
   ]
  },
  {
   "cell_type": "code",
   "execution_count": 10,
   "metadata": {},
   "outputs": [
    {
     "name": "stdout",
     "output_type": "stream",
     "text": [
      "0.05 quantile :- 2.1500000000000004\n",
      "0.25 quantile :- 4.75\n",
      "0.50 quantile :- 7.0\n",
      "0.75 quantile :- 10.25\n",
      "0.95 quantile :- 15.0\n",
      "minimum AFT :- 2\n",
      "maximum AFT :- 15\n",
      "mean AFT :- 7.541666666666667\n"
     ]
    }
   ],
   "source": [
    "print(\"0.05 quantile :-\",DefectDF[DefectDF['Priority']=='2 - Medium']['Actual Fix Time'].quantile(0.05))\n",
    "print(\"0.25 quantile :-\",DefectDF[DefectDF['Priority']=='2 - Medium']['Actual Fix Time'].quantile(0.25))\n",
    "print(\"0.50 quantile :-\",DefectDF[DefectDF['Priority']=='2 - Medium']['Actual Fix Time'].quantile(0.50))\n",
    "print(\"0.75 quantile :-\",DefectDF[DefectDF['Priority']=='2 - Medium']['Actual Fix Time'].quantile(0.75))\n",
    "print(\"0.95 quantile :-\",DefectDF[DefectDF['Priority']=='2 - Medium']['Actual Fix Time'].quantile(0.95))\n",
    "print(\"minimum AFT :-\",DefectDF[DefectDF['Priority']=='2 - Medium']['Actual Fix Time'].min())\n",
    "print(\"maximum AFT :-\",DefectDF[DefectDF['Priority']=='2 - Medium']['Actual Fix Time'].max())\n",
    "print(\"mean AFT :-\",DefectDF[DefectDF['Priority']=='2 - Medium']['Actual Fix Time'].mean())"
   ]
  },
  {
   "cell_type": "code",
   "execution_count": 11,
   "metadata": {},
   "outputs": [],
   "source": [
    "bins=[-1,7.0,10.25,15]\n",
    "labels=['Low','Medium','High']\n",
    "DefectDF['AFT Category']=pd.cut(DefectDF[DefectDF['Priority']=='2 - Medium']['Actual Fix Time'], bins=bins, labels=labels)"
   ]
  },
  {
   "cell_type": "code",
   "execution_count": 12,
   "metadata": {},
   "outputs": [
    {
     "data": {
      "text/html": [
       "<div>\n",
       "<style scoped>\n",
       "    .dataframe tbody tr th:only-of-type {\n",
       "        vertical-align: middle;\n",
       "    }\n",
       "\n",
       "    .dataframe tbody tr th {\n",
       "        vertical-align: top;\n",
       "    }\n",
       "\n",
       "    .dataframe thead th {\n",
       "        text-align: right;\n",
       "    }\n",
       "</style>\n",
       "<table border=\"1\" class=\"dataframe\">\n",
       "  <thead>\n",
       "    <tr style=\"text-align: right;\">\n",
       "      <th></th>\n",
       "      <th>Defect Summary</th>\n",
       "      <th>Detected By</th>\n",
       "      <th>Detection Date</th>\n",
       "      <th>Subject</th>\n",
       "      <th>Status</th>\n",
       "      <th>Severity</th>\n",
       "      <th>Priority</th>\n",
       "      <th>Assigned to</th>\n",
       "      <th>Actual Fix Time</th>\n",
       "      <th>Closing Date</th>\n",
       "      <th>Dev Comments</th>\n",
       "      <th>Detected in Phase</th>\n",
       "      <th>Root Cause</th>\n",
       "      <th>Detected in Cycle</th>\n",
       "      <th>Application under Test</th>\n",
       "      <th>Description</th>\n",
       "      <th>year</th>\n",
       "      <th>AFT Category High</th>\n",
       "      <th>AFT Category</th>\n",
       "    </tr>\n",
       "    <tr>\n",
       "      <th>Defect ID</th>\n",
       "      <th></th>\n",
       "      <th></th>\n",
       "      <th></th>\n",
       "      <th></th>\n",
       "      <th></th>\n",
       "      <th></th>\n",
       "      <th></th>\n",
       "      <th></th>\n",
       "      <th></th>\n",
       "      <th></th>\n",
       "      <th></th>\n",
       "      <th></th>\n",
       "      <th></th>\n",
       "      <th></th>\n",
       "      <th></th>\n",
       "      <th></th>\n",
       "      <th></th>\n",
       "      <th></th>\n",
       "      <th></th>\n",
       "    </tr>\n",
       "  </thead>\n",
       "  <tbody>\n",
       "    <tr>\n",
       "      <th>64</th>\n",
       "      <td>ABCD 2258 : Web Application is showing low per...</td>\n",
       "      <td>KatharinaN</td>\n",
       "      <td>2020-10-18</td>\n",
       "      <td>ABCD 2258 : Web PAT Validation</td>\n",
       "      <td>Fixed</td>\n",
       "      <td>4 - Live with</td>\n",
       "      <td>3 - Low</td>\n",
       "      <td>HelgeD</td>\n",
       "      <td>15</td>\n",
       "      <td>2020-11-02</td>\n",
       "      <td>Decision machine is down</td>\n",
       "      <td>PROD</td>\n",
       "      <td>Design</td>\n",
       "      <td>SIT2</td>\n",
       "      <td>WEB2</td>\n",
       "      <td>The performance of the system is lagging by 30...</td>\n",
       "      <td>2020</td>\n",
       "      <td>NaN</td>\n",
       "      <td>NaN</td>\n",
       "    </tr>\n",
       "    <tr>\n",
       "      <th>71</th>\n",
       "      <td>ABCD 5696 : Field value is different on Window...</td>\n",
       "      <td>JonasK</td>\n",
       "      <td>2020-10-30</td>\n",
       "      <td>ABCD 5696 : Windows UI Validation</td>\n",
       "      <td>Closed</td>\n",
       "      <td>2 - Critical</td>\n",
       "      <td>1 - High</td>\n",
       "      <td>NoahMC</td>\n",
       "      <td>15</td>\n",
       "      <td>2020-11-14</td>\n",
       "      <td>Decision machine is down</td>\n",
       "      <td>SIT</td>\n",
       "      <td>Development Documentation</td>\n",
       "      <td>SIT1</td>\n",
       "      <td>Windows4</td>\n",
       "      <td>Field e is showing different value</td>\n",
       "      <td>2020</td>\n",
       "      <td>High</td>\n",
       "      <td>NaN</td>\n",
       "    </tr>\n",
       "    <tr>\n",
       "      <th>28</th>\n",
       "      <td>ABCD 2258 : Windows Application is showing low...</td>\n",
       "      <td>JonasK</td>\n",
       "      <td>2020-10-31</td>\n",
       "      <td>ABCD 1147 : Windows PAT Validation</td>\n",
       "      <td>Closed</td>\n",
       "      <td>1 - Showstopper</td>\n",
       "      <td>1 - High</td>\n",
       "      <td>NoahMC</td>\n",
       "      <td>3</td>\n",
       "      <td>2020-11-03</td>\n",
       "      <td>CB Pull is down</td>\n",
       "      <td>UAT</td>\n",
       "      <td>Code</td>\n",
       "      <td>SIT2</td>\n",
       "      <td>WEB1</td>\n",
       "      <td>The performance of the system is lagging by 30...</td>\n",
       "      <td>2020</td>\n",
       "      <td>Low</td>\n",
       "      <td>NaN</td>\n",
       "    </tr>\n",
       "    <tr>\n",
       "      <th>45</th>\n",
       "      <td>ABCD 5696 : Field is missing on Windows UI</td>\n",
       "      <td>ClaudiaT</td>\n",
       "      <td>2020-11-17</td>\n",
       "      <td>ABCD 5696 : Windows UI Validation</td>\n",
       "      <td>Fixed</td>\n",
       "      <td>3 - Non-Critical</td>\n",
       "      <td>2 - Medium</td>\n",
       "      <td>AdamMC</td>\n",
       "      <td>15</td>\n",
       "      <td>2020-12-02</td>\n",
       "      <td>Decision machine is down</td>\n",
       "      <td>SIT</td>\n",
       "      <td>Design</td>\n",
       "      <td>SIT2</td>\n",
       "      <td>Windows1</td>\n",
       "      <td>Field f is missing on Windows UI</td>\n",
       "      <td>2020</td>\n",
       "      <td>NaN</td>\n",
       "      <td>High</td>\n",
       "    </tr>\n",
       "    <tr>\n",
       "      <th>78</th>\n",
       "      <td>ABCD 1231: Status coming on Web UI is different</td>\n",
       "      <td>KatharinaN</td>\n",
       "      <td>2020-11-23</td>\n",
       "      <td>ABCD 1231 : Web UI Validation</td>\n",
       "      <td>New</td>\n",
       "      <td>4 - Live with</td>\n",
       "      <td>3 - Low</td>\n",
       "      <td>AleksanderT</td>\n",
       "      <td>3</td>\n",
       "      <td>2020-11-26</td>\n",
       "      <td>We are looking for the root cause</td>\n",
       "      <td>SIT</td>\n",
       "      <td>not yet analyzed</td>\n",
       "      <td>Sprint1</td>\n",
       "      <td>Windows1</td>\n",
       "      <td>Status shown is declined instead of approved</td>\n",
       "      <td>2020</td>\n",
       "      <td>NaN</td>\n",
       "      <td>NaN</td>\n",
       "    </tr>\n",
       "  </tbody>\n",
       "</table>\n",
       "</div>"
      ],
      "text/plain": [
       "                                              Defect Summary Detected By  \\\n",
       "Defect ID                                                                  \n",
       "64         ABCD 2258 : Web Application is showing low per...  KatharinaN   \n",
       "71         ABCD 5696 : Field value is different on Window...      JonasK   \n",
       "28         ABCD 2258 : Windows Application is showing low...      JonasK   \n",
       "45                ABCD 5696 : Field is missing on Windows UI    ClaudiaT   \n",
       "78           ABCD 1231: Status coming on Web UI is different  KatharinaN   \n",
       "\n",
       "          Detection Date                             Subject  Status  \\\n",
       "Defect ID                                                              \n",
       "64            2020-10-18      ABCD 2258 : Web PAT Validation   Fixed   \n",
       "71            2020-10-30   ABCD 5696 : Windows UI Validation  Closed   \n",
       "28            2020-10-31  ABCD 1147 : Windows PAT Validation  Closed   \n",
       "45            2020-11-17   ABCD 5696 : Windows UI Validation   Fixed   \n",
       "78            2020-11-23       ABCD 1231 : Web UI Validation     New   \n",
       "\n",
       "                   Severity    Priority  Assigned to  Actual Fix Time  \\\n",
       "Defect ID                                                               \n",
       "64            4 - Live with     3 - Low       HelgeD               15   \n",
       "71             2 - Critical    1 - High       NoahMC               15   \n",
       "28          1 - Showstopper    1 - High       NoahMC                3   \n",
       "45         3 - Non-Critical  2 - Medium       AdamMC               15   \n",
       "78            4 - Live with     3 - Low  AleksanderT                3   \n",
       "\n",
       "          Closing Date                       Dev Comments Detected in Phase  \\\n",
       "Defect ID                                                                     \n",
       "64          2020-11-02           Decision machine is down              PROD   \n",
       "71          2020-11-14           Decision machine is down               SIT   \n",
       "28          2020-11-03                    CB Pull is down               UAT   \n",
       "45          2020-12-02           Decision machine is down               SIT   \n",
       "78          2020-11-26  We are looking for the root cause               SIT   \n",
       "\n",
       "                          Root Cause Detected in Cycle Application under Test  \\\n",
       "Defect ID                                                                       \n",
       "64                            Design              SIT2                   WEB2   \n",
       "71         Development Documentation              SIT1               Windows4   \n",
       "28                              Code              SIT2                   WEB1   \n",
       "45                            Design              SIT2               Windows1   \n",
       "78                  not yet analyzed           Sprint1               Windows1   \n",
       "\n",
       "                                                 Description  year  \\\n",
       "Defect ID                                                            \n",
       "64         The performance of the system is lagging by 30...  2020   \n",
       "71                        Field e is showing different value  2020   \n",
       "28         The performance of the system is lagging by 30...  2020   \n",
       "45                          Field f is missing on Windows UI  2020   \n",
       "78              Status shown is declined instead of approved  2020   \n",
       "\n",
       "          AFT Category High AFT Category  \n",
       "Defect ID                                 \n",
       "64                      NaN          NaN  \n",
       "71                     High          NaN  \n",
       "28                      Low          NaN  \n",
       "45                      NaN         High  \n",
       "78                      NaN          NaN  "
      ]
     },
     "execution_count": 12,
     "metadata": {},
     "output_type": "execute_result"
    }
   ],
   "source": [
    "DefectDF.tail()"
   ]
  },
  {
   "cell_type": "code",
   "execution_count": 13,
   "metadata": {},
   "outputs": [
    {
     "name": "stdout",
     "output_type": "stream",
     "text": [
      "0.05 quantile :- 1.0\n",
      "0.25 quantile :- 4.0\n",
      "0.50 quantile :- 11.0\n",
      "0.75 quantile :- 14.0\n",
      "0.95 quantile :- 15.0\n",
      "minimum AFT :- 1\n",
      "maximum AFT :- 15\n",
      "mean AFT :- 9.206896551724139\n"
     ]
    }
   ],
   "source": [
    "print(\"0.05 quantile :-\",DefectDF[DefectDF['Priority']=='3 - Low']['Actual Fix Time'].quantile(0.05))\n",
    "print(\"0.25 quantile :-\",DefectDF[DefectDF['Priority']=='3 - Low']['Actual Fix Time'].quantile(0.25))\n",
    "print(\"0.50 quantile :-\",DefectDF[DefectDF['Priority']=='3 - Low']['Actual Fix Time'].quantile(0.50))\n",
    "print(\"0.75 quantile :-\",DefectDF[DefectDF['Priority']=='3 - Low']['Actual Fix Time'].quantile(0.75))\n",
    "print(\"0.95 quantile :-\",DefectDF[DefectDF['Priority']=='3 - Low']['Actual Fix Time'].quantile(0.95))\n",
    "print(\"minimum AFT :-\",DefectDF[DefectDF['Priority']=='3 - Low']['Actual Fix Time'].min())\n",
    "print(\"maximum AFT :-\",DefectDF[DefectDF['Priority']=='3 - Low']['Actual Fix Time'].max())\n",
    "print(\"mean AFT :-\",DefectDF[DefectDF['Priority']=='3 - Low']['Actual Fix Time'].mean())"
   ]
  },
  {
   "cell_type": "code",
   "execution_count": 14,
   "metadata": {},
   "outputs": [],
   "source": [
    "bins=[-1,11.0,14.0,15]\n",
    "labels=['Low','Medium','High']\n",
    "DefectDF['AFT Category Low']=pd.cut(DefectDF[DefectDF['Priority']=='3 - Low']['Actual Fix Time'], bins=bins, labels=labels)"
   ]
  },
  {
   "cell_type": "code",
   "execution_count": 15,
   "metadata": {},
   "outputs": [],
   "source": [
    "DefectDF['AFT Category'].fillna(DefectDF['AFT Category Low'], inplace = True)"
   ]
  },
  {
   "cell_type": "code",
   "execution_count": 16,
   "metadata": {},
   "outputs": [],
   "source": [
    "DefectDF['AFT Category'].fillna(DefectDF['AFT Category High'], inplace = True)"
   ]
  },
  {
   "cell_type": "code",
   "execution_count": 17,
   "metadata": {},
   "outputs": [
    {
     "data": {
      "text/html": [
       "<div>\n",
       "<style scoped>\n",
       "    .dataframe tbody tr th:only-of-type {\n",
       "        vertical-align: middle;\n",
       "    }\n",
       "\n",
       "    .dataframe tbody tr th {\n",
       "        vertical-align: top;\n",
       "    }\n",
       "\n",
       "    .dataframe thead th {\n",
       "        text-align: right;\n",
       "    }\n",
       "</style>\n",
       "<table border=\"1\" class=\"dataframe\">\n",
       "  <thead>\n",
       "    <tr style=\"text-align: right;\">\n",
       "      <th></th>\n",
       "      <th>Defect Summary</th>\n",
       "      <th>Detected By</th>\n",
       "      <th>Detection Date</th>\n",
       "      <th>Subject</th>\n",
       "      <th>Status</th>\n",
       "      <th>Severity</th>\n",
       "      <th>Priority</th>\n",
       "      <th>Assigned to</th>\n",
       "      <th>Actual Fix Time</th>\n",
       "      <th>Closing Date</th>\n",
       "      <th>Dev Comments</th>\n",
       "      <th>Detected in Phase</th>\n",
       "      <th>Root Cause</th>\n",
       "      <th>Detected in Cycle</th>\n",
       "      <th>Application under Test</th>\n",
       "      <th>Description</th>\n",
       "      <th>year</th>\n",
       "      <th>AFT Category High</th>\n",
       "      <th>AFT Category</th>\n",
       "      <th>AFT Category Low</th>\n",
       "    </tr>\n",
       "    <tr>\n",
       "      <th>Defect ID</th>\n",
       "      <th></th>\n",
       "      <th></th>\n",
       "      <th></th>\n",
       "      <th></th>\n",
       "      <th></th>\n",
       "      <th></th>\n",
       "      <th></th>\n",
       "      <th></th>\n",
       "      <th></th>\n",
       "      <th></th>\n",
       "      <th></th>\n",
       "      <th></th>\n",
       "      <th></th>\n",
       "      <th></th>\n",
       "      <th></th>\n",
       "      <th></th>\n",
       "      <th></th>\n",
       "      <th></th>\n",
       "      <th></th>\n",
       "      <th></th>\n",
       "    </tr>\n",
       "  </thead>\n",
       "  <tbody>\n",
       "    <tr>\n",
       "      <th>64</th>\n",
       "      <td>ABCD 2258 : Web Application is showing low per...</td>\n",
       "      <td>KatharinaN</td>\n",
       "      <td>2020-10-18</td>\n",
       "      <td>ABCD 2258 : Web PAT Validation</td>\n",
       "      <td>Fixed</td>\n",
       "      <td>4 - Live with</td>\n",
       "      <td>3 - Low</td>\n",
       "      <td>HelgeD</td>\n",
       "      <td>15</td>\n",
       "      <td>2020-11-02</td>\n",
       "      <td>Decision machine is down</td>\n",
       "      <td>PROD</td>\n",
       "      <td>Design</td>\n",
       "      <td>SIT2</td>\n",
       "      <td>WEB2</td>\n",
       "      <td>The performance of the system is lagging by 30...</td>\n",
       "      <td>2020</td>\n",
       "      <td>NaN</td>\n",
       "      <td>High</td>\n",
       "      <td>High</td>\n",
       "    </tr>\n",
       "    <tr>\n",
       "      <th>71</th>\n",
       "      <td>ABCD 5696 : Field value is different on Window...</td>\n",
       "      <td>JonasK</td>\n",
       "      <td>2020-10-30</td>\n",
       "      <td>ABCD 5696 : Windows UI Validation</td>\n",
       "      <td>Closed</td>\n",
       "      <td>2 - Critical</td>\n",
       "      <td>1 - High</td>\n",
       "      <td>NoahMC</td>\n",
       "      <td>15</td>\n",
       "      <td>2020-11-14</td>\n",
       "      <td>Decision machine is down</td>\n",
       "      <td>SIT</td>\n",
       "      <td>Development Documentation</td>\n",
       "      <td>SIT1</td>\n",
       "      <td>Windows4</td>\n",
       "      <td>Field e is showing different value</td>\n",
       "      <td>2020</td>\n",
       "      <td>High</td>\n",
       "      <td>High</td>\n",
       "      <td>NaN</td>\n",
       "    </tr>\n",
       "    <tr>\n",
       "      <th>28</th>\n",
       "      <td>ABCD 2258 : Windows Application is showing low...</td>\n",
       "      <td>JonasK</td>\n",
       "      <td>2020-10-31</td>\n",
       "      <td>ABCD 1147 : Windows PAT Validation</td>\n",
       "      <td>Closed</td>\n",
       "      <td>1 - Showstopper</td>\n",
       "      <td>1 - High</td>\n",
       "      <td>NoahMC</td>\n",
       "      <td>3</td>\n",
       "      <td>2020-11-03</td>\n",
       "      <td>CB Pull is down</td>\n",
       "      <td>UAT</td>\n",
       "      <td>Code</td>\n",
       "      <td>SIT2</td>\n",
       "      <td>WEB1</td>\n",
       "      <td>The performance of the system is lagging by 30...</td>\n",
       "      <td>2020</td>\n",
       "      <td>Low</td>\n",
       "      <td>Low</td>\n",
       "      <td>NaN</td>\n",
       "    </tr>\n",
       "    <tr>\n",
       "      <th>45</th>\n",
       "      <td>ABCD 5696 : Field is missing on Windows UI</td>\n",
       "      <td>ClaudiaT</td>\n",
       "      <td>2020-11-17</td>\n",
       "      <td>ABCD 5696 : Windows UI Validation</td>\n",
       "      <td>Fixed</td>\n",
       "      <td>3 - Non-Critical</td>\n",
       "      <td>2 - Medium</td>\n",
       "      <td>AdamMC</td>\n",
       "      <td>15</td>\n",
       "      <td>2020-12-02</td>\n",
       "      <td>Decision machine is down</td>\n",
       "      <td>SIT</td>\n",
       "      <td>Design</td>\n",
       "      <td>SIT2</td>\n",
       "      <td>Windows1</td>\n",
       "      <td>Field f is missing on Windows UI</td>\n",
       "      <td>2020</td>\n",
       "      <td>NaN</td>\n",
       "      <td>High</td>\n",
       "      <td>NaN</td>\n",
       "    </tr>\n",
       "    <tr>\n",
       "      <th>78</th>\n",
       "      <td>ABCD 1231: Status coming on Web UI is different</td>\n",
       "      <td>KatharinaN</td>\n",
       "      <td>2020-11-23</td>\n",
       "      <td>ABCD 1231 : Web UI Validation</td>\n",
       "      <td>New</td>\n",
       "      <td>4 - Live with</td>\n",
       "      <td>3 - Low</td>\n",
       "      <td>AleksanderT</td>\n",
       "      <td>3</td>\n",
       "      <td>2020-11-26</td>\n",
       "      <td>We are looking for the root cause</td>\n",
       "      <td>SIT</td>\n",
       "      <td>not yet analyzed</td>\n",
       "      <td>Sprint1</td>\n",
       "      <td>Windows1</td>\n",
       "      <td>Status shown is declined instead of approved</td>\n",
       "      <td>2020</td>\n",
       "      <td>NaN</td>\n",
       "      <td>Low</td>\n",
       "      <td>Low</td>\n",
       "    </tr>\n",
       "  </tbody>\n",
       "</table>\n",
       "</div>"
      ],
      "text/plain": [
       "                                              Defect Summary Detected By  \\\n",
       "Defect ID                                                                  \n",
       "64         ABCD 2258 : Web Application is showing low per...  KatharinaN   \n",
       "71         ABCD 5696 : Field value is different on Window...      JonasK   \n",
       "28         ABCD 2258 : Windows Application is showing low...      JonasK   \n",
       "45                ABCD 5696 : Field is missing on Windows UI    ClaudiaT   \n",
       "78           ABCD 1231: Status coming on Web UI is different  KatharinaN   \n",
       "\n",
       "          Detection Date                             Subject  Status  \\\n",
       "Defect ID                                                              \n",
       "64            2020-10-18      ABCD 2258 : Web PAT Validation   Fixed   \n",
       "71            2020-10-30   ABCD 5696 : Windows UI Validation  Closed   \n",
       "28            2020-10-31  ABCD 1147 : Windows PAT Validation  Closed   \n",
       "45            2020-11-17   ABCD 5696 : Windows UI Validation   Fixed   \n",
       "78            2020-11-23       ABCD 1231 : Web UI Validation     New   \n",
       "\n",
       "                   Severity    Priority  Assigned to  Actual Fix Time  \\\n",
       "Defect ID                                                               \n",
       "64            4 - Live with     3 - Low       HelgeD               15   \n",
       "71             2 - Critical    1 - High       NoahMC               15   \n",
       "28          1 - Showstopper    1 - High       NoahMC                3   \n",
       "45         3 - Non-Critical  2 - Medium       AdamMC               15   \n",
       "78            4 - Live with     3 - Low  AleksanderT                3   \n",
       "\n",
       "          Closing Date                       Dev Comments Detected in Phase  \\\n",
       "Defect ID                                                                     \n",
       "64          2020-11-02           Decision machine is down              PROD   \n",
       "71          2020-11-14           Decision machine is down               SIT   \n",
       "28          2020-11-03                    CB Pull is down               UAT   \n",
       "45          2020-12-02           Decision machine is down               SIT   \n",
       "78          2020-11-26  We are looking for the root cause               SIT   \n",
       "\n",
       "                          Root Cause Detected in Cycle Application under Test  \\\n",
       "Defect ID                                                                       \n",
       "64                            Design              SIT2                   WEB2   \n",
       "71         Development Documentation              SIT1               Windows4   \n",
       "28                              Code              SIT2                   WEB1   \n",
       "45                            Design              SIT2               Windows1   \n",
       "78                  not yet analyzed           Sprint1               Windows1   \n",
       "\n",
       "                                                 Description  year  \\\n",
       "Defect ID                                                            \n",
       "64         The performance of the system is lagging by 30...  2020   \n",
       "71                        Field e is showing different value  2020   \n",
       "28         The performance of the system is lagging by 30...  2020   \n",
       "45                          Field f is missing on Windows UI  2020   \n",
       "78              Status shown is declined instead of approved  2020   \n",
       "\n",
       "          AFT Category High AFT Category AFT Category Low  \n",
       "Defect ID                                                  \n",
       "64                      NaN         High             High  \n",
       "71                     High         High              NaN  \n",
       "28                      Low          Low              NaN  \n",
       "45                      NaN         High              NaN  \n",
       "78                      NaN          Low              Low  "
      ]
     },
     "execution_count": 17,
     "metadata": {},
     "output_type": "execute_result"
    }
   ],
   "source": [
    "DefectDF.tail()"
   ]
  },
  {
   "cell_type": "code",
   "execution_count": 18,
   "metadata": {},
   "outputs": [
    {
     "data": {
      "text/plain": [
       "Defect Summary             0\n",
       "Detected By                0\n",
       "Detection Date             0\n",
       "Subject                    0\n",
       "Status                     0\n",
       "Severity                   0\n",
       "Priority                   0\n",
       "Assigned to                0\n",
       "Actual Fix Time            0\n",
       "Closing Date               0\n",
       "Dev Comments               0\n",
       "Detected in Phase          0\n",
       "Root Cause                 0\n",
       "Detected in Cycle          0\n",
       "Application under Test     0\n",
       "Description                0\n",
       "year                       0\n",
       "AFT Category High         53\n",
       "AFT Category               0\n",
       "AFT Category Low          71\n",
       "dtype: int64"
      ]
     },
     "execution_count": 18,
     "metadata": {},
     "output_type": "execute_result"
    }
   ],
   "source": [
    "DefectDF.isnull().sum()"
   ]
  },
  {
   "cell_type": "code",
   "execution_count": 19,
   "metadata": {},
   "outputs": [],
   "source": [
    "DefectDF.drop(['AFT Category High','AFT Category Low'],axis = 1, inplace = True)"
   ]
  },
  {
   "cell_type": "code",
   "execution_count": 20,
   "metadata": {},
   "outputs": [],
   "source": [
    "DefectDF[\"AFT score\"] = DefectDF[\"AFT Category\"].replace({\"High\": 3, \"Medium\": 2, \"Low\": 1})\n",
    "DefectDF[\"Priority score\"] = DefectDF[\"Priority\"].replace({\"1 - High\": 3, \"2 - Medium\": 2, \"3 - Low\": 1})\n",
    "DefectDF[\"Severity score\"] = DefectDF[\"Severity\"].replace({\"1 - Showstopper\": 4,\"2 - Critical\": 3, \"3 - Non-Critical\": 2, \"4 - Live with\": 1})"
   ]
  },
  {
   "cell_type": "code",
   "execution_count": 21,
   "metadata": {},
   "outputs": [],
   "source": [
    "DefectDF['Total Developer score'] = DefectDF[\"AFT score\"] + DefectDF[\"Priority score\"] + DefectDF[\"Severity score\"]"
   ]
  },
  {
   "cell_type": "code",
   "execution_count": 22,
   "metadata": {},
   "outputs": [
    {
     "data": {
      "text/html": [
       "<div>\n",
       "<style scoped>\n",
       "    .dataframe tbody tr th:only-of-type {\n",
       "        vertical-align: middle;\n",
       "    }\n",
       "\n",
       "    .dataframe tbody tr th {\n",
       "        vertical-align: top;\n",
       "    }\n",
       "\n",
       "    .dataframe thead th {\n",
       "        text-align: right;\n",
       "    }\n",
       "</style>\n",
       "<table border=\"1\" class=\"dataframe\">\n",
       "  <thead>\n",
       "    <tr style=\"text-align: right;\">\n",
       "      <th></th>\n",
       "      <th>Defect Summary</th>\n",
       "      <th>Detected By</th>\n",
       "      <th>Detection Date</th>\n",
       "      <th>Subject</th>\n",
       "      <th>Status</th>\n",
       "      <th>Severity</th>\n",
       "      <th>Priority</th>\n",
       "      <th>Assigned to</th>\n",
       "      <th>Actual Fix Time</th>\n",
       "      <th>Closing Date</th>\n",
       "      <th>Dev Comments</th>\n",
       "      <th>Detected in Phase</th>\n",
       "      <th>Root Cause</th>\n",
       "      <th>Detected in Cycle</th>\n",
       "      <th>Application under Test</th>\n",
       "      <th>Description</th>\n",
       "      <th>year</th>\n",
       "      <th>AFT Category</th>\n",
       "      <th>AFT score</th>\n",
       "      <th>Priority score</th>\n",
       "      <th>Severity score</th>\n",
       "      <th>Total Developer score</th>\n",
       "    </tr>\n",
       "    <tr>\n",
       "      <th>Defect ID</th>\n",
       "      <th></th>\n",
       "      <th></th>\n",
       "      <th></th>\n",
       "      <th></th>\n",
       "      <th></th>\n",
       "      <th></th>\n",
       "      <th></th>\n",
       "      <th></th>\n",
       "      <th></th>\n",
       "      <th></th>\n",
       "      <th></th>\n",
       "      <th></th>\n",
       "      <th></th>\n",
       "      <th></th>\n",
       "      <th></th>\n",
       "      <th></th>\n",
       "      <th></th>\n",
       "      <th></th>\n",
       "      <th></th>\n",
       "      <th></th>\n",
       "      <th></th>\n",
       "      <th></th>\n",
       "    </tr>\n",
       "  </thead>\n",
       "  <tbody>\n",
       "    <tr>\n",
       "      <th>54</th>\n",
       "      <td>ABCD 2258 : Windows Application is showing low...</td>\n",
       "      <td>JonasK</td>\n",
       "      <td>2016-01-02</td>\n",
       "      <td>ABCD 1147 : Windows PAT Validation</td>\n",
       "      <td>Production</td>\n",
       "      <td>2 - Critical</td>\n",
       "      <td>1 - High</td>\n",
       "      <td>NoahMC</td>\n",
       "      <td>11</td>\n",
       "      <td>2016-01-13</td>\n",
       "      <td>MQ is down</td>\n",
       "      <td>SIT</td>\n",
       "      <td>Code</td>\n",
       "      <td>SIT1</td>\n",
       "      <td>Windows4</td>\n",
       "      <td>The performance of the system is lagging by 30...</td>\n",
       "      <td>2016</td>\n",
       "      <td>Medium</td>\n",
       "      <td>2</td>\n",
       "      <td>3</td>\n",
       "      <td>3</td>\n",
       "      <td>8</td>\n",
       "    </tr>\n",
       "    <tr>\n",
       "      <th>74</th>\n",
       "      <td>ABCD 2258 : Windows Application is showing low...</td>\n",
       "      <td>ClaudiaT</td>\n",
       "      <td>2016-02-05</td>\n",
       "      <td>ABCD 1147 : Windows PAT Validation</td>\n",
       "      <td>New</td>\n",
       "      <td>1 - Showstopper</td>\n",
       "      <td>1 - High</td>\n",
       "      <td>NoahMC</td>\n",
       "      <td>7</td>\n",
       "      <td>2016-02-12</td>\n",
       "      <td>We are looking for the root cause</td>\n",
       "      <td>UAT</td>\n",
       "      <td>Development Documentation</td>\n",
       "      <td>SIT1</td>\n",
       "      <td>Windows4</td>\n",
       "      <td>The performance of the system is lagging by 30...</td>\n",
       "      <td>2016</td>\n",
       "      <td>Low</td>\n",
       "      <td>1</td>\n",
       "      <td>3</td>\n",
       "      <td>4</td>\n",
       "      <td>8</td>\n",
       "    </tr>\n",
       "    <tr>\n",
       "      <th>10</th>\n",
       "      <td>ABCD 5696 : Status coming is different on Wind...</td>\n",
       "      <td>InesK</td>\n",
       "      <td>2016-02-18</td>\n",
       "      <td>ABCD 5696 : Windows UI Validation</td>\n",
       "      <td>Fixed</td>\n",
       "      <td>3 - Non-Critical</td>\n",
       "      <td>2 - Medium</td>\n",
       "      <td>NoahMC</td>\n",
       "      <td>6</td>\n",
       "      <td>2016-02-24</td>\n",
       "      <td>Decision machine is down</td>\n",
       "      <td>SIT</td>\n",
       "      <td>Test case</td>\n",
       "      <td>CR1</td>\n",
       "      <td>WEB3</td>\n",
       "      <td>Status shown is Passed instead of failed</td>\n",
       "      <td>2016</td>\n",
       "      <td>Low</td>\n",
       "      <td>1</td>\n",
       "      <td>2</td>\n",
       "      <td>2</td>\n",
       "      <td>5</td>\n",
       "    </tr>\n",
       "    <tr>\n",
       "      <th>5</th>\n",
       "      <td>ABCD 1231: Field value is different on Web UI</td>\n",
       "      <td>ClaudiaT</td>\n",
       "      <td>2016-03-07</td>\n",
       "      <td>ABCD 1231 : Web UI Validation</td>\n",
       "      <td>Monitor</td>\n",
       "      <td>2 - Critical</td>\n",
       "      <td>1 - High</td>\n",
       "      <td>AleksanderT</td>\n",
       "      <td>7</td>\n",
       "      <td>2016-03-14</td>\n",
       "      <td>We are looking for the root cause</td>\n",
       "      <td>DIT</td>\n",
       "      <td>Development Documentation</td>\n",
       "      <td>Sprint1</td>\n",
       "      <td>Windows1</td>\n",
       "      <td>Field A is showing different value</td>\n",
       "      <td>2016</td>\n",
       "      <td>Low</td>\n",
       "      <td>1</td>\n",
       "      <td>3</td>\n",
       "      <td>3</td>\n",
       "      <td>7</td>\n",
       "    </tr>\n",
       "    <tr>\n",
       "      <th>14</th>\n",
       "      <td>ABCD 1231: Status coming on Web UI is different</td>\n",
       "      <td>ElisabethD</td>\n",
       "      <td>2016-03-14</td>\n",
       "      <td>ABCD 1231 : Web UI Validation</td>\n",
       "      <td>Closed</td>\n",
       "      <td>2 - Critical</td>\n",
       "      <td>1 - High</td>\n",
       "      <td>NoahMC</td>\n",
       "      <td>5</td>\n",
       "      <td>2016-03-19</td>\n",
       "      <td>Decision machine is down</td>\n",
       "      <td>SPRINT</td>\n",
       "      <td>Development Documentation</td>\n",
       "      <td>CR5</td>\n",
       "      <td>WEB1</td>\n",
       "      <td>Status shown is Passed instead of failed</td>\n",
       "      <td>2016</td>\n",
       "      <td>Low</td>\n",
       "      <td>1</td>\n",
       "      <td>3</td>\n",
       "      <td>3</td>\n",
       "      <td>7</td>\n",
       "    </tr>\n",
       "  </tbody>\n",
       "</table>\n",
       "</div>"
      ],
      "text/plain": [
       "                                              Defect Summary Detected By  \\\n",
       "Defect ID                                                                  \n",
       "54         ABCD 2258 : Windows Application is showing low...      JonasK   \n",
       "74         ABCD 2258 : Windows Application is showing low...    ClaudiaT   \n",
       "10         ABCD 5696 : Status coming is different on Wind...       InesK   \n",
       "5              ABCD 1231: Field value is different on Web UI    ClaudiaT   \n",
       "14           ABCD 1231: Status coming on Web UI is different  ElisabethD   \n",
       "\n",
       "          Detection Date                             Subject      Status  \\\n",
       "Defect ID                                                                  \n",
       "54            2016-01-02  ABCD 1147 : Windows PAT Validation  Production   \n",
       "74            2016-02-05  ABCD 1147 : Windows PAT Validation         New   \n",
       "10            2016-02-18   ABCD 5696 : Windows UI Validation       Fixed   \n",
       "5             2016-03-07       ABCD 1231 : Web UI Validation     Monitor   \n",
       "14            2016-03-14       ABCD 1231 : Web UI Validation      Closed   \n",
       "\n",
       "                   Severity    Priority  Assigned to  Actual Fix Time  \\\n",
       "Defect ID                                                               \n",
       "54             2 - Critical    1 - High       NoahMC               11   \n",
       "74          1 - Showstopper    1 - High       NoahMC                7   \n",
       "10         3 - Non-Critical  2 - Medium       NoahMC                6   \n",
       "5              2 - Critical    1 - High  AleksanderT                7   \n",
       "14             2 - Critical    1 - High       NoahMC                5   \n",
       "\n",
       "          Closing Date                       Dev Comments Detected in Phase  \\\n",
       "Defect ID                                                                     \n",
       "54          2016-01-13                         MQ is down               SIT   \n",
       "74          2016-02-12  We are looking for the root cause               UAT   \n",
       "10          2016-02-24           Decision machine is down               SIT   \n",
       "5           2016-03-14  We are looking for the root cause               DIT   \n",
       "14          2016-03-19           Decision machine is down            SPRINT   \n",
       "\n",
       "                          Root Cause Detected in Cycle Application under Test  \\\n",
       "Defect ID                                                                       \n",
       "54                              Code              SIT1               Windows4   \n",
       "74         Development Documentation              SIT1               Windows4   \n",
       "10                         Test case               CR1                   WEB3   \n",
       "5          Development Documentation           Sprint1               Windows1   \n",
       "14         Development Documentation               CR5                   WEB1   \n",
       "\n",
       "                                                 Description  year  \\\n",
       "Defect ID                                                            \n",
       "54         The performance of the system is lagging by 30...  2016   \n",
       "74         The performance of the system is lagging by 30...  2016   \n",
       "10                  Status shown is Passed instead of failed  2016   \n",
       "5                         Field A is showing different value  2016   \n",
       "14                  Status shown is Passed instead of failed  2016   \n",
       "\n",
       "          AFT Category  AFT score  Priority score  Severity score  \\\n",
       "Defect ID                                                           \n",
       "54              Medium          2               3               3   \n",
       "74                 Low          1               3               4   \n",
       "10                 Low          1               2               2   \n",
       "5                  Low          1               3               3   \n",
       "14                 Low          1               3               3   \n",
       "\n",
       "           Total Developer score  \n",
       "Defect ID                         \n",
       "54                             8  \n",
       "74                             8  \n",
       "10                             5  \n",
       "5                              7  \n",
       "14                             7  "
      ]
     },
     "execution_count": 22,
     "metadata": {},
     "output_type": "execute_result"
    }
   ],
   "source": [
    "DefectDF.head()"
   ]
  },
  {
   "cell_type": "code",
   "execution_count": 23,
   "metadata": {},
   "outputs": [],
   "source": [
    "DefectDF['Mean Developer Score'] = DefectDF.groupby(['Assigned to'])['Total Developer score'].transform('mean')"
   ]
  },
  {
   "cell_type": "code",
   "execution_count": 24,
   "metadata": {},
   "outputs": [
    {
     "name": "stdout",
     "output_type": "stream",
     "text": [
      "0.05 quantile :- 4.818181818181818\n",
      "0.25 quantile :- 5.363636363636363\n",
      "0.50 quantile :- 6.083333333333333\n",
      "0.75 quantile :- 7.225806451612903\n",
      "0.95 quantile :- 7.225806451612903\n",
      "minimum AvgDev_Score :- 4.818181818181818\n",
      "maximum AvgDev_Score :- 9.0\n",
      "mean AvgDev_Score :- 6.090000000000007\n"
     ]
    }
   ],
   "source": [
    "print(\"0.05 quantile :-\",DefectDF['Mean Developer Score'].quantile(0.05))\n",
    "print(\"0.25 quantile :-\",DefectDF['Mean Developer Score'].quantile(0.25))\n",
    "print(\"0.50 quantile :-\",DefectDF['Mean Developer Score'].quantile(0.50))\n",
    "print(\"0.75 quantile :-\",DefectDF['Mean Developer Score'].quantile(0.75))\n",
    "print(\"0.95 quantile :-\",DefectDF['Mean Developer Score'].quantile(0.95))\n",
    "print(\"minimum AvgDev_Score :-\",DefectDF['Mean Developer Score'].min())\n",
    "print(\"maximum AvgDev_Score :-\",DefectDF['Mean Developer Score'].max())\n",
    "print(\"mean AvgDev_Score :-\",DefectDF['Mean Developer Score'].mean())"
   ]
  },
  {
   "cell_type": "code",
   "execution_count": 25,
   "metadata": {},
   "outputs": [],
   "source": [
    "bins=[-1,6.083333333333333,7.225806451612903,9.0]\n",
    "labels=['Good','Average','Bad']\n",
    "DefectDF['Developer Category']=pd.cut(DefectDF['Mean Developer Score'], bins=bins, labels=labels)"
   ]
  },
  {
   "cell_type": "code",
   "execution_count": 26,
   "metadata": {},
   "outputs": [
    {
     "data": {
      "text/html": [
       "<div>\n",
       "<style scoped>\n",
       "    .dataframe tbody tr th:only-of-type {\n",
       "        vertical-align: middle;\n",
       "    }\n",
       "\n",
       "    .dataframe tbody tr th {\n",
       "        vertical-align: top;\n",
       "    }\n",
       "\n",
       "    .dataframe thead th {\n",
       "        text-align: right;\n",
       "    }\n",
       "</style>\n",
       "<table border=\"1\" class=\"dataframe\">\n",
       "  <thead>\n",
       "    <tr style=\"text-align: right;\">\n",
       "      <th></th>\n",
       "      <th>Defect Summary</th>\n",
       "      <th>Detected By</th>\n",
       "      <th>Detection Date</th>\n",
       "      <th>Subject</th>\n",
       "      <th>Status</th>\n",
       "      <th>Severity</th>\n",
       "      <th>Priority</th>\n",
       "      <th>Assigned to</th>\n",
       "      <th>Actual Fix Time</th>\n",
       "      <th>Closing Date</th>\n",
       "      <th>Dev Comments</th>\n",
       "      <th>Detected in Phase</th>\n",
       "      <th>Root Cause</th>\n",
       "      <th>Detected in Cycle</th>\n",
       "      <th>Application under Test</th>\n",
       "      <th>Description</th>\n",
       "      <th>year</th>\n",
       "      <th>AFT Category</th>\n",
       "      <th>AFT score</th>\n",
       "      <th>Priority score</th>\n",
       "      <th>Severity score</th>\n",
       "      <th>Total Developer score</th>\n",
       "      <th>Mean Developer Score</th>\n",
       "      <th>Developer Category</th>\n",
       "    </tr>\n",
       "    <tr>\n",
       "      <th>Defect ID</th>\n",
       "      <th></th>\n",
       "      <th></th>\n",
       "      <th></th>\n",
       "      <th></th>\n",
       "      <th></th>\n",
       "      <th></th>\n",
       "      <th></th>\n",
       "      <th></th>\n",
       "      <th></th>\n",
       "      <th></th>\n",
       "      <th></th>\n",
       "      <th></th>\n",
       "      <th></th>\n",
       "      <th></th>\n",
       "      <th></th>\n",
       "      <th></th>\n",
       "      <th></th>\n",
       "      <th></th>\n",
       "      <th></th>\n",
       "      <th></th>\n",
       "      <th></th>\n",
       "      <th></th>\n",
       "      <th></th>\n",
       "      <th></th>\n",
       "    </tr>\n",
       "  </thead>\n",
       "  <tbody>\n",
       "    <tr>\n",
       "      <th>54</th>\n",
       "      <td>ABCD 2258 : Windows Application is showing low...</td>\n",
       "      <td>JonasK</td>\n",
       "      <td>2016-01-02</td>\n",
       "      <td>ABCD 1147 : Windows PAT Validation</td>\n",
       "      <td>Production</td>\n",
       "      <td>2 - Critical</td>\n",
       "      <td>1 - High</td>\n",
       "      <td>NoahMC</td>\n",
       "      <td>11</td>\n",
       "      <td>2016-01-13</td>\n",
       "      <td>MQ is down</td>\n",
       "      <td>SIT</td>\n",
       "      <td>Code</td>\n",
       "      <td>SIT1</td>\n",
       "      <td>Windows4</td>\n",
       "      <td>The performance of the system is lagging by 30...</td>\n",
       "      <td>2016</td>\n",
       "      <td>Medium</td>\n",
       "      <td>2</td>\n",
       "      <td>3</td>\n",
       "      <td>3</td>\n",
       "      <td>8</td>\n",
       "      <td>7.225806</td>\n",
       "      <td>Average</td>\n",
       "    </tr>\n",
       "    <tr>\n",
       "      <th>74</th>\n",
       "      <td>ABCD 2258 : Windows Application is showing low...</td>\n",
       "      <td>ClaudiaT</td>\n",
       "      <td>2016-02-05</td>\n",
       "      <td>ABCD 1147 : Windows PAT Validation</td>\n",
       "      <td>New</td>\n",
       "      <td>1 - Showstopper</td>\n",
       "      <td>1 - High</td>\n",
       "      <td>NoahMC</td>\n",
       "      <td>7</td>\n",
       "      <td>2016-02-12</td>\n",
       "      <td>We are looking for the root cause</td>\n",
       "      <td>UAT</td>\n",
       "      <td>Development Documentation</td>\n",
       "      <td>SIT1</td>\n",
       "      <td>Windows4</td>\n",
       "      <td>The performance of the system is lagging by 30...</td>\n",
       "      <td>2016</td>\n",
       "      <td>Low</td>\n",
       "      <td>1</td>\n",
       "      <td>3</td>\n",
       "      <td>4</td>\n",
       "      <td>8</td>\n",
       "      <td>7.225806</td>\n",
       "      <td>Average</td>\n",
       "    </tr>\n",
       "    <tr>\n",
       "      <th>10</th>\n",
       "      <td>ABCD 5696 : Status coming is different on Wind...</td>\n",
       "      <td>InesK</td>\n",
       "      <td>2016-02-18</td>\n",
       "      <td>ABCD 5696 : Windows UI Validation</td>\n",
       "      <td>Fixed</td>\n",
       "      <td>3 - Non-Critical</td>\n",
       "      <td>2 - Medium</td>\n",
       "      <td>NoahMC</td>\n",
       "      <td>6</td>\n",
       "      <td>2016-02-24</td>\n",
       "      <td>Decision machine is down</td>\n",
       "      <td>SIT</td>\n",
       "      <td>Test case</td>\n",
       "      <td>CR1</td>\n",
       "      <td>WEB3</td>\n",
       "      <td>Status shown is Passed instead of failed</td>\n",
       "      <td>2016</td>\n",
       "      <td>Low</td>\n",
       "      <td>1</td>\n",
       "      <td>2</td>\n",
       "      <td>2</td>\n",
       "      <td>5</td>\n",
       "      <td>7.225806</td>\n",
       "      <td>Average</td>\n",
       "    </tr>\n",
       "    <tr>\n",
       "      <th>5</th>\n",
       "      <td>ABCD 1231: Field value is different on Web UI</td>\n",
       "      <td>ClaudiaT</td>\n",
       "      <td>2016-03-07</td>\n",
       "      <td>ABCD 1231 : Web UI Validation</td>\n",
       "      <td>Monitor</td>\n",
       "      <td>2 - Critical</td>\n",
       "      <td>1 - High</td>\n",
       "      <td>AleksanderT</td>\n",
       "      <td>7</td>\n",
       "      <td>2016-03-14</td>\n",
       "      <td>We are looking for the root cause</td>\n",
       "      <td>DIT</td>\n",
       "      <td>Development Documentation</td>\n",
       "      <td>Sprint1</td>\n",
       "      <td>Windows1</td>\n",
       "      <td>Field A is showing different value</td>\n",
       "      <td>2016</td>\n",
       "      <td>Low</td>\n",
       "      <td>1</td>\n",
       "      <td>3</td>\n",
       "      <td>3</td>\n",
       "      <td>7</td>\n",
       "      <td>4.818182</td>\n",
       "      <td>Good</td>\n",
       "    </tr>\n",
       "    <tr>\n",
       "      <th>14</th>\n",
       "      <td>ABCD 1231: Status coming on Web UI is different</td>\n",
       "      <td>ElisabethD</td>\n",
       "      <td>2016-03-14</td>\n",
       "      <td>ABCD 1231 : Web UI Validation</td>\n",
       "      <td>Closed</td>\n",
       "      <td>2 - Critical</td>\n",
       "      <td>1 - High</td>\n",
       "      <td>NoahMC</td>\n",
       "      <td>5</td>\n",
       "      <td>2016-03-19</td>\n",
       "      <td>Decision machine is down</td>\n",
       "      <td>SPRINT</td>\n",
       "      <td>Development Documentation</td>\n",
       "      <td>CR5</td>\n",
       "      <td>WEB1</td>\n",
       "      <td>Status shown is Passed instead of failed</td>\n",
       "      <td>2016</td>\n",
       "      <td>Low</td>\n",
       "      <td>1</td>\n",
       "      <td>3</td>\n",
       "      <td>3</td>\n",
       "      <td>7</td>\n",
       "      <td>7.225806</td>\n",
       "      <td>Average</td>\n",
       "    </tr>\n",
       "  </tbody>\n",
       "</table>\n",
       "</div>"
      ],
      "text/plain": [
       "                                              Defect Summary Detected By  \\\n",
       "Defect ID                                                                  \n",
       "54         ABCD 2258 : Windows Application is showing low...      JonasK   \n",
       "74         ABCD 2258 : Windows Application is showing low...    ClaudiaT   \n",
       "10         ABCD 5696 : Status coming is different on Wind...       InesK   \n",
       "5              ABCD 1231: Field value is different on Web UI    ClaudiaT   \n",
       "14           ABCD 1231: Status coming on Web UI is different  ElisabethD   \n",
       "\n",
       "          Detection Date                             Subject      Status  \\\n",
       "Defect ID                                                                  \n",
       "54            2016-01-02  ABCD 1147 : Windows PAT Validation  Production   \n",
       "74            2016-02-05  ABCD 1147 : Windows PAT Validation         New   \n",
       "10            2016-02-18   ABCD 5696 : Windows UI Validation       Fixed   \n",
       "5             2016-03-07       ABCD 1231 : Web UI Validation     Monitor   \n",
       "14            2016-03-14       ABCD 1231 : Web UI Validation      Closed   \n",
       "\n",
       "                   Severity    Priority  Assigned to  Actual Fix Time  \\\n",
       "Defect ID                                                               \n",
       "54             2 - Critical    1 - High       NoahMC               11   \n",
       "74          1 - Showstopper    1 - High       NoahMC                7   \n",
       "10         3 - Non-Critical  2 - Medium       NoahMC                6   \n",
       "5              2 - Critical    1 - High  AleksanderT                7   \n",
       "14             2 - Critical    1 - High       NoahMC                5   \n",
       "\n",
       "          Closing Date                       Dev Comments Detected in Phase  \\\n",
       "Defect ID                                                                     \n",
       "54          2016-01-13                         MQ is down               SIT   \n",
       "74          2016-02-12  We are looking for the root cause               UAT   \n",
       "10          2016-02-24           Decision machine is down               SIT   \n",
       "5           2016-03-14  We are looking for the root cause               DIT   \n",
       "14          2016-03-19           Decision machine is down            SPRINT   \n",
       "\n",
       "                          Root Cause Detected in Cycle Application under Test  \\\n",
       "Defect ID                                                                       \n",
       "54                              Code              SIT1               Windows4   \n",
       "74         Development Documentation              SIT1               Windows4   \n",
       "10                         Test case               CR1                   WEB3   \n",
       "5          Development Documentation           Sprint1               Windows1   \n",
       "14         Development Documentation               CR5                   WEB1   \n",
       "\n",
       "                                                 Description  year  \\\n",
       "Defect ID                                                            \n",
       "54         The performance of the system is lagging by 30...  2016   \n",
       "74         The performance of the system is lagging by 30...  2016   \n",
       "10                  Status shown is Passed instead of failed  2016   \n",
       "5                         Field A is showing different value  2016   \n",
       "14                  Status shown is Passed instead of failed  2016   \n",
       "\n",
       "          AFT Category  AFT score  Priority score  Severity score  \\\n",
       "Defect ID                                                           \n",
       "54              Medium          2               3               3   \n",
       "74                 Low          1               3               4   \n",
       "10                 Low          1               2               2   \n",
       "5                  Low          1               3               3   \n",
       "14                 Low          1               3               3   \n",
       "\n",
       "           Total Developer score  Mean Developer Score Developer Category  \n",
       "Defect ID                                                                  \n",
       "54                             8              7.225806            Average  \n",
       "74                             8              7.225806            Average  \n",
       "10                             5              7.225806            Average  \n",
       "5                              7              4.818182               Good  \n",
       "14                             7              7.225806            Average  "
      ]
     },
     "execution_count": 26,
     "metadata": {},
     "output_type": "execute_result"
    }
   ],
   "source": [
    "DefectDF.head()"
   ]
  },
  {
   "cell_type": "code",
   "execution_count": 27,
   "metadata": {},
   "outputs": [
    {
     "data": {
      "text/plain": [
       "array(['AleksanderT', 'InesK', 'AdamMC', 'EgonT', 'HelgeD', 'JonasK'],\n",
       "      dtype=object)"
      ]
     },
     "execution_count": 27,
     "metadata": {},
     "output_type": "execute_result"
    }
   ],
   "source": [
    "DefectDF[DefectDF['Developer Category']=='Good']['Assigned to'].unique()"
   ]
  },
  {
   "cell_type": "code",
   "execution_count": 28,
   "metadata": {},
   "outputs": [
    {
     "data": {
      "text/plain": [
       "array(['NoahMC', 'ElisabethD'], dtype=object)"
      ]
     },
     "execution_count": 28,
     "metadata": {},
     "output_type": "execute_result"
    }
   ],
   "source": [
    "DefectDF[DefectDF['Developer Category']=='Average']['Assigned to'].unique()"
   ]
  },
  {
   "cell_type": "code",
   "execution_count": 29,
   "metadata": {},
   "outputs": [
    {
     "data": {
      "text/plain": [
       "array(['MikkelN'], dtype=object)"
      ]
     },
     "execution_count": 29,
     "metadata": {},
     "output_type": "execute_result"
    }
   ],
   "source": [
    "DefectDF[DefectDF['Developer Category']=='Bad']['Assigned to'].unique()"
   ]
  },
  {
   "cell_type": "code",
   "execution_count": 30,
   "metadata": {},
   "outputs": [],
   "source": [
    "df3 = DefectDF[['Assigned to','Developer Category']]"
   ]
  },
  {
   "cell_type": "code",
   "execution_count": 31,
   "metadata": {},
   "outputs": [
    {
     "data": {
      "text/html": [
       "<div>\n",
       "<style scoped>\n",
       "    .dataframe tbody tr th:only-of-type {\n",
       "        vertical-align: middle;\n",
       "    }\n",
       "\n",
       "    .dataframe tbody tr th {\n",
       "        vertical-align: top;\n",
       "    }\n",
       "\n",
       "    .dataframe thead th {\n",
       "        text-align: right;\n",
       "    }\n",
       "</style>\n",
       "<table border=\"1\" class=\"dataframe\">\n",
       "  <thead>\n",
       "    <tr style=\"text-align: right;\">\n",
       "      <th></th>\n",
       "      <th>Assigned to</th>\n",
       "      <th>Developer Category</th>\n",
       "    </tr>\n",
       "    <tr>\n",
       "      <th>Defect ID</th>\n",
       "      <th></th>\n",
       "      <th></th>\n",
       "    </tr>\n",
       "  </thead>\n",
       "  <tbody>\n",
       "    <tr>\n",
       "      <th>54</th>\n",
       "      <td>NoahMC</td>\n",
       "      <td>Average</td>\n",
       "    </tr>\n",
       "    <tr>\n",
       "      <th>5</th>\n",
       "      <td>AleksanderT</td>\n",
       "      <td>Good</td>\n",
       "    </tr>\n",
       "    <tr>\n",
       "      <th>91</th>\n",
       "      <td>ElisabethD</td>\n",
       "      <td>Average</td>\n",
       "    </tr>\n",
       "    <tr>\n",
       "      <th>88</th>\n",
       "      <td>InesK</td>\n",
       "      <td>Good</td>\n",
       "    </tr>\n",
       "    <tr>\n",
       "      <th>25</th>\n",
       "      <td>AdamMC</td>\n",
       "      <td>Good</td>\n",
       "    </tr>\n",
       "    <tr>\n",
       "      <th>21</th>\n",
       "      <td>EgonT</td>\n",
       "      <td>Good</td>\n",
       "    </tr>\n",
       "    <tr>\n",
       "      <th>4</th>\n",
       "      <td>HelgeD</td>\n",
       "      <td>Good</td>\n",
       "    </tr>\n",
       "    <tr>\n",
       "      <th>6</th>\n",
       "      <td>MikkelN</td>\n",
       "      <td>Bad</td>\n",
       "    </tr>\n",
       "    <tr>\n",
       "      <th>1</th>\n",
       "      <td>JonasK</td>\n",
       "      <td>Good</td>\n",
       "    </tr>\n",
       "  </tbody>\n",
       "</table>\n",
       "</div>"
      ],
      "text/plain": [
       "           Assigned to Developer Category\n",
       "Defect ID                                \n",
       "54              NoahMC            Average\n",
       "5          AleksanderT               Good\n",
       "91          ElisabethD            Average\n",
       "88               InesK               Good\n",
       "25              AdamMC               Good\n",
       "21               EgonT               Good\n",
       "4               HelgeD               Good\n",
       "6              MikkelN                Bad\n",
       "1               JonasK               Good"
      ]
     },
     "execution_count": 31,
     "metadata": {},
     "output_type": "execute_result"
    }
   ],
   "source": [
    "df3.drop_duplicates(subset='Assigned to', keep=\"first\")"
   ]
  },
  {
   "cell_type": "code",
   "execution_count": 80,
   "metadata": {},
   "outputs": [],
   "source": [
    "DefectNew[\"Priority\"] = DefectNew[\"Priority\"].replace({\"1 - High\": 3, \"2 - Medium\": 2, \"3 - Low\": 1})\n",
    "DefectNew[\"Severity\"] = DefectNew[\"Severity\"].replace({\"1 - Showstopper\": 4,\"2 - Critical\": 3, \"3 - Non-Critical\": 2, \"4 - Live with\": 1})"
   ]
  },
  {
   "cell_type": "code",
   "execution_count": 81,
   "metadata": {},
   "outputs": [
    {
     "data": {
      "text/html": [
       "<div>\n",
       "<style scoped>\n",
       "    .dataframe tbody tr th:only-of-type {\n",
       "        vertical-align: middle;\n",
       "    }\n",
       "\n",
       "    .dataframe tbody tr th {\n",
       "        vertical-align: top;\n",
       "    }\n",
       "\n",
       "    .dataframe thead th {\n",
       "        text-align: right;\n",
       "    }\n",
       "</style>\n",
       "<table border=\"1\" class=\"dataframe\">\n",
       "  <thead>\n",
       "    <tr style=\"text-align: right;\">\n",
       "      <th></th>\n",
       "      <th>Defect Summary</th>\n",
       "      <th>Detected By</th>\n",
       "      <th>Detection Date</th>\n",
       "      <th>Subject</th>\n",
       "      <th>Status</th>\n",
       "      <th>Severity</th>\n",
       "      <th>Priority</th>\n",
       "      <th>Assigned to</th>\n",
       "      <th>Actual Fix Time</th>\n",
       "      <th>Closing Date</th>\n",
       "      <th>Dev Comments</th>\n",
       "      <th>Detected in Phase</th>\n",
       "      <th>Root Cause</th>\n",
       "      <th>Detected in Cycle</th>\n",
       "      <th>Application under Test</th>\n",
       "      <th>Description</th>\n",
       "      <th>year</th>\n",
       "    </tr>\n",
       "    <tr>\n",
       "      <th>Defect ID</th>\n",
       "      <th></th>\n",
       "      <th></th>\n",
       "      <th></th>\n",
       "      <th></th>\n",
       "      <th></th>\n",
       "      <th></th>\n",
       "      <th></th>\n",
       "      <th></th>\n",
       "      <th></th>\n",
       "      <th></th>\n",
       "      <th></th>\n",
       "      <th></th>\n",
       "      <th></th>\n",
       "      <th></th>\n",
       "      <th></th>\n",
       "      <th></th>\n",
       "      <th></th>\n",
       "    </tr>\n",
       "  </thead>\n",
       "  <tbody>\n",
       "    <tr>\n",
       "      <th>54</th>\n",
       "      <td>ABCD 2258 : Windows Application is showing low...</td>\n",
       "      <td>JonasK</td>\n",
       "      <td>2016-01-02</td>\n",
       "      <td>ABCD 1147 : Windows PAT Validation</td>\n",
       "      <td>Production</td>\n",
       "      <td>3</td>\n",
       "      <td>3</td>\n",
       "      <td>NoahMC</td>\n",
       "      <td>11</td>\n",
       "      <td>2016-01-13</td>\n",
       "      <td>MQ is down</td>\n",
       "      <td>SIT</td>\n",
       "      <td>Code</td>\n",
       "      <td>SIT1</td>\n",
       "      <td>Windows4</td>\n",
       "      <td>The performance of the system is lagging by 30...</td>\n",
       "      <td>2016</td>\n",
       "    </tr>\n",
       "    <tr>\n",
       "      <th>74</th>\n",
       "      <td>ABCD 2258 : Windows Application is showing low...</td>\n",
       "      <td>ClaudiaT</td>\n",
       "      <td>2016-02-05</td>\n",
       "      <td>ABCD 1147 : Windows PAT Validation</td>\n",
       "      <td>New</td>\n",
       "      <td>4</td>\n",
       "      <td>3</td>\n",
       "      <td>NoahMC</td>\n",
       "      <td>7</td>\n",
       "      <td>2016-02-12</td>\n",
       "      <td>We are looking for the root cause</td>\n",
       "      <td>UAT</td>\n",
       "      <td>Development Documentation</td>\n",
       "      <td>SIT1</td>\n",
       "      <td>Windows4</td>\n",
       "      <td>The performance of the system is lagging by 30...</td>\n",
       "      <td>2016</td>\n",
       "    </tr>\n",
       "    <tr>\n",
       "      <th>10</th>\n",
       "      <td>ABCD 5696 : Status coming is different on Wind...</td>\n",
       "      <td>InesK</td>\n",
       "      <td>2016-02-18</td>\n",
       "      <td>ABCD 5696 : Windows UI Validation</td>\n",
       "      <td>Fixed</td>\n",
       "      <td>2</td>\n",
       "      <td>2</td>\n",
       "      <td>NoahMC</td>\n",
       "      <td>6</td>\n",
       "      <td>2016-02-24</td>\n",
       "      <td>Decision machine is down</td>\n",
       "      <td>SIT</td>\n",
       "      <td>Test case</td>\n",
       "      <td>CR1</td>\n",
       "      <td>WEB3</td>\n",
       "      <td>Status shown is Passed instead of failed</td>\n",
       "      <td>2016</td>\n",
       "    </tr>\n",
       "    <tr>\n",
       "      <th>5</th>\n",
       "      <td>ABCD 1231: Field value is different on Web UI</td>\n",
       "      <td>ClaudiaT</td>\n",
       "      <td>2016-03-07</td>\n",
       "      <td>ABCD 1231 : Web UI Validation</td>\n",
       "      <td>Monitor</td>\n",
       "      <td>3</td>\n",
       "      <td>3</td>\n",
       "      <td>AleksanderT</td>\n",
       "      <td>7</td>\n",
       "      <td>2016-03-14</td>\n",
       "      <td>We are looking for the root cause</td>\n",
       "      <td>DIT</td>\n",
       "      <td>Development Documentation</td>\n",
       "      <td>Sprint1</td>\n",
       "      <td>Windows1</td>\n",
       "      <td>Field A is showing different value</td>\n",
       "      <td>2016</td>\n",
       "    </tr>\n",
       "    <tr>\n",
       "      <th>14</th>\n",
       "      <td>ABCD 1231: Status coming on Web UI is different</td>\n",
       "      <td>ElisabethD</td>\n",
       "      <td>2016-03-14</td>\n",
       "      <td>ABCD 1231 : Web UI Validation</td>\n",
       "      <td>Closed</td>\n",
       "      <td>3</td>\n",
       "      <td>3</td>\n",
       "      <td>NoahMC</td>\n",
       "      <td>5</td>\n",
       "      <td>2016-03-19</td>\n",
       "      <td>Decision machine is down</td>\n",
       "      <td>SPRINT</td>\n",
       "      <td>Development Documentation</td>\n",
       "      <td>CR5</td>\n",
       "      <td>WEB1</td>\n",
       "      <td>Status shown is Passed instead of failed</td>\n",
       "      <td>2016</td>\n",
       "    </tr>\n",
       "  </tbody>\n",
       "</table>\n",
       "</div>"
      ],
      "text/plain": [
       "                                              Defect Summary Detected By  \\\n",
       "Defect ID                                                                  \n",
       "54         ABCD 2258 : Windows Application is showing low...      JonasK   \n",
       "74         ABCD 2258 : Windows Application is showing low...    ClaudiaT   \n",
       "10         ABCD 5696 : Status coming is different on Wind...       InesK   \n",
       "5              ABCD 1231: Field value is different on Web UI    ClaudiaT   \n",
       "14           ABCD 1231: Status coming on Web UI is different  ElisabethD   \n",
       "\n",
       "          Detection Date                             Subject      Status  \\\n",
       "Defect ID                                                                  \n",
       "54            2016-01-02  ABCD 1147 : Windows PAT Validation  Production   \n",
       "74            2016-02-05  ABCD 1147 : Windows PAT Validation         New   \n",
       "10            2016-02-18   ABCD 5696 : Windows UI Validation       Fixed   \n",
       "5             2016-03-07       ABCD 1231 : Web UI Validation     Monitor   \n",
       "14            2016-03-14       ABCD 1231 : Web UI Validation      Closed   \n",
       "\n",
       "           Severity  Priority  Assigned to  Actual Fix Time Closing Date  \\\n",
       "Defect ID                                                                  \n",
       "54                3         3       NoahMC               11   2016-01-13   \n",
       "74                4         3       NoahMC                7   2016-02-12   \n",
       "10                2         2       NoahMC                6   2016-02-24   \n",
       "5                 3         3  AleksanderT                7   2016-03-14   \n",
       "14                3         3       NoahMC                5   2016-03-19   \n",
       "\n",
       "                                Dev Comments Detected in Phase  \\\n",
       "Defect ID                                                        \n",
       "54                                MQ is down               SIT   \n",
       "74         We are looking for the root cause               UAT   \n",
       "10                  Decision machine is down               SIT   \n",
       "5          We are looking for the root cause               DIT   \n",
       "14                  Decision machine is down            SPRINT   \n",
       "\n",
       "                          Root Cause Detected in Cycle Application under Test  \\\n",
       "Defect ID                                                                       \n",
       "54                              Code              SIT1               Windows4   \n",
       "74         Development Documentation              SIT1               Windows4   \n",
       "10                         Test case               CR1                   WEB3   \n",
       "5          Development Documentation           Sprint1               Windows1   \n",
       "14         Development Documentation               CR5                   WEB1   \n",
       "\n",
       "                                                 Description  year  \n",
       "Defect ID                                                           \n",
       "54         The performance of the system is lagging by 30...  2016  \n",
       "74         The performance of the system is lagging by 30...  2016  \n",
       "10                  Status shown is Passed instead of failed  2016  \n",
       "5                         Field A is showing different value  2016  \n",
       "14                  Status shown is Passed instead of failed  2016  "
      ]
     },
     "execution_count": 81,
     "metadata": {},
     "output_type": "execute_result"
    }
   ],
   "source": [
    "DefectNew.head()"
   ]
  },
  {
   "cell_type": "code",
   "execution_count": 82,
   "metadata": {},
   "outputs": [],
   "source": [
    "DefectNew['Subject'] = DefectNew['Subject'].apply(lambda x: x.split(\": \")[1])\n",
    "DefectNew['Defect Summary'] = DefectNew['Defect Summary'].apply(lambda x: x.split(\": \")[1])"
   ]
  },
  {
   "cell_type": "code",
   "execution_count": 83,
   "metadata": {},
   "outputs": [
    {
     "data": {
      "text/html": [
       "<div>\n",
       "<style scoped>\n",
       "    .dataframe tbody tr th:only-of-type {\n",
       "        vertical-align: middle;\n",
       "    }\n",
       "\n",
       "    .dataframe tbody tr th {\n",
       "        vertical-align: top;\n",
       "    }\n",
       "\n",
       "    .dataframe thead th {\n",
       "        text-align: right;\n",
       "    }\n",
       "</style>\n",
       "<table border=\"1\" class=\"dataframe\">\n",
       "  <thead>\n",
       "    <tr style=\"text-align: right;\">\n",
       "      <th></th>\n",
       "      <th>Defect Summary</th>\n",
       "      <th>Detected By</th>\n",
       "      <th>Detection Date</th>\n",
       "      <th>Subject</th>\n",
       "      <th>Status</th>\n",
       "      <th>Severity</th>\n",
       "      <th>Priority</th>\n",
       "      <th>Assigned to</th>\n",
       "      <th>Actual Fix Time</th>\n",
       "      <th>Closing Date</th>\n",
       "      <th>Dev Comments</th>\n",
       "      <th>Detected in Phase</th>\n",
       "      <th>Root Cause</th>\n",
       "      <th>Detected in Cycle</th>\n",
       "      <th>Application under Test</th>\n",
       "      <th>Description</th>\n",
       "      <th>year</th>\n",
       "    </tr>\n",
       "    <tr>\n",
       "      <th>Defect ID</th>\n",
       "      <th></th>\n",
       "      <th></th>\n",
       "      <th></th>\n",
       "      <th></th>\n",
       "      <th></th>\n",
       "      <th></th>\n",
       "      <th></th>\n",
       "      <th></th>\n",
       "      <th></th>\n",
       "      <th></th>\n",
       "      <th></th>\n",
       "      <th></th>\n",
       "      <th></th>\n",
       "      <th></th>\n",
       "      <th></th>\n",
       "      <th></th>\n",
       "      <th></th>\n",
       "    </tr>\n",
       "  </thead>\n",
       "  <tbody>\n",
       "    <tr>\n",
       "      <th>54</th>\n",
       "      <td>Windows Application is showing low performance...</td>\n",
       "      <td>JonasK</td>\n",
       "      <td>2016-01-02</td>\n",
       "      <td>Windows PAT Validation</td>\n",
       "      <td>Production</td>\n",
       "      <td>3</td>\n",
       "      <td>3</td>\n",
       "      <td>NoahMC</td>\n",
       "      <td>11</td>\n",
       "      <td>2016-01-13</td>\n",
       "      <td>MQ is down</td>\n",
       "      <td>SIT</td>\n",
       "      <td>Code</td>\n",
       "      <td>SIT1</td>\n",
       "      <td>Windows4</td>\n",
       "      <td>The performance of the system is lagging by 30...</td>\n",
       "      <td>2016</td>\n",
       "    </tr>\n",
       "    <tr>\n",
       "      <th>74</th>\n",
       "      <td>Windows Application is showing low performance...</td>\n",
       "      <td>ClaudiaT</td>\n",
       "      <td>2016-02-05</td>\n",
       "      <td>Windows PAT Validation</td>\n",
       "      <td>New</td>\n",
       "      <td>4</td>\n",
       "      <td>3</td>\n",
       "      <td>NoahMC</td>\n",
       "      <td>7</td>\n",
       "      <td>2016-02-12</td>\n",
       "      <td>We are looking for the root cause</td>\n",
       "      <td>UAT</td>\n",
       "      <td>Development Documentation</td>\n",
       "      <td>SIT1</td>\n",
       "      <td>Windows4</td>\n",
       "      <td>The performance of the system is lagging by 30...</td>\n",
       "      <td>2016</td>\n",
       "    </tr>\n",
       "    <tr>\n",
       "      <th>10</th>\n",
       "      <td>Status coming is different on Windows UI</td>\n",
       "      <td>InesK</td>\n",
       "      <td>2016-02-18</td>\n",
       "      <td>Windows UI Validation</td>\n",
       "      <td>Fixed</td>\n",
       "      <td>2</td>\n",
       "      <td>2</td>\n",
       "      <td>NoahMC</td>\n",
       "      <td>6</td>\n",
       "      <td>2016-02-24</td>\n",
       "      <td>Decision machine is down</td>\n",
       "      <td>SIT</td>\n",
       "      <td>Test case</td>\n",
       "      <td>CR1</td>\n",
       "      <td>WEB3</td>\n",
       "      <td>Status shown is Passed instead of failed</td>\n",
       "      <td>2016</td>\n",
       "    </tr>\n",
       "    <tr>\n",
       "      <th>5</th>\n",
       "      <td>Field value is different on Web UI</td>\n",
       "      <td>ClaudiaT</td>\n",
       "      <td>2016-03-07</td>\n",
       "      <td>Web UI Validation</td>\n",
       "      <td>Monitor</td>\n",
       "      <td>3</td>\n",
       "      <td>3</td>\n",
       "      <td>AleksanderT</td>\n",
       "      <td>7</td>\n",
       "      <td>2016-03-14</td>\n",
       "      <td>We are looking for the root cause</td>\n",
       "      <td>DIT</td>\n",
       "      <td>Development Documentation</td>\n",
       "      <td>Sprint1</td>\n",
       "      <td>Windows1</td>\n",
       "      <td>Field A is showing different value</td>\n",
       "      <td>2016</td>\n",
       "    </tr>\n",
       "    <tr>\n",
       "      <th>14</th>\n",
       "      <td>Status coming on Web UI is different</td>\n",
       "      <td>ElisabethD</td>\n",
       "      <td>2016-03-14</td>\n",
       "      <td>Web UI Validation</td>\n",
       "      <td>Closed</td>\n",
       "      <td>3</td>\n",
       "      <td>3</td>\n",
       "      <td>NoahMC</td>\n",
       "      <td>5</td>\n",
       "      <td>2016-03-19</td>\n",
       "      <td>Decision machine is down</td>\n",
       "      <td>SPRINT</td>\n",
       "      <td>Development Documentation</td>\n",
       "      <td>CR5</td>\n",
       "      <td>WEB1</td>\n",
       "      <td>Status shown is Passed instead of failed</td>\n",
       "      <td>2016</td>\n",
       "    </tr>\n",
       "  </tbody>\n",
       "</table>\n",
       "</div>"
      ],
      "text/plain": [
       "                                              Defect Summary Detected By  \\\n",
       "Defect ID                                                                  \n",
       "54         Windows Application is showing low performance...      JonasK   \n",
       "74         Windows Application is showing low performance...    ClaudiaT   \n",
       "10                  Status coming is different on Windows UI       InesK   \n",
       "5                         Field value is different on Web UI    ClaudiaT   \n",
       "14                      Status coming on Web UI is different  ElisabethD   \n",
       "\n",
       "          Detection Date                 Subject      Status  Severity  \\\n",
       "Defect ID                                                                \n",
       "54            2016-01-02  Windows PAT Validation  Production         3   \n",
       "74            2016-02-05  Windows PAT Validation         New         4   \n",
       "10            2016-02-18   Windows UI Validation       Fixed         2   \n",
       "5             2016-03-07       Web UI Validation     Monitor         3   \n",
       "14            2016-03-14       Web UI Validation      Closed         3   \n",
       "\n",
       "           Priority  Assigned to  Actual Fix Time Closing Date  \\\n",
       "Defect ID                                                        \n",
       "54                3       NoahMC               11   2016-01-13   \n",
       "74                3       NoahMC                7   2016-02-12   \n",
       "10                2       NoahMC                6   2016-02-24   \n",
       "5                 3  AleksanderT                7   2016-03-14   \n",
       "14                3       NoahMC                5   2016-03-19   \n",
       "\n",
       "                                Dev Comments Detected in Phase  \\\n",
       "Defect ID                                                        \n",
       "54                                MQ is down               SIT   \n",
       "74         We are looking for the root cause               UAT   \n",
       "10                  Decision machine is down               SIT   \n",
       "5          We are looking for the root cause               DIT   \n",
       "14                  Decision machine is down            SPRINT   \n",
       "\n",
       "                          Root Cause Detected in Cycle Application under Test  \\\n",
       "Defect ID                                                                       \n",
       "54                              Code              SIT1               Windows4   \n",
       "74         Development Documentation              SIT1               Windows4   \n",
       "10                         Test case               CR1                   WEB3   \n",
       "5          Development Documentation           Sprint1               Windows1   \n",
       "14         Development Documentation               CR5                   WEB1   \n",
       "\n",
       "                                                 Description  year  \n",
       "Defect ID                                                           \n",
       "54         The performance of the system is lagging by 30...  2016  \n",
       "74         The performance of the system is lagging by 30...  2016  \n",
       "10                  Status shown is Passed instead of failed  2016  \n",
       "5                         Field A is showing different value  2016  \n",
       "14                  Status shown is Passed instead of failed  2016  "
      ]
     },
     "execution_count": 83,
     "metadata": {},
     "output_type": "execute_result"
    }
   ],
   "source": [
    "DefectNew.head()"
   ]
  },
  {
   "cell_type": "code",
   "execution_count": 38,
   "metadata": {},
   "outputs": [],
   "source": [
    "DefectNew.drop(['Detected By','Detection Date','Assigned to','Closing Date','Application under Test'], axis = 1, inplace= True)"
   ]
  },
  {
   "cell_type": "code",
   "execution_count": 84,
   "metadata": {},
   "outputs": [
    {
     "data": {
      "text/html": [
       "<div>\n",
       "<style scoped>\n",
       "    .dataframe tbody tr th:only-of-type {\n",
       "        vertical-align: middle;\n",
       "    }\n",
       "\n",
       "    .dataframe tbody tr th {\n",
       "        vertical-align: top;\n",
       "    }\n",
       "\n",
       "    .dataframe thead th {\n",
       "        text-align: right;\n",
       "    }\n",
       "</style>\n",
       "<table border=\"1\" class=\"dataframe\">\n",
       "  <thead>\n",
       "    <tr style=\"text-align: right;\">\n",
       "      <th></th>\n",
       "      <th>Defect Summary</th>\n",
       "      <th>Detected By</th>\n",
       "      <th>Detection Date</th>\n",
       "      <th>Subject</th>\n",
       "      <th>Status</th>\n",
       "      <th>Severity</th>\n",
       "      <th>Priority</th>\n",
       "      <th>Assigned to</th>\n",
       "      <th>Actual Fix Time</th>\n",
       "      <th>Closing Date</th>\n",
       "      <th>Dev Comments</th>\n",
       "      <th>Detected in Phase</th>\n",
       "      <th>Root Cause</th>\n",
       "      <th>Detected in Cycle</th>\n",
       "      <th>Application under Test</th>\n",
       "      <th>Description</th>\n",
       "      <th>year</th>\n",
       "    </tr>\n",
       "    <tr>\n",
       "      <th>Defect ID</th>\n",
       "      <th></th>\n",
       "      <th></th>\n",
       "      <th></th>\n",
       "      <th></th>\n",
       "      <th></th>\n",
       "      <th></th>\n",
       "      <th></th>\n",
       "      <th></th>\n",
       "      <th></th>\n",
       "      <th></th>\n",
       "      <th></th>\n",
       "      <th></th>\n",
       "      <th></th>\n",
       "      <th></th>\n",
       "      <th></th>\n",
       "      <th></th>\n",
       "      <th></th>\n",
       "    </tr>\n",
       "  </thead>\n",
       "  <tbody>\n",
       "    <tr>\n",
       "      <th>54</th>\n",
       "      <td>Windows Application is showing low performance...</td>\n",
       "      <td>JonasK</td>\n",
       "      <td>2016-01-02</td>\n",
       "      <td>Windows PAT Validation</td>\n",
       "      <td>Production</td>\n",
       "      <td>3</td>\n",
       "      <td>3</td>\n",
       "      <td>NoahMC</td>\n",
       "      <td>11</td>\n",
       "      <td>2016-01-13</td>\n",
       "      <td>MQ is down</td>\n",
       "      <td>SIT</td>\n",
       "      <td>Code</td>\n",
       "      <td>SIT1</td>\n",
       "      <td>Windows4</td>\n",
       "      <td>The performance of the system is lagging by 30...</td>\n",
       "      <td>2016</td>\n",
       "    </tr>\n",
       "    <tr>\n",
       "      <th>74</th>\n",
       "      <td>Windows Application is showing low performance...</td>\n",
       "      <td>ClaudiaT</td>\n",
       "      <td>2016-02-05</td>\n",
       "      <td>Windows PAT Validation</td>\n",
       "      <td>New</td>\n",
       "      <td>4</td>\n",
       "      <td>3</td>\n",
       "      <td>NoahMC</td>\n",
       "      <td>7</td>\n",
       "      <td>2016-02-12</td>\n",
       "      <td>We are looking for the root cause</td>\n",
       "      <td>UAT</td>\n",
       "      <td>Development Documentation</td>\n",
       "      <td>SIT1</td>\n",
       "      <td>Windows4</td>\n",
       "      <td>The performance of the system is lagging by 30...</td>\n",
       "      <td>2016</td>\n",
       "    </tr>\n",
       "    <tr>\n",
       "      <th>10</th>\n",
       "      <td>Status coming is different on Windows UI</td>\n",
       "      <td>InesK</td>\n",
       "      <td>2016-02-18</td>\n",
       "      <td>Windows UI Validation</td>\n",
       "      <td>Fixed</td>\n",
       "      <td>2</td>\n",
       "      <td>2</td>\n",
       "      <td>NoahMC</td>\n",
       "      <td>6</td>\n",
       "      <td>2016-02-24</td>\n",
       "      <td>Decision machine is down</td>\n",
       "      <td>SIT</td>\n",
       "      <td>Test case</td>\n",
       "      <td>CR1</td>\n",
       "      <td>WEB3</td>\n",
       "      <td>Status shown is Passed instead of failed</td>\n",
       "      <td>2016</td>\n",
       "    </tr>\n",
       "    <tr>\n",
       "      <th>5</th>\n",
       "      <td>Field value is different on Web UI</td>\n",
       "      <td>ClaudiaT</td>\n",
       "      <td>2016-03-07</td>\n",
       "      <td>Web UI Validation</td>\n",
       "      <td>Monitor</td>\n",
       "      <td>3</td>\n",
       "      <td>3</td>\n",
       "      <td>AleksanderT</td>\n",
       "      <td>7</td>\n",
       "      <td>2016-03-14</td>\n",
       "      <td>We are looking for the root cause</td>\n",
       "      <td>DIT</td>\n",
       "      <td>Development Documentation</td>\n",
       "      <td>Sprint1</td>\n",
       "      <td>Windows1</td>\n",
       "      <td>Field A is showing different value</td>\n",
       "      <td>2016</td>\n",
       "    </tr>\n",
       "    <tr>\n",
       "      <th>14</th>\n",
       "      <td>Status coming on Web UI is different</td>\n",
       "      <td>ElisabethD</td>\n",
       "      <td>2016-03-14</td>\n",
       "      <td>Web UI Validation</td>\n",
       "      <td>Closed</td>\n",
       "      <td>3</td>\n",
       "      <td>3</td>\n",
       "      <td>NoahMC</td>\n",
       "      <td>5</td>\n",
       "      <td>2016-03-19</td>\n",
       "      <td>Decision machine is down</td>\n",
       "      <td>SPRINT</td>\n",
       "      <td>Development Documentation</td>\n",
       "      <td>CR5</td>\n",
       "      <td>WEB1</td>\n",
       "      <td>Status shown is Passed instead of failed</td>\n",
       "      <td>2016</td>\n",
       "    </tr>\n",
       "  </tbody>\n",
       "</table>\n",
       "</div>"
      ],
      "text/plain": [
       "                                              Defect Summary Detected By  \\\n",
       "Defect ID                                                                  \n",
       "54         Windows Application is showing low performance...      JonasK   \n",
       "74         Windows Application is showing low performance...    ClaudiaT   \n",
       "10                  Status coming is different on Windows UI       InesK   \n",
       "5                         Field value is different on Web UI    ClaudiaT   \n",
       "14                      Status coming on Web UI is different  ElisabethD   \n",
       "\n",
       "          Detection Date                 Subject      Status  Severity  \\\n",
       "Defect ID                                                                \n",
       "54            2016-01-02  Windows PAT Validation  Production         3   \n",
       "74            2016-02-05  Windows PAT Validation         New         4   \n",
       "10            2016-02-18   Windows UI Validation       Fixed         2   \n",
       "5             2016-03-07       Web UI Validation     Monitor         3   \n",
       "14            2016-03-14       Web UI Validation      Closed         3   \n",
       "\n",
       "           Priority  Assigned to  Actual Fix Time Closing Date  \\\n",
       "Defect ID                                                        \n",
       "54                3       NoahMC               11   2016-01-13   \n",
       "74                3       NoahMC                7   2016-02-12   \n",
       "10                2       NoahMC                6   2016-02-24   \n",
       "5                 3  AleksanderT                7   2016-03-14   \n",
       "14                3       NoahMC                5   2016-03-19   \n",
       "\n",
       "                                Dev Comments Detected in Phase  \\\n",
       "Defect ID                                                        \n",
       "54                                MQ is down               SIT   \n",
       "74         We are looking for the root cause               UAT   \n",
       "10                  Decision machine is down               SIT   \n",
       "5          We are looking for the root cause               DIT   \n",
       "14                  Decision machine is down            SPRINT   \n",
       "\n",
       "                          Root Cause Detected in Cycle Application under Test  \\\n",
       "Defect ID                                                                       \n",
       "54                              Code              SIT1               Windows4   \n",
       "74         Development Documentation              SIT1               Windows4   \n",
       "10                         Test case               CR1                   WEB3   \n",
       "5          Development Documentation           Sprint1               Windows1   \n",
       "14         Development Documentation               CR5                   WEB1   \n",
       "\n",
       "                                                 Description  year  \n",
       "Defect ID                                                           \n",
       "54         The performance of the system is lagging by 30...  2016  \n",
       "74         The performance of the system is lagging by 30...  2016  \n",
       "10                  Status shown is Passed instead of failed  2016  \n",
       "5                         Field A is showing different value  2016  \n",
       "14                  Status shown is Passed instead of failed  2016  "
      ]
     },
     "execution_count": 84,
     "metadata": {},
     "output_type": "execute_result"
    }
   ],
   "source": [
    "DefectNew.head()"
   ]
  },
  {
   "cell_type": "code",
   "execution_count": 85,
   "metadata": {},
   "outputs": [],
   "source": [
    "le=LabelEncoder()\n",
    "DefectNew[\"Status\"]=le.fit_transform(DefectNew[\"Status\"])\n",
    "DefectNew[\"Detected in Phase\"]=le.fit_transform(DefectNew[\"Detected in Phase\"])\n",
    "DefectNew[\"Root Cause\"]=le.fit_transform(DefectNew[\"Root Cause\"])\n",
    "DefectNew[\"Detected in Cycle\"]=le.fit_transform(DefectNew[\"Detected in Cycle\"])\n",
    "DefectNew[\"Application under Test\"]=le.fit_transform(DefectNew[\"Application under Test\"])"
   ]
  },
  {
   "cell_type": "code",
   "execution_count": 86,
   "metadata": {},
   "outputs": [
    {
     "data": {
      "text/html": [
       "<div>\n",
       "<style scoped>\n",
       "    .dataframe tbody tr th:only-of-type {\n",
       "        vertical-align: middle;\n",
       "    }\n",
       "\n",
       "    .dataframe tbody tr th {\n",
       "        vertical-align: top;\n",
       "    }\n",
       "\n",
       "    .dataframe thead th {\n",
       "        text-align: right;\n",
       "    }\n",
       "</style>\n",
       "<table border=\"1\" class=\"dataframe\">\n",
       "  <thead>\n",
       "    <tr style=\"text-align: right;\">\n",
       "      <th></th>\n",
       "      <th>Defect Summary</th>\n",
       "      <th>Detected By</th>\n",
       "      <th>Detection Date</th>\n",
       "      <th>Subject</th>\n",
       "      <th>Status</th>\n",
       "      <th>Severity</th>\n",
       "      <th>Priority</th>\n",
       "      <th>Assigned to</th>\n",
       "      <th>Actual Fix Time</th>\n",
       "      <th>Closing Date</th>\n",
       "      <th>Dev Comments</th>\n",
       "      <th>Detected in Phase</th>\n",
       "      <th>Root Cause</th>\n",
       "      <th>Detected in Cycle</th>\n",
       "      <th>Application under Test</th>\n",
       "      <th>Description</th>\n",
       "      <th>year</th>\n",
       "    </tr>\n",
       "    <tr>\n",
       "      <th>Defect ID</th>\n",
       "      <th></th>\n",
       "      <th></th>\n",
       "      <th></th>\n",
       "      <th></th>\n",
       "      <th></th>\n",
       "      <th></th>\n",
       "      <th></th>\n",
       "      <th></th>\n",
       "      <th></th>\n",
       "      <th></th>\n",
       "      <th></th>\n",
       "      <th></th>\n",
       "      <th></th>\n",
       "      <th></th>\n",
       "      <th></th>\n",
       "      <th></th>\n",
       "      <th></th>\n",
       "    </tr>\n",
       "  </thead>\n",
       "  <tbody>\n",
       "    <tr>\n",
       "      <th>54</th>\n",
       "      <td>Windows Application is showing low performance...</td>\n",
       "      <td>JonasK</td>\n",
       "      <td>2016-01-02</td>\n",
       "      <td>Windows PAT Validation</td>\n",
       "      <td>7</td>\n",
       "      <td>3</td>\n",
       "      <td>3</td>\n",
       "      <td>NoahMC</td>\n",
       "      <td>11</td>\n",
       "      <td>2016-01-13</td>\n",
       "      <td>MQ is down</td>\n",
       "      <td>3</td>\n",
       "      <td>1</td>\n",
       "      <td>9</td>\n",
       "      <td>Windows4</td>\n",
       "      <td>The performance of the system is lagging by 30...</td>\n",
       "      <td>2016</td>\n",
       "    </tr>\n",
       "    <tr>\n",
       "      <th>74</th>\n",
       "      <td>Windows Application is showing low performance...</td>\n",
       "      <td>ClaudiaT</td>\n",
       "      <td>2016-02-05</td>\n",
       "      <td>Windows PAT Validation</td>\n",
       "      <td>5</td>\n",
       "      <td>4</td>\n",
       "      <td>3</td>\n",
       "      <td>NoahMC</td>\n",
       "      <td>7</td>\n",
       "      <td>2016-02-12</td>\n",
       "      <td>We are looking for the root cause</td>\n",
       "      <td>5</td>\n",
       "      <td>4</td>\n",
       "      <td>9</td>\n",
       "      <td>Windows4</td>\n",
       "      <td>The performance of the system is lagging by 30...</td>\n",
       "      <td>2016</td>\n",
       "    </tr>\n",
       "    <tr>\n",
       "      <th>10</th>\n",
       "      <td>Status coming is different on Windows UI</td>\n",
       "      <td>InesK</td>\n",
       "      <td>2016-02-18</td>\n",
       "      <td>Windows UI Validation</td>\n",
       "      <td>3</td>\n",
       "      <td>2</td>\n",
       "      <td>2</td>\n",
       "      <td>NoahMC</td>\n",
       "      <td>6</td>\n",
       "      <td>2016-02-24</td>\n",
       "      <td>Decision machine is down</td>\n",
       "      <td>3</td>\n",
       "      <td>8</td>\n",
       "      <td>1</td>\n",
       "      <td>WEB3</td>\n",
       "      <td>Status shown is Passed instead of failed</td>\n",
       "      <td>2016</td>\n",
       "    </tr>\n",
       "    <tr>\n",
       "      <th>5</th>\n",
       "      <td>Field value is different on Web UI</td>\n",
       "      <td>ClaudiaT</td>\n",
       "      <td>2016-03-07</td>\n",
       "      <td>Web UI Validation</td>\n",
       "      <td>4</td>\n",
       "      <td>3</td>\n",
       "      <td>3</td>\n",
       "      <td>AleksanderT</td>\n",
       "      <td>7</td>\n",
       "      <td>2016-03-14</td>\n",
       "      <td>We are looking for the root cause</td>\n",
       "      <td>0</td>\n",
       "      <td>4</td>\n",
       "      <td>11</td>\n",
       "      <td>Windows1</td>\n",
       "      <td>Field A is showing different value</td>\n",
       "      <td>2016</td>\n",
       "    </tr>\n",
       "    <tr>\n",
       "      <th>14</th>\n",
       "      <td>Status coming on Web UI is different</td>\n",
       "      <td>ElisabethD</td>\n",
       "      <td>2016-03-14</td>\n",
       "      <td>Web UI Validation</td>\n",
       "      <td>1</td>\n",
       "      <td>3</td>\n",
       "      <td>3</td>\n",
       "      <td>NoahMC</td>\n",
       "      <td>5</td>\n",
       "      <td>2016-03-19</td>\n",
       "      <td>Decision machine is down</td>\n",
       "      <td>4</td>\n",
       "      <td>4</td>\n",
       "      <td>5</td>\n",
       "      <td>WEB1</td>\n",
       "      <td>Status shown is Passed instead of failed</td>\n",
       "      <td>2016</td>\n",
       "    </tr>\n",
       "  </tbody>\n",
       "</table>\n",
       "</div>"
      ],
      "text/plain": [
       "                                              Defect Summary Detected By  \\\n",
       "Defect ID                                                                  \n",
       "54         Windows Application is showing low performance...      JonasK   \n",
       "74         Windows Application is showing low performance...    ClaudiaT   \n",
       "10                  Status coming is different on Windows UI       InesK   \n",
       "5                         Field value is different on Web UI    ClaudiaT   \n",
       "14                      Status coming on Web UI is different  ElisabethD   \n",
       "\n",
       "          Detection Date                 Subject  Status  Severity  Priority  \\\n",
       "Defect ID                                                                      \n",
       "54            2016-01-02  Windows PAT Validation       7         3         3   \n",
       "74            2016-02-05  Windows PAT Validation       5         4         3   \n",
       "10            2016-02-18   Windows UI Validation       3         2         2   \n",
       "5             2016-03-07       Web UI Validation       4         3         3   \n",
       "14            2016-03-14       Web UI Validation       1         3         3   \n",
       "\n",
       "           Assigned to  Actual Fix Time Closing Date  \\\n",
       "Defect ID                                              \n",
       "54              NoahMC               11   2016-01-13   \n",
       "74              NoahMC                7   2016-02-12   \n",
       "10              NoahMC                6   2016-02-24   \n",
       "5          AleksanderT                7   2016-03-14   \n",
       "14              NoahMC                5   2016-03-19   \n",
       "\n",
       "                                Dev Comments  Detected in Phase  Root Cause  \\\n",
       "Defect ID                                                                     \n",
       "54                                MQ is down                  3           1   \n",
       "74         We are looking for the root cause                  5           4   \n",
       "10                  Decision machine is down                  3           8   \n",
       "5          We are looking for the root cause                  0           4   \n",
       "14                  Decision machine is down                  4           4   \n",
       "\n",
       "           Detected in Cycle Application under Test  \\\n",
       "Defect ID                                             \n",
       "54                         9               Windows4   \n",
       "74                         9               Windows4   \n",
       "10                         1                   WEB3   \n",
       "5                         11               Windows1   \n",
       "14                         5                   WEB1   \n",
       "\n",
       "                                                 Description  year  \n",
       "Defect ID                                                           \n",
       "54         The performance of the system is lagging by 30...  2016  \n",
       "74         The performance of the system is lagging by 30...  2016  \n",
       "10                  Status shown is Passed instead of failed  2016  \n",
       "5                         Field A is showing different value  2016  \n",
       "14                  Status shown is Passed instead of failed  2016  "
      ]
     },
     "execution_count": 86,
     "metadata": {},
     "output_type": "execute_result"
    }
   ],
   "source": [
    "DefectNew.head()"
   ]
  },
  {
   "cell_type": "code",
   "execution_count": 87,
   "metadata": {},
   "outputs": [],
   "source": [
    "DefectNew['Dev Comments'] = DefectNew['Dev Comments'].apply(lambda x: cleanText(x))\n",
    "DefectNew['Defect Summary'] = DefectNew['Defect Summary'].apply(lambda x: cleanText(x))\n",
    "DefectNew['Subject'] = DefectNew['Subject'].apply(lambda x: cleanText(x))\n",
    "DefectNew['Description'] = DefectNew['Description'].apply(lambda x: cleanText(x))"
   ]
  },
  {
   "cell_type": "code",
   "execution_count": 89,
   "metadata": {},
   "outputs": [],
   "source": [
    "DefectNew['month'] = pd.DatetimeIndex(DefectNew[\"Detection Date\"]).month"
   ]
  },
  {
   "cell_type": "code",
   "execution_count": 134,
   "metadata": {
    "scrolled": true
   },
   "outputs": [
    {
     "data": {
      "text/html": [
       "<div>\n",
       "<style scoped>\n",
       "    .dataframe tbody tr th:only-of-type {\n",
       "        vertical-align: middle;\n",
       "    }\n",
       "\n",
       "    .dataframe tbody tr th {\n",
       "        vertical-align: top;\n",
       "    }\n",
       "\n",
       "    .dataframe thead th {\n",
       "        text-align: right;\n",
       "    }\n",
       "</style>\n",
       "<table border=\"1\" class=\"dataframe\">\n",
       "  <thead>\n",
       "    <tr style=\"text-align: right;\">\n",
       "      <th></th>\n",
       "      <th>Defect Summary</th>\n",
       "      <th>Subject</th>\n",
       "      <th>Status</th>\n",
       "      <th>Severity</th>\n",
       "      <th>Priority</th>\n",
       "      <th>Actual Fix Time</th>\n",
       "      <th>Dev Comments</th>\n",
       "      <th>Detected in Phase</th>\n",
       "      <th>Root Cause</th>\n",
       "      <th>Detected in Cycle</th>\n",
       "      <th>Application under Test</th>\n",
       "      <th>Description</th>\n",
       "      <th>year</th>\n",
       "      <th>month</th>\n",
       "      <th>Defect Summary_Vec</th>\n",
       "    </tr>\n",
       "    <tr>\n",
       "      <th>Defect ID</th>\n",
       "      <th></th>\n",
       "      <th></th>\n",
       "      <th></th>\n",
       "      <th></th>\n",
       "      <th></th>\n",
       "      <th></th>\n",
       "      <th></th>\n",
       "      <th></th>\n",
       "      <th></th>\n",
       "      <th></th>\n",
       "      <th></th>\n",
       "      <th></th>\n",
       "      <th></th>\n",
       "      <th></th>\n",
       "      <th></th>\n",
       "    </tr>\n",
       "  </thead>\n",
       "  <tbody>\n",
       "    <tr>\n",
       "      <th>54</th>\n",
       "      <td>windows application showing low performance he...</td>\n",
       "      <td>windows pat validation</td>\n",
       "      <td>7</td>\n",
       "      <td>3</td>\n",
       "      <td>3</td>\n",
       "      <td>11</td>\n",
       "      <td>mq</td>\n",
       "      <td>3</td>\n",
       "      <td>1</td>\n",
       "      <td>9</td>\n",
       "      <td>7</td>\n",
       "      <td>performance system lagging seconds heavy load</td>\n",
       "      <td>2016</td>\n",
       "      <td>1</td>\n",
       "      <td>1</td>\n",
       "    </tr>\n",
       "    <tr>\n",
       "      <th>74</th>\n",
       "      <td>windows application showing low performance no...</td>\n",
       "      <td>windows pat validation</td>\n",
       "      <td>5</td>\n",
       "      <td>4</td>\n",
       "      <td>3</td>\n",
       "      <td>7</td>\n",
       "      <td>looking root cause</td>\n",
       "      <td>5</td>\n",
       "      <td>4</td>\n",
       "      <td>9</td>\n",
       "      <td>7</td>\n",
       "      <td>performance system lagging seconds normal load</td>\n",
       "      <td>2016</td>\n",
       "      <td>2</td>\n",
       "      <td>1</td>\n",
       "    </tr>\n",
       "    <tr>\n",
       "      <th>10</th>\n",
       "      <td>status coming different windows ui</td>\n",
       "      <td>windows ui validation</td>\n",
       "      <td>3</td>\n",
       "      <td>2</td>\n",
       "      <td>2</td>\n",
       "      <td>6</td>\n",
       "      <td>decision machine</td>\n",
       "      <td>3</td>\n",
       "      <td>8</td>\n",
       "      <td>1</td>\n",
       "      <td>2</td>\n",
       "      <td>status shown passed instead failed</td>\n",
       "      <td>2016</td>\n",
       "      <td>2</td>\n",
       "      <td>3</td>\n",
       "    </tr>\n",
       "    <tr>\n",
       "      <th>5</th>\n",
       "      <td>field value different web ui</td>\n",
       "      <td>web ui validation</td>\n",
       "      <td>4</td>\n",
       "      <td>3</td>\n",
       "      <td>3</td>\n",
       "      <td>7</td>\n",
       "      <td>looking root cause</td>\n",
       "      <td>0</td>\n",
       "      <td>4</td>\n",
       "      <td>11</td>\n",
       "      <td>4</td>\n",
       "      <td>field showing different value</td>\n",
       "      <td>2016</td>\n",
       "      <td>3</td>\n",
       "      <td>0</td>\n",
       "    </tr>\n",
       "    <tr>\n",
       "      <th>14</th>\n",
       "      <td>status coming web ui different</td>\n",
       "      <td>web ui validation</td>\n",
       "      <td>1</td>\n",
       "      <td>3</td>\n",
       "      <td>3</td>\n",
       "      <td>5</td>\n",
       "      <td>decision machine</td>\n",
       "      <td>4</td>\n",
       "      <td>4</td>\n",
       "      <td>5</td>\n",
       "      <td>0</td>\n",
       "      <td>status shown passed instead failed</td>\n",
       "      <td>2016</td>\n",
       "      <td>3</td>\n",
       "      <td>3</td>\n",
       "    </tr>\n",
       "  </tbody>\n",
       "</table>\n",
       "</div>"
      ],
      "text/plain": [
       "                                              Defect Summary  \\\n",
       "Defect ID                                                      \n",
       "54         windows application showing low performance he...   \n",
       "74         windows application showing low performance no...   \n",
       "10                        status coming different windows ui   \n",
       "5                               field value different web ui   \n",
       "14                            status coming web ui different   \n",
       "\n",
       "                          Subject  Status  Severity  Priority  \\\n",
       "Defect ID                                                       \n",
       "54         windows pat validation       7         3         3   \n",
       "74         windows pat validation       5         4         3   \n",
       "10          windows ui validation       3         2         2   \n",
       "5               web ui validation       4         3         3   \n",
       "14              web ui validation       1         3         3   \n",
       "\n",
       "           Actual Fix Time        Dev Comments  Detected in Phase  Root Cause  \\\n",
       "Defect ID                                                                       \n",
       "54                      11                  mq                  3           1   \n",
       "74                       7  looking root cause                  5           4   \n",
       "10                       6    decision machine                  3           8   \n",
       "5                        7  looking root cause                  0           4   \n",
       "14                       5    decision machine                  4           4   \n",
       "\n",
       "           Detected in Cycle  Application under Test  \\\n",
       "Defect ID                                              \n",
       "54                         9                       7   \n",
       "74                         9                       7   \n",
       "10                         1                       2   \n",
       "5                         11                       4   \n",
       "14                         5                       0   \n",
       "\n",
       "                                              Description  year  month  \\\n",
       "Defect ID                                                                \n",
       "54          performance system lagging seconds heavy load  2016      1   \n",
       "74         performance system lagging seconds normal load  2016      2   \n",
       "10                     status shown passed instead failed  2016      2   \n",
       "5                           field showing different value  2016      3   \n",
       "14                     status shown passed instead failed  2016      3   \n",
       "\n",
       "           Defect Summary_Vec  \n",
       "Defect ID                      \n",
       "54                          1  \n",
       "74                          1  \n",
       "10                          3  \n",
       "5                           0  \n",
       "14                          3  "
      ]
     },
     "execution_count": 134,
     "metadata": {},
     "output_type": "execute_result"
    }
   ],
   "source": [
    "DefectNew.head()"
   ]
  },
  {
   "cell_type": "code",
   "execution_count": 93,
   "metadata": {},
   "outputs": [],
   "source": [
    "DefectNew.drop(['Detected By','Detection Date','Assigned to','Closing Date'], axis = 1, inplace = True)"
   ]
  },
  {
   "cell_type": "code",
   "execution_count": 95,
   "metadata": {},
   "outputs": [],
   "source": [
    "DefectNew1 = DefectNew.copy()"
   ]
  },
  {
   "cell_type": "code",
   "execution_count": 124,
   "metadata": {},
   "outputs": [],
   "source": [
    "DefectNew = DefectNew1.copy()"
   ]
  },
  {
   "cell_type": "code",
   "execution_count": 129,
   "metadata": {},
   "outputs": [],
   "source": [
    "tfidf = TfidfVectorizer()\n",
    "#vector = tfidf.fit_transform(text)\n",
    "vector = tfidf.fit_transform(DefectNew['Defect Summary'])"
   ]
  },
  {
   "cell_type": "code",
   "execution_count": 130,
   "metadata": {},
   "outputs": [
    {
     "name": "stderr",
     "output_type": "stream",
     "text": [
      "100%|██████████████████████████████████████████████████████████████████████████████████| 14/14 [00:36<00:00,  2.64s/it]\n"
     ]
    },
    {
     "ename": "NameError",
     "evalue": "name 'sns' is not defined",
     "output_type": "error",
     "traceback": [
      "\u001b[1;31m---------------------------------------------------------------------------\u001b[0m",
      "\u001b[1;31mNameError\u001b[0m                                 Traceback (most recent call last)",
      "\u001b[1;32m<ipython-input-130-a2481132b308>\u001b[0m in \u001b[0;36m<module>\u001b[1;34m\u001b[0m\n\u001b[0;32m      6\u001b[0m \u001b[1;33m\u001b[0m\u001b[0m\n\u001b[0;32m      7\u001b[0m \u001b[1;31m#Plot the graph for the sum of square distance values and Number of Clusters\u001b[0m\u001b[1;33m\u001b[0m\u001b[1;33m\u001b[0m\u001b[1;33m\u001b[0m\u001b[0m\n\u001b[1;32m----> 8\u001b[1;33m \u001b[0msns\u001b[0m\u001b[1;33m.\u001b[0m\u001b[0mpointplot\u001b[0m\u001b[1;33m(\u001b[0m\u001b[0mx\u001b[0m \u001b[1;33m=\u001b[0m \u001b[0mlist\u001b[0m\u001b[1;33m(\u001b[0m\u001b[0msum_of_sq_dist\u001b[0m\u001b[1;33m.\u001b[0m\u001b[0mkeys\u001b[0m\u001b[1;33m(\u001b[0m\u001b[1;33m)\u001b[0m\u001b[1;33m)\u001b[0m\u001b[1;33m,\u001b[0m \u001b[0my\u001b[0m \u001b[1;33m=\u001b[0m \u001b[0mlist\u001b[0m\u001b[1;33m(\u001b[0m\u001b[0msum_of_sq_dist\u001b[0m\u001b[1;33m.\u001b[0m\u001b[0mvalues\u001b[0m\u001b[1;33m(\u001b[0m\u001b[1;33m)\u001b[0m\u001b[1;33m)\u001b[0m\u001b[1;33m)\u001b[0m\u001b[1;33m\u001b[0m\u001b[1;33m\u001b[0m\u001b[0m\n\u001b[0m\u001b[0;32m      9\u001b[0m \u001b[0mplt\u001b[0m\u001b[1;33m.\u001b[0m\u001b[0mxlabel\u001b[0m\u001b[1;33m(\u001b[0m\u001b[1;34m'Number of Clusters(k)'\u001b[0m\u001b[1;33m)\u001b[0m\u001b[1;33m\u001b[0m\u001b[1;33m\u001b[0m\u001b[0m\n\u001b[0;32m     10\u001b[0m \u001b[0mplt\u001b[0m\u001b[1;33m.\u001b[0m\u001b[0mylabel\u001b[0m\u001b[1;33m(\u001b[0m\u001b[1;34m'Sum of Square Distances'\u001b[0m\u001b[1;33m)\u001b[0m\u001b[1;33m\u001b[0m\u001b[1;33m\u001b[0m\u001b[0m\n",
      "\u001b[1;31mNameError\u001b[0m: name 'sns' is not defined"
     ]
    }
   ],
   "source": [
    "sum_of_sq_dist = {}\n",
    "for k in tqdm(range(1,15)):\n",
    "    km = KMeans(n_clusters= k, init= 'k-means++', max_iter= 1000)\n",
    "    km = km.fit(vector)\n",
    "    sum_of_sq_dist[k] = km.inertia_\n",
    "    \n"
   ]
  },
  {
   "cell_type": "code",
   "execution_count": 132,
   "metadata": {},
   "outputs": [
    {
     "data": {
      "image/png": "[encoded data removed]",
      "text/plain": [
       "<Figure size 432x288 with 1 Axes>"
      ]
     },
     "metadata": {
      "needs_background": "light"
     },
     "output_type": "display_data"
    }
   ],
   "source": [
    "#Plot the graph for the sum of square distance values and Number of Clusters\n",
    "sns.pointplot(x = list(sum_of_sq_dist.keys()), y = list(sum_of_sq_dist.values()))\n",
    "plt.xlabel('Number of Clusters(k)')\n",
    "plt.ylabel('Sum of Square Distances')\n",
    "plt.title('Elbow Method For Optimal k')\n",
    "plt.show()"
   ]
  },
  {
   "cell_type": "code",
   "execution_count": 133,
   "metadata": {},
   "outputs": [],
   "source": [
    "true_k = 5\n",
    "model = KMeans(n_clusters=true_k, init='k-means++', max_iter=100, n_init=10)\n",
    "model.fit(vector)\n",
    "#DefectNew['Defect Summary_Vec'] = DefectNew['Defect Summary'].apply(lambda x: model.predict(tfidf.transform(x)))\n",
    "DefectNew['Defect Summary_Vec'] = model.predict(tfidf.transform(DefectNew['Defect Summary']))"
   ]
  },
  {
   "cell_type": "code",
   "execution_count": 109,
   "metadata": {},
   "outputs": [],
   "source": [
    "# true_k = 4\n",
    "# model = KMeans(n_clusters=true_k, init='k-means++', max_iter=100, n_init=1)\n",
    "# model.fit(vector)\n",
    "\n",
    "# print(\"Top terms per cluster:\")\n",
    "# order_centroids = model.cluster_centers_.argsort()[:, ::-1]\n",
    "# terms = tfidf.get_feature_names()\n",
    "# for i in range(true_k):\n",
    "#     print(\"Cluster %d:\" % i),\n",
    "#     for ind in order_centroids[i, :10]:\n",
    "#         print(' %s' % terms[ind]),\n",
    "#     print\n",
    "\n",
    "# print(\"\\n\")\n",
    "# print(\"Prediction\")\n",
    "\n",
    "# Y = tfidf.transform([\"Approved status instead of pending\"])\n",
    "# prediction = model.predict(Y)\n",
    "# print(prediction)\n",
    "\n",
    "# Y = tfidf.transform([\"System slowness issue\"])\n",
    "# prediction = model.predict(Y)\n",
    "# print(prediction)"
   ]
  },
  {
   "cell_type": "code",
   "execution_count": 135,
   "metadata": {},
   "outputs": [
    {
     "name": "stderr",
     "output_type": "stream",
     "text": [
      "100%|██████████████████████████████████████████████████████████████████████████████████| 14/14 [00:04<00:00,  2.88it/s]\n"
     ]
    },
    {
     "data": {
      "image/png": "[encoded data removed]",
      "text/plain": [
       "<Figure size 432x288 with 1 Axes>"
      ]
     },
     "metadata": {
      "needs_background": "light"
     },
     "output_type": "display_data"
    }
   ],
   "source": [
    "#text = DefectNew['Subject']\n",
    "tfidf = TfidfVectorizer()\n",
    "#vector = tfidf.fit_transform(text)\n",
    "vector = tfidf.fit_transform(DefectNew['Subject'])\n",
    "#DefectNew['Subject_Vec'] = list(vector.toarray())\n",
    "sum_of_sq_dist = {}\n",
    "for k in tqdm(range(1,15)):\n",
    "    km = KMeans(n_clusters= k, init= 'k-means++', max_iter= 1000)\n",
    "    km = km.fit(vector)\n",
    "    sum_of_sq_dist[k] = km.inertia_\n",
    "    \n",
    "#Plot the graph for the sum of square distance values and Number of Clusters\n",
    "sns.pointplot(x = list(sum_of_sq_dist.keys()), y = list(sum_of_sq_dist.values()))\n",
    "plt.xlabel('Number of Clusters(k)')\n",
    "plt.ylabel('Sum of Square Distances')\n",
    "plt.title('Elbow Method For Optimal k')\n",
    "plt.show()"
   ]
  },
  {
   "cell_type": "code",
   "execution_count": 136,
   "metadata": {},
   "outputs": [],
   "source": [
    "true_k = 4\n",
    "model = KMeans(n_clusters=true_k, init='k-means++', max_iter=100, n_init=1)\n",
    "model.fit(vector)\n",
    "#DefectNew['Defect Summary_Vec'] = DefectNew['Defect Summary'].apply(lambda x: model.predict(tfidf.transform(x)))\n",
    "DefectNew['Subject_Vec'] = model.predict(tfidf.transform(DefectNew['Subject']))"
   ]
  },
  {
   "cell_type": "code",
   "execution_count": 137,
   "metadata": {},
   "outputs": [
    {
     "name": "stderr",
     "output_type": "stream",
     "text": [
      "100%|██████████████████████████████████████████████████████████████████████████████████| 14/14 [00:26<00:00,  1.88s/it]\n"
     ]
    },
    {
     "data": {
      "image/png": "[encoded data removed]",
      "text/plain": [
       "<Figure size 432x288 with 1 Axes>"
      ]
     },
     "metadata": {
      "needs_background": "light"
     },
     "output_type": "display_data"
    }
   ],
   "source": [
    "#text = DefectNew['Dev Comments']\n",
    "tfidf = TfidfVectorizer()\n",
    "vector = tfidf.fit_transform(DefectNew['Dev Comments'])\n",
    "#DefectNew['Dev Comments_Vec'] = list(vector.toarray())\n",
    "sum_of_sq_dist = {}\n",
    "for k in tqdm(range(1,15)):\n",
    "    km = KMeans(n_clusters= k, init= 'k-means++', max_iter= 1000)\n",
    "    km = km.fit(vector)\n",
    "    sum_of_sq_dist[k] = km.inertia_\n",
    "    \n",
    "#Plot the graph for the sum of square distance values and Number of Clusters\n",
    "sns.pointplot(x = list(sum_of_sq_dist.keys()), y = list(sum_of_sq_dist.values()))\n",
    "plt.xlabel('Number of Clusters(k)')\n",
    "plt.ylabel('Sum of Square Distances')\n",
    "plt.title('Elbow Method For Optimal k')\n",
    "plt.show()"
   ]
  },
  {
   "cell_type": "code",
   "execution_count": 138,
   "metadata": {},
   "outputs": [],
   "source": [
    "true_k = 5\n",
    "model = KMeans(n_clusters=true_k, init='k-means++', max_iter=100, n_init=1)\n",
    "model.fit(vector)\n",
    "#DefectNew['Defect Summary_Vec'] = DefectNew['Defect Summary'].apply(lambda x: model.predict(tfidf.transform(x)))\n",
    "DefectNew['Dev Comments_Vec'] = model.predict(tfidf.transform(DefectNew['Dev Comments']))"
   ]
  },
  {
   "cell_type": "code",
   "execution_count": 139,
   "metadata": {},
   "outputs": [
    {
     "name": "stderr",
     "output_type": "stream",
     "text": [
      "100%|██████████████████████████████████████████████████████████████████████████████████| 14/14 [02:32<00:00, 10.92s/it]\n"
     ]
    },
    {
     "data": {
      "image/png": "[encoded data removed]",
      "text/plain": [
       "<Figure size 432x288 with 1 Axes>"
      ]
     },
     "metadata": {
      "needs_background": "light"
     },
     "output_type": "display_data"
    }
   ],
   "source": [
    "#text = DefectNew['Description']\n",
    "tfidf = TfidfVectorizer()\n",
    "vector = tfidf.fit_transform(DefectNew['Description'])\n",
    "#DefectNew['Description_Vec'] = list(vector.toarray())\n",
    "sum_of_sq_dist = {}\n",
    "for k in tqdm(range(1,15)):\n",
    "    km = KMeans(n_clusters= k, init= 'k-means++', max_iter= 1000)\n",
    "    km = km.fit(vector)\n",
    "    sum_of_sq_dist[k] = km.inertia_\n",
    "    \n",
    "#Plot the graph for the sum of square distance values and Number of Clusters\n",
    "sns.pointplot(x = list(sum_of_sq_dist.keys()), y = list(sum_of_sq_dist.values()))\n",
    "plt.xlabel('Number of Clusters(k)')\n",
    "plt.ylabel('Sum of Square Distances')\n",
    "plt.title('Elbow Method For Optimal k')\n",
    "plt.show()"
   ]
  },
  {
   "cell_type": "code",
   "execution_count": 140,
   "metadata": {},
   "outputs": [],
   "source": [
    "true_k = 6\n",
    "model = KMeans(n_clusters=true_k, init='k-means++', max_iter=100, n_init=1)\n",
    "model.fit(vector)\n",
    "#DefectNew['Defect Summary_Vec'] = DefectNew['Defect Summary'].apply(lambda x: model.predict(tfidf.transform(x)))\n",
    "DefectNew['Description_Vec'] = model.predict(tfidf.transform(DefectNew['Description']))"
   ]
  },
  {
   "cell_type": "code",
   "execution_count": 141,
   "metadata": {},
   "outputs": [],
   "source": [
    "DefectNew.drop(['Defect Summary','Subject','Dev Comments','Description'], axis = 1, inplace= True)"
   ]
  },
  {
   "cell_type": "code",
   "execution_count": 142,
   "metadata": {},
   "outputs": [
    {
     "data": {
      "text/html": [
       "<div>\n",
       "<style scoped>\n",
       "    .dataframe tbody tr th:only-of-type {\n",
       "        vertical-align: middle;\n",
       "    }\n",
       "\n",
       "    .dataframe tbody tr th {\n",
       "        vertical-align: top;\n",
       "    }\n",
       "\n",
       "    .dataframe thead th {\n",
       "        text-align: right;\n",
       "    }\n",
       "</style>\n",
       "<table border=\"1\" class=\"dataframe\">\n",
       "  <thead>\n",
       "    <tr style=\"text-align: right;\">\n",
       "      <th></th>\n",
       "      <th>Status</th>\n",
       "      <th>Severity</th>\n",
       "      <th>Priority</th>\n",
       "      <th>Actual Fix Time</th>\n",
       "      <th>Detected in Phase</th>\n",
       "      <th>Root Cause</th>\n",
       "      <th>Detected in Cycle</th>\n",
       "      <th>Application under Test</th>\n",
       "      <th>year</th>\n",
       "      <th>month</th>\n",
       "      <th>Defect Summary_Vec</th>\n",
       "      <th>Subject_Vec</th>\n",
       "      <th>Dev Comments_Vec</th>\n",
       "      <th>Description_Vec</th>\n",
       "    </tr>\n",
       "    <tr>\n",
       "      <th>Defect ID</th>\n",
       "      <th></th>\n",
       "      <th></th>\n",
       "      <th></th>\n",
       "      <th></th>\n",
       "      <th></th>\n",
       "      <th></th>\n",
       "      <th></th>\n",
       "      <th></th>\n",
       "      <th></th>\n",
       "      <th></th>\n",
       "      <th></th>\n",
       "      <th></th>\n",
       "      <th></th>\n",
       "      <th></th>\n",
       "    </tr>\n",
       "  </thead>\n",
       "  <tbody>\n",
       "    <tr>\n",
       "      <th>54</th>\n",
       "      <td>7</td>\n",
       "      <td>3</td>\n",
       "      <td>3</td>\n",
       "      <td>11</td>\n",
       "      <td>3</td>\n",
       "      <td>1</td>\n",
       "      <td>9</td>\n",
       "      <td>7</td>\n",
       "      <td>2016</td>\n",
       "      <td>1</td>\n",
       "      <td>1</td>\n",
       "      <td>1</td>\n",
       "      <td>4</td>\n",
       "      <td>5</td>\n",
       "    </tr>\n",
       "    <tr>\n",
       "      <th>74</th>\n",
       "      <td>5</td>\n",
       "      <td>4</td>\n",
       "      <td>3</td>\n",
       "      <td>7</td>\n",
       "      <td>5</td>\n",
       "      <td>4</td>\n",
       "      <td>9</td>\n",
       "      <td>7</td>\n",
       "      <td>2016</td>\n",
       "      <td>2</td>\n",
       "      <td>1</td>\n",
       "      <td>1</td>\n",
       "      <td>2</td>\n",
       "      <td>1</td>\n",
       "    </tr>\n",
       "    <tr>\n",
       "      <th>10</th>\n",
       "      <td>3</td>\n",
       "      <td>2</td>\n",
       "      <td>2</td>\n",
       "      <td>6</td>\n",
       "      <td>3</td>\n",
       "      <td>8</td>\n",
       "      <td>1</td>\n",
       "      <td>2</td>\n",
       "      <td>2016</td>\n",
       "      <td>2</td>\n",
       "      <td>3</td>\n",
       "      <td>3</td>\n",
       "      <td>0</td>\n",
       "      <td>2</td>\n",
       "    </tr>\n",
       "    <tr>\n",
       "      <th>5</th>\n",
       "      <td>4</td>\n",
       "      <td>3</td>\n",
       "      <td>3</td>\n",
       "      <td>7</td>\n",
       "      <td>0</td>\n",
       "      <td>4</td>\n",
       "      <td>11</td>\n",
       "      <td>4</td>\n",
       "      <td>2016</td>\n",
       "      <td>3</td>\n",
       "      <td>0</td>\n",
       "      <td>0</td>\n",
       "      <td>2</td>\n",
       "      <td>3</td>\n",
       "    </tr>\n",
       "    <tr>\n",
       "      <th>14</th>\n",
       "      <td>1</td>\n",
       "      <td>3</td>\n",
       "      <td>3</td>\n",
       "      <td>5</td>\n",
       "      <td>4</td>\n",
       "      <td>4</td>\n",
       "      <td>5</td>\n",
       "      <td>0</td>\n",
       "      <td>2016</td>\n",
       "      <td>3</td>\n",
       "      <td>3</td>\n",
       "      <td>0</td>\n",
       "      <td>0</td>\n",
       "      <td>2</td>\n",
       "    </tr>\n",
       "  </tbody>\n",
       "</table>\n",
       "</div>"
      ],
      "text/plain": [
       "           Status  Severity  Priority  Actual Fix Time  Detected in Phase  \\\n",
       "Defect ID                                                                   \n",
       "54              7         3         3               11                  3   \n",
       "74              5         4         3                7                  5   \n",
       "10              3         2         2                6                  3   \n",
       "5               4         3         3                7                  0   \n",
       "14              1         3         3                5                  4   \n",
       "\n",
       "           Root Cause  Detected in Cycle  Application under Test  year  month  \\\n",
       "Defect ID                                                                       \n",
       "54                  1                  9                       7  2016      1   \n",
       "74                  4                  9                       7  2016      2   \n",
       "10                  8                  1                       2  2016      2   \n",
       "5                   4                 11                       4  2016      3   \n",
       "14                  4                  5                       0  2016      3   \n",
       "\n",
       "           Defect Summary_Vec  Subject_Vec  Dev Comments_Vec  Description_Vec  \n",
       "Defect ID                                                                      \n",
       "54                          1            1                 4                5  \n",
       "74                          1            1                 2                1  \n",
       "10                          3            3                 0                2  \n",
       "5                           0            0                 2                3  \n",
       "14                          3            0                 0                2  "
      ]
     },
     "execution_count": 142,
     "metadata": {},
     "output_type": "execute_result"
    }
   ],
   "source": [
    "DefectNew.head()"
   ]
  },
  {
   "cell_type": "code",
   "execution_count": 184,
   "metadata": {},
   "outputs": [],
   "source": [
    "TrainDf = DefectNew[DefectNew['year']!=2020]"
   ]
  },
  {
   "cell_type": "code",
   "execution_count": 185,
   "metadata": {},
   "outputs": [],
   "source": [
    "TestDf = DefectNew[DefectNew['year']==2020]"
   ]
  },
  {
   "cell_type": "code",
   "execution_count": 186,
   "metadata": {},
   "outputs": [],
   "source": [
    "TrainDf.drop('year', axis = 1, inplace= True)\n",
    "TestDf.drop('year', axis = 1, inplace= True)"
   ]
  },
  {
   "cell_type": "code",
   "execution_count": 187,
   "metadata": {},
   "outputs": [],
   "source": [
    "x = TrainDf.drop('Detected in Phase', axis = 1)\n",
    "y = TrainDf['Detected in Phase']"
   ]
  },
  {
   "cell_type": "code",
   "execution_count": 188,
   "metadata": {},
   "outputs": [],
   "source": [
    "X_train,X_test,y_train,y_test = train_test_split(x,y,test_size=0.3,random_state=42)"
   ]
  },
  {
   "cell_type": "code",
   "execution_count": 189,
   "metadata": {},
   "outputs": [],
   "source": [
    "rf = RandomForestClassifier(random_state=72, max_depth = 25)"
   ]
  },
  {
   "cell_type": "code",
   "execution_count": 190,
   "metadata": {},
   "outputs": [
    {
     "data": {
      "text/plain": [
       "RandomForestClassifier(bootstrap=True, ccp_alpha=0.0, class_weight=None,\n",
       "                       criterion='gini', max_depth=25, max_features='auto',\n",
       "                       max_leaf_nodes=None, max_samples=None,\n",
       "                       min_impurity_decrease=0.0, min_impurity_split=None,\n",
       "                       min_samples_leaf=1, min_samples_split=2,\n",
       "                       min_weight_fraction_leaf=0.0, n_estimators=100,\n",
       "                       n_jobs=None, oob_score=False, random_state=72, verbose=0,\n",
       "                       warm_start=False)"
      ]
     },
     "execution_count": 190,
     "metadata": {},
     "output_type": "execute_result"
    }
   ],
   "source": [
    "rf.fit(X_train,y_train)"
   ]
  },
  {
   "cell_type": "code",
   "execution_count": 191,
   "metadata": {},
   "outputs": [],
   "source": [
    "y_pred = rf.predict(X_test)"
   ]
  },
  {
   "cell_type": "code",
   "execution_count": 192,
   "metadata": {},
   "outputs": [
    {
     "data": {
      "text/plain": [
       "0.4583333333333333"
      ]
     },
     "execution_count": 192,
     "metadata": {},
     "output_type": "execute_result"
    }
   ],
   "source": [
    "accuracy_score(y_test,y_pred)"
   ]
  },
  {
   "cell_type": "code",
   "execution_count": 193,
   "metadata": {},
   "outputs": [
    {
     "data": {
      "text/plain": [
       "array([4, 3, 3, 3, 2, 3, 3, 3, 4, 4, 3, 5, 3, 3, 3, 3, 3, 3, 3, 2, 4, 5,\n",
       "       3, 3])"
      ]
     },
     "execution_count": 193,
     "metadata": {},
     "output_type": "execute_result"
    }
   ],
   "source": [
    "y_pred"
   ]
  },
  {
   "cell_type": "code",
   "execution_count": 194,
   "metadata": {},
   "outputs": [],
   "source": [
    "x_testdf = TestDf.drop('Detected in Phase', axis = 1)\n",
    "y_testdf = TestDf['Detected in Phase']"
   ]
  },
  {
   "cell_type": "code",
   "execution_count": 195,
   "metadata": {},
   "outputs": [],
   "source": [
    "y_pred_test = rf.predict(x_testdf)"
   ]
  },
  {
   "cell_type": "code",
   "execution_count": 196,
   "metadata": {},
   "outputs": [
    {
     "data": {
      "text/plain": [
       "0.5454545454545454"
      ]
     },
     "execution_count": 196,
     "metadata": {},
     "output_type": "execute_result"
    }
   ],
   "source": [
    "accuracy_score(y_testdf,y_pred_test)"
   ]
  },
  {
   "cell_type": "code",
   "execution_count": 197,
   "metadata": {},
   "outputs": [
    {
     "data": {
      "text/plain": [
       "<BarContainer object of 12 artists>"
      ]
     },
     "execution_count": 197,
     "metadata": {},
     "output_type": "execute_result"
    },
    {
     "data": {
      "image/png": "[encoded data removed]",
      "text/plain": [
       "<Figure size 432x288 with 1 Axes>"
      ]
     },
     "metadata": {
      "needs_background": "light"
     },
     "output_type": "display_data"
    }
   ],
   "source": [
    "plt.barh(list(x),list(rf.feature_importances_))"
   ]
  },
  {
   "cell_type": "code",
   "execution_count": 200,
   "metadata": {},
   "outputs": [
    {
     "name": "stdout",
     "output_type": "stream",
     "text": [
      "Requirement already satisfied: flask in c:\\users\\durve\\anaconda3\\lib\\site-packages (1.1.1)\n",
      "Requirement already satisfied: Jinja2>=2.10.1 in c:\\users\\durve\\anaconda3\\lib\\site-packages (from flask) (2.10.1)\n",
      "Requirement already satisfied: Werkzeug>=0.15 in c:\\users\\durve\\anaconda3\\lib\\site-packages (from flask) (0.15.4)\n",
      "Requirement already satisfied: itsdangerous>=0.24 in c:\\users\\durve\\anaconda3\\lib\\site-packages (from flask) (1.1.0)\n",
      "Requirement already satisfied: click>=5.1 in c:\\users\\durve\\anaconda3\\lib\\site-packages (from flask) (7.0)\n",
      "Requirement already satisfied: MarkupSafe>=0.23 in c:\\users\\durve\\anaconda3\\lib\\site-packages (from Jinja2>=2.10.1->flask) (1.1.1)\n"
     ]
    }
   ],
   "source": [
    "!pip install flask"
   ]
  },
  {
   "cell_type": "code",
   "execution_count": null,
   "metadata": {},
   "outputs": [],
   "source": []
  }
 ],
 "metadata": {
  "kernelspec": {
   "display_name": "Python 3",
   "language": "python",
   "name": "python3"
  },
  "language_info": {
   "codemirror_mode": {
    "name": "ipython",
    "version": 3
   },
   "file_extension": ".py",
   "mimetype": "text/x-python",
   "name": "python",
   "nbconvert_exporter": "python",
   "pygments_lexer": "ipython3",
   "version": "3.7.3"
  }
 },
 "nbformat": 4,
 "nbformat_minor": 2
}
